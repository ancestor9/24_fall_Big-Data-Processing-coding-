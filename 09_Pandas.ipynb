{
  "cells": [
    {
      "cell_type": "markdown",
      "metadata": {
        "id": "view-in-github",
        "colab_type": "text"
      },
      "source": [
        "<a href=\"https://colab.research.google.com/github/ancestor9/24_fall_Big-Data-Processing-coding-/blob/main/09_Pandas.ipynb\" target=\"_parent\"><img src=\"https://colab.research.google.com/assets/colab-badge.svg\" alt=\"Open In Colab\"/></a>"
      ]
    },
    {
      "cell_type": "markdown",
      "metadata": {
        "id": "dwwRIb2TupFF"
      },
      "source": [
        "# Pandas"
      ]
    },
    {
      "cell_type": "markdown",
      "metadata": {
        "id": "BS_o0GhPupFI"
      },
      "source": [
        "## 데이터 타입\n",
        "\n",
        "* series\n",
        "* dataframe"
      ]
    },
    {
      "cell_type": "code",
      "execution_count": null,
      "metadata": {
        "id": "iMNUdqkcupFJ",
        "outputId": "97cdac19-9ad0-4464-ffee-a4012d57d7f6"
      },
      "outputs": [
        {
          "data": {
            "text/plain": [
              "<module 'pandas' from 'C:\\\\Users\\\\sir95\\\\anaconda3\\\\envs\\\\cpu_env\\\\lib\\\\site-packages\\\\pandas\\\\__init__.py'>"
            ]
          },
          "execution_count": 4,
          "metadata": {},
          "output_type": "execute_result"
        }
      ],
      "source": [
        "# module import\n",
        "import pandas as pd\n",
        "import numpy as np\n",
        "pd"
      ]
    },
    {
      "cell_type": "code",
      "execution_count": null,
      "metadata": {
        "id": "Uop6cKT1upFM",
        "outputId": "21221805-b0ef-4a87-bea4-4b6c24deaac3"
      },
      "outputs": [
        {
          "name": "stdout",
          "output_type": "stream",
          "text": [
            "0    10\n",
            "1    20\n",
            "2    30\n",
            "3    40\n",
            "4    50\n",
            "dtype: int64, \n",
            "==> type<class 'pandas.core.series.Series'>\n"
          ]
        }
      ],
      "source": [
        "s1 = pd.Series([10, 20, 30, 40, 50]) # sequential data\n",
        "print(\"{}, \\n==> type{}\".format(s1, type(s1)))"
      ]
    },
    {
      "cell_type": "code",
      "execution_count": null,
      "metadata": {
        "id": "kSAgU5DmupFN",
        "outputId": "5063dbea-5515-4379-92a0-be6155838664"
      },
      "outputs": [
        {
          "name": "stdout",
          "output_type": "stream",
          "text": [
            "0    0\n",
            "1    1\n",
            "2    2\n",
            "3    3\n",
            "4    4\n",
            "5    5\n",
            "6    6\n",
            "7    7\n",
            "8    8\n",
            "9    9\n",
            "dtype: int32, \n",
            "==> type<class 'pandas.core.series.Series'>\n"
          ]
        }
      ],
      "source": [
        "s2 = pd.Series(np.arange(10)) # ndarray로도 만들 수 있음.\n",
        "print(\"{}, \\n==> type{}\".format(s2, type(s2)))"
      ]
    },
    {
      "cell_type": "markdown",
      "metadata": {
        "id": "UZvu_UM_upFO"
      },
      "source": [
        "## Series\n",
        "\n",
        "* value + index\n",
        "* 내부적으로 numpy 배열을 사용하므로 연산 속도가 빠르다.\n",
        "* 데이터 타입 통일.\n",
        "* `NaN` 값도 value로 가능."
      ]
    },
    {
      "cell_type": "code",
      "execution_count": null,
      "metadata": {
        "id": "Ex5yWi4xupFP",
        "outputId": "f476915d-fa36-4d27-8d77-107e6362232a"
      },
      "outputs": [
        {
          "name": "stdout",
          "output_type": "stream",
          "text": [
            "RangeIndex(start=0, stop=5, step=1)\n"
          ]
        }
      ],
      "source": [
        "# 인덱스 확인\n",
        "print(s1.index) # 인덱스를 range로 만듦."
      ]
    },
    {
      "cell_type": "code",
      "execution_count": null,
      "metadata": {
        "id": "NkziTmgnupFP",
        "outputId": "ea0f8055-07ee-4ead-ce7f-d700bbe7ec2a"
      },
      "outputs": [
        {
          "name": "stdout",
          "output_type": "stream",
          "text": [
            "[10 20 30 40 50] ==> type:<class 'numpy.ndarray'>\n"
          ]
        }
      ],
      "source": [
        "# values 확인\n",
        "print(f\"{s1.values} ==> type:{type(s1.values)}\")"
      ]
    },
    {
      "cell_type": "code",
      "execution_count": null,
      "metadata": {
        "id": "CQTtle12upFQ",
        "outputId": "0aa26a08-6e82-4a99-ad15-cd3f640e226a"
      },
      "outputs": [
        {
          "name": "stdout",
          "output_type": "stream",
          "text": [
            "0       a\n",
            "1       b\n",
            "2    True\n",
            "3       1\n",
            "4       2\n",
            "5       3\n",
            "dtype: object\n"
          ]
        }
      ],
      "source": [
        "# 데이터 타입\n",
        "s3 = pd.Series(['a', 'b', True, 1, 2, 3])\n",
        "print(s3) # type: object"
      ]
    },
    {
      "cell_type": "code",
      "execution_count": null,
      "metadata": {
        "id": "SPun_PenupFR",
        "outputId": "398f3691-3627-414c-eb95-68783e2e2068"
      },
      "outputs": [
        {
          "name": "stdout",
          "output_type": "stream",
          "text": [
            "hello        a\n",
            "my           b\n",
            "name      True\n",
            "is           1\n",
            "S            2\n",
            "Eraser       3\n",
            "dtype: object\n",
            "Index(['hello', 'my', 'name', 'is', 'S', 'Eraser'], dtype='object')\n",
            "['a' 'b' True 1 2 3]\n"
          ]
        }
      ],
      "source": [
        "# 인덱스 설정 가능\n",
        "s4 = pd.Series(['a', 'b', True, 1, 2, 3],\n",
        "              index = ['hello', 'my', 'name', 'is', 'S', 'Eraser'])\n",
        "print(s4)\n",
        "print(s4.index)\n",
        "print(s4.values)"
      ]
    },
    {
      "cell_type": "code",
      "execution_count": null,
      "metadata": {
        "id": "xVcXLR0jupFS",
        "outputId": "dca2711b-1d60-4c34-a62c-bd28d03c1d2f"
      },
      "outputs": [
        {
          "name": "stdout",
          "output_type": "stream",
          "text": [
            "국어        100\n",
            "영어         95\n",
            "Python     70\n",
            "dtype: int64\n",
            "index Index(['국어', '영어', 'Python'], dtype='object')\n",
            "value [100  95  70]\n"
          ]
        }
      ],
      "source": [
        "# dictionary로 series 생성\n",
        "scores = {\n",
        "    '국어': 100,\n",
        "    '영어': 95,\n",
        "    'Python': 70\n",
        "}\n",
        "\n",
        "scores_S = pd.Series(scores)\n",
        "print(scores_S)\n",
        "print(\"index\", scores_S.index)\n",
        "print(\"value\", scores_S.values)"
      ]
    },
    {
      "cell_type": "code",
      "execution_count": null,
      "metadata": {
        "id": "DCR9wM0NupFT",
        "outputId": "ee4337c2-b353-4a54-887a-ca023183b1ec"
      },
      "outputs": [
        {
          "name": "stdout",
          "output_type": "stream",
          "text": [
            "2020-01-01    200\n",
            "2020-01-02    195\n",
            "dtype: int64\n",
            "Index(['2020-01-01', '2020-01-02'], dtype='object')\n"
          ]
        }
      ],
      "source": [
        "# 날짜 인덱스\n",
        "index_date = ['2020-01-01', '2020-01-02']\n",
        "s4 = pd.Series([200, 195], index=index_date)\n",
        "print(s4)\n",
        "print(s4.index)"
      ]
    },
    {
      "cell_type": "markdown",
      "metadata": {
        "id": "pkLsZ6ZNupFU"
      },
      "source": [
        "### date_range\n",
        "\n",
        " pandas에서 쉽게 날짜 인덱스를 생성할 수 있다.\n",
        "\n",
        "* `freq` : 날짜 간격."
      ]
    },
    {
      "cell_type": "code",
      "execution_count": null,
      "metadata": {
        "id": "L1mczYLuupFU",
        "outputId": "b0231802-1a2b-40ce-dd29-db110c1b9b63"
      },
      "outputs": [
        {
          "name": "stdout",
          "output_type": "stream",
          "text": [
            "DatetimeIndex(['2020-01-01', '2020-01-02', '2020-01-03', '2020-01-04',\n",
            "               '2020-01-05', '2020-01-06', '2020-01-07'],\n",
            "              dtype='datetime64[ns]', freq='D')\n",
            "DatetimeIndex(['2020-01-01', '2020-01-02', '2020-01-03', '2020-01-04',\n",
            "               '2020-01-05', '2020-01-06', '2020-01-07'],\n",
            "              dtype='datetime64[ns]', freq='D')\n",
            "DatetimeIndex(['2020-01-01', '2020-01-02', '2020-01-03', '2020-01-04',\n",
            "               '2020-01-05', '2020-01-06', '2020-01-07'],\n",
            "              dtype='datetime64[ns]', freq='D')\n",
            "DatetimeIndex(['2019-01-01', '2019-01-02', '2019-01-03', '2019-01-04',\n",
            "               '2019-01-05', '2019-01-06', '2019-01-07'],\n",
            "              dtype='datetime64[ns]', freq='D')\n",
            "DatetimeIndex(['2020-01-01', '2020-01-02', '2020-01-03', '2020-01-04',\n",
            "               '2020-01-05', '2020-01-06', '2020-01-07'],\n",
            "              dtype='datetime64[ns]', freq='D')\n",
            "DatetimeIndex(['2020-01-01', '2020-01-03', '2020-01-05', '2020-01-07',\n",
            "               '2020-01-09', '2020-01-11', '2020-01-13', '2020-01-15',\n",
            "               '2020-01-17', '2020-01-19'],\n",
            "              dtype='datetime64[ns]', freq='2D')\n",
            "DatetimeIndex(['2020-01-05', '2020-01-12', '2020-01-19', '2020-01-26',\n",
            "               '2020-02-02', '2020-02-09', '2020-02-16', '2020-02-23',\n",
            "               '2020-03-01', '2020-03-08'],\n",
            "              dtype='datetime64[ns]', freq='W-SUN')\n",
            "DatetimeIndex(['2020-01-07', '2020-01-14', '2020-01-21', '2020-01-28',\n",
            "               '2020-02-04', '2020-02-11', '2020-02-18', '2020-02-25',\n",
            "               '2020-03-03', '2020-03-10'],\n",
            "              dtype='datetime64[ns]', freq='W-TUE')\n",
            "DatetimeIndex(['2020-01-01', '2020-04-01', '2020-07-01', '2020-10-01',\n",
            "               '2021-01-01', '2021-04-01', '2021-07-01', '2021-10-01',\n",
            "               '2022-01-01', '2022-04-01'],\n",
            "              dtype='datetime64[ns]', freq='QS-JAN')\n",
            "DatetimeIndex(['2020-01-01', '2021-01-01', '2022-01-01', '2023-01-01',\n",
            "               '2024-01-01', '2025-01-01', '2026-01-01', '2027-01-01',\n",
            "               '2028-01-01', '2029-01-01'],\n",
            "              dtype='datetime64[ns]', freq='AS-JAN')\n"
          ]
        }
      ],
      "source": [
        "# 날짜 인덱스 생성\n",
        "\n",
        "date_1 = pd.date_range(start='2020-01-01', end='2020-01-07')\n",
        "print(date_1)\n",
        "\n",
        "# 형식이 달라도 가능\n",
        "print(pd.date_range(start='20200101', end='20200107'))\n",
        "print(pd.date_range(start='2020/01/01', end='2020/01/07'))\n",
        "print(pd.date_range(start='01-01-2019', end='01.07.2019'))\n",
        "\n",
        "# 기간 설정 : 일주일 기간\n",
        "print(pd.date_range(start='20200101', periods=7))\n",
        "\n",
        "# 간격 설정\n",
        "print(pd.date_range(start='2020-01-01', periods=10, freq='2D')) # 이틀 간격\n",
        "print(pd.date_range(start='2020-01-01', periods=10, freq='W')) # ???????????????????????????????????\n",
        "print(pd.date_range(start='2020-01-01', periods=10, freq='W-Tue')) # ?????????????????\n",
        "print(pd.date_range(start='2020-01-01', periods=10, freq='QS')) # 분기 시작점 10개\n",
        "print(pd.date_range(start='2020-01-01', periods=10, freq='AS')) # 1년 시작"
      ]
    },
    {
      "cell_type": "markdown",
      "metadata": {
        "id": "-8_aLnZlupFV"
      },
      "source": [
        "## dataframe"
      ]
    },
    {
      "cell_type": "code",
      "execution_count": null,
      "metadata": {
        "id": "w9IBWf82upFV",
        "outputId": "ee06083f-fab7-4334-e119-e8787de44dd0"
      },
      "outputs": [
        {
          "data": {
            "text/html": [
              "<div>\n",
              "<style scoped>\n",
              "    .dataframe tbody tr th:only-of-type {\n",
              "        vertical-align: middle;\n",
              "    }\n",
              "\n",
              "    .dataframe tbody tr th {\n",
              "        vertical-align: top;\n",
              "    }\n",
              "\n",
              "    .dataframe thead th {\n",
              "        text-align: right;\n",
              "    }\n",
              "</style>\n",
              "<table border=\"1\" class=\"dataframe\">\n",
              "  <thead>\n",
              "    <tr style=\"text-align: right;\">\n",
              "      <th></th>\n",
              "      <th>A</th>\n",
              "      <th>B</th>\n",
              "      <th>C</th>\n",
              "    </tr>\n",
              "  </thead>\n",
              "  <tbody>\n",
              "    <tr>\n",
              "      <th>2020-01-01</th>\n",
              "      <td>10</td>\n",
              "      <td>20</td>\n",
              "      <td>30</td>\n",
              "    </tr>\n",
              "    <tr>\n",
              "      <th>2020-01-02</th>\n",
              "      <td>40</td>\n",
              "      <td>50</td>\n",
              "      <td>60</td>\n",
              "    </tr>\n",
              "    <tr>\n",
              "      <th>2020-01-03</th>\n",
              "      <td>70</td>\n",
              "      <td>80</td>\n",
              "      <td>90</td>\n",
              "    </tr>\n",
              "  </tbody>\n",
              "</table>\n",
              "</div>"
            ],
            "text/plain": [
              "             A   B   C\n",
              "2020-01-01  10  20  30\n",
              "2020-01-02  40  50  60\n",
              "2020-01-03  70  80  90"
            ]
          },
          "metadata": {},
          "output_type": "display_data"
        }
      ],
      "source": [
        "# numpy의 array로 dataframe 생성\n",
        "\n",
        "data = np.array([[10, 20, 30], [40, 50, 60], [70, 80, 90]])\n",
        "index_date = pd.date_range('20200101', periods=3)\n",
        "columns = ['A', 'B', 'C']\n",
        "df = pd.DataFrame(data, index=index_date, columns=columns)\n",
        "display(df)"
      ]
    },
    {
      "cell_type": "code",
      "execution_count": null,
      "metadata": {
        "id": "IBIb4lgXupFW",
        "outputId": "ee015a32-7b80-4da1-8469-e419db4c671c"
      },
      "outputs": [
        {
          "data": {
            "text/html": [
              "<div>\n",
              "<style scoped>\n",
              "    .dataframe tbody tr th:only-of-type {\n",
              "        vertical-align: middle;\n",
              "    }\n",
              "\n",
              "    .dataframe tbody tr th {\n",
              "        vertical-align: top;\n",
              "    }\n",
              "\n",
              "    .dataframe thead th {\n",
              "        text-align: right;\n",
              "    }\n",
              "</style>\n",
              "<table border=\"1\" class=\"dataframe\">\n",
              "  <thead>\n",
              "    <tr style=\"text-align: right;\">\n",
              "      <th></th>\n",
              "      <th>고객 수</th>\n",
              "      <th>지사</th>\n",
              "      <th>연도</th>\n",
              "    </tr>\n",
              "  </thead>\n",
              "  <tbody>\n",
              "    <tr>\n",
              "      <th>0</th>\n",
              "      <td>300</td>\n",
              "      <td>한국</td>\n",
              "      <td>2015</td>\n",
              "    </tr>\n",
              "    <tr>\n",
              "      <th>1</th>\n",
              "      <td>400</td>\n",
              "      <td>중국</td>\n",
              "      <td>2016</td>\n",
              "    </tr>\n",
              "    <tr>\n",
              "      <th>2</th>\n",
              "      <td>500</td>\n",
              "      <td>한국</td>\n",
              "      <td>2017</td>\n",
              "    </tr>\n",
              "    <tr>\n",
              "      <th>3</th>\n",
              "      <td>600</td>\n",
              "      <td>일본</td>\n",
              "      <td>2018</td>\n",
              "    </tr>\n",
              "    <tr>\n",
              "      <th>4</th>\n",
              "      <td>700</td>\n",
              "      <td>미국</td>\n",
              "      <td>2018</td>\n",
              "    </tr>\n",
              "  </tbody>\n",
              "</table>\n",
              "</div>"
            ],
            "text/plain": [
              "   고객 수  지사    연도\n",
              "0   300  한국  2015\n",
              "1   400  중국  2016\n",
              "2   500  한국  2017\n",
              "3   600  일본  2018\n",
              "4   700  미국  2018"
            ]
          },
          "metadata": {},
          "output_type": "display_data"
        }
      ],
      "source": [
        "# dictionary로 dataframe 생성\n",
        "\n",
        "table_data = {\n",
        "    '연도': [2015, 2016, 2017, 2018, 2018],\n",
        "    '지사': ['한국', '중국', '한국', '일본', '미국'],\n",
        "    '고객 수': [100*(i+1) for i in range(2, 7)]\n",
        "}\n",
        "\n",
        "table_df = pd.DataFrame(table_data, columns=['고객 수', '지사', '연도']) # 컬럼 순서 변경 가능\n",
        "display(table_df)"
      ]
    },
    {
      "cell_type": "code",
      "execution_count": null,
      "metadata": {
        "id": "nHEcZ1IlupFW",
        "outputId": "19e7c74a-b3de-42b1-e405-5f574c9b0118"
      },
      "outputs": [
        {
          "name": "stdout",
          "output_type": "stream",
          "text": [
            "DatetimeIndex(['2020-01-01', '2020-01-02', '2020-01-03'], dtype='datetime64[ns]', freq='D')\n",
            "[[10 20 30]\n",
            " [40 50 60]\n",
            " [70 80 90]]\n",
            "Index(['A', 'B', 'C'], dtype='object')\n",
            "RangeIndex(start=0, stop=5, step=1)\n",
            "[[300 '한국' 2015]\n",
            " [400 '중국' 2016]\n",
            " [500 '한국' 2017]\n",
            " [600 '일본' 2018]\n",
            " [700 '미국' 2018]]\n",
            "Index(['고객 수', '지사', '연도'], dtype='object')\n"
          ]
        }
      ],
      "source": [
        "# index, value, column\n",
        "print(df.index)\n",
        "print(df.values) # values: numpy 배열\n",
        "print(df.columns)\n",
        "print(table_df.index)\n",
        "print(table_df.values)\n",
        "print(table_df.columns)"
      ]
    },
    {
      "cell_type": "code",
      "execution_count": null,
      "metadata": {
        "id": "HMZ8MJM8upFX",
        "outputId": "690aaff6-727f-4398-fffa-5be608e3d214"
      },
      "outputs": [
        {
          "data": {
            "text/html": [
              "<div>\n",
              "<style scoped>\n",
              "    .dataframe tbody tr th:only-of-type {\n",
              "        vertical-align: middle;\n",
              "    }\n",
              "\n",
              "    .dataframe tbody tr th {\n",
              "        vertical-align: top;\n",
              "    }\n",
              "\n",
              "    .dataframe thead th {\n",
              "        text-align: right;\n",
              "    }\n",
              "</style>\n",
              "<table border=\"1\" class=\"dataframe\">\n",
              "  <thead>\n",
              "    <tr style=\"text-align: right;\">\n",
              "      <th></th>\n",
              "      <th>2020-01-01</th>\n",
              "      <th>2020-01-02</th>\n",
              "      <th>2020-01-03</th>\n",
              "    </tr>\n",
              "  </thead>\n",
              "  <tbody>\n",
              "    <tr>\n",
              "      <th>A</th>\n",
              "      <td>10</td>\n",
              "      <td>40</td>\n",
              "      <td>70</td>\n",
              "    </tr>\n",
              "    <tr>\n",
              "      <th>B</th>\n",
              "      <td>20</td>\n",
              "      <td>50</td>\n",
              "      <td>80</td>\n",
              "    </tr>\n",
              "    <tr>\n",
              "      <th>C</th>\n",
              "      <td>30</td>\n",
              "      <td>60</td>\n",
              "      <td>90</td>\n",
              "    </tr>\n",
              "  </tbody>\n",
              "</table>\n",
              "</div>"
            ],
            "text/plain": [
              "   2020-01-01  2020-01-02  2020-01-03\n",
              "A          10          40          70\n",
              "B          20          50          80\n",
              "C          30          60          90"
            ]
          },
          "metadata": {},
          "output_type": "display_data"
        },
        {
          "data": {
            "text/html": [
              "<div>\n",
              "<style scoped>\n",
              "    .dataframe tbody tr th:only-of-type {\n",
              "        vertical-align: middle;\n",
              "    }\n",
              "\n",
              "    .dataframe tbody tr th {\n",
              "        vertical-align: top;\n",
              "    }\n",
              "\n",
              "    .dataframe thead th {\n",
              "        text-align: right;\n",
              "    }\n",
              "</style>\n",
              "<table border=\"1\" class=\"dataframe\">\n",
              "  <thead>\n",
              "    <tr style=\"text-align: right;\">\n",
              "      <th></th>\n",
              "      <th>0</th>\n",
              "      <th>1</th>\n",
              "      <th>2</th>\n",
              "      <th>3</th>\n",
              "      <th>4</th>\n",
              "    </tr>\n",
              "  </thead>\n",
              "  <tbody>\n",
              "    <tr>\n",
              "      <th>고객 수</th>\n",
              "      <td>300</td>\n",
              "      <td>400</td>\n",
              "      <td>500</td>\n",
              "      <td>600</td>\n",
              "      <td>700</td>\n",
              "    </tr>\n",
              "    <tr>\n",
              "      <th>지사</th>\n",
              "      <td>한국</td>\n",
              "      <td>중국</td>\n",
              "      <td>한국</td>\n",
              "      <td>일본</td>\n",
              "      <td>미국</td>\n",
              "    </tr>\n",
              "    <tr>\n",
              "      <th>연도</th>\n",
              "      <td>2015</td>\n",
              "      <td>2016</td>\n",
              "      <td>2017</td>\n",
              "      <td>2018</td>\n",
              "      <td>2018</td>\n",
              "    </tr>\n",
              "  </tbody>\n",
              "</table>\n",
              "</div>"
            ],
            "text/plain": [
              "         0     1     2     3     4\n",
              "고객 수   300   400   500   600   700\n",
              "지사      한국    중국    한국    일본    미국\n",
              "연도    2015  2016  2017  2018  2018"
            ]
          },
          "metadata": {},
          "output_type": "display_data"
        }
      ],
      "source": [
        "# 전치\n",
        "display(df.T)\n",
        "display(table_df.T)"
      ]
    },
    {
      "cell_type": "code",
      "execution_count": null,
      "metadata": {
        "id": "IZNzpKrzupFY",
        "outputId": "087ea963-b450-429c-e967-04198fee5dfe"
      },
      "outputs": [
        {
          "name": "stdout",
          "output_type": "stream",
          "text": [
            "0    2015\n",
            "1    2016\n",
            "2    2017\n",
            "3    2018\n",
            "4    2018\n",
            "Name: 연도, dtype: int64\n",
            "0    한국\n",
            "1    중국\n",
            "2    한국\n",
            "3    일본\n",
            "4    미국\n",
            "Name: 지사, dtype: object\n"
          ]
        }
      ],
      "source": [
        "# 접근\n",
        "print(table_df['연도'])\n",
        "print(table_df.지사)"
      ]
    },
    {
      "cell_type": "code",
      "execution_count": null,
      "metadata": {
        "id": "o6EceBKDupFY",
        "outputId": "171869d0-fa46-4f2f-b68c-d04cb472053a"
      },
      "outputs": [
        {
          "name": "stdout",
          "output_type": "stream",
          "text": [
            "0    2315\n",
            "1    2416\n",
            "2    2517\n",
            "3    2618\n",
            "4    2718\n",
            "dtype: int64\n"
          ]
        }
      ],
      "source": [
        "# 연산\n",
        "print(table_df.연도 + table_df['고객 수'])"
      ]
    },
    {
      "cell_type": "code",
      "execution_count": null,
      "metadata": {
        "id": "O5_01huRupFZ",
        "outputId": "78d4386e-53be-4b32-88b1-c9a1ca4b52ce"
      },
      "outputs": [
        {
          "name": "stdout",
          "output_type": "stream",
          "text": [
            "[ 6  8  9 10 11 12]\n",
            "0     3.0\n",
            "1     6.0\n",
            "2     8.0\n",
            "3    10.0\n",
            "4    13.0\n",
            "5     NaN\n",
            "6     NaN\n",
            "dtype: float64\n"
          ]
        }
      ],
      "source": [
        "# 크기가 안 맞는 series 연산\n",
        "arr = np.array([3, 5, 6, 7, 8, 9])\n",
        "print(arr + 3) # broadcasting\n",
        "s1 = pd.Series([0, 1, 2, 3, 5])\n",
        "s2 = pd.Series([3, 5, 6, 7, 8, 9, 30])\n",
        "print(s1 + s2) # NaN 반환"
      ]
    },
    {
      "cell_type": "code",
      "execution_count": null,
      "metadata": {
        "id": "sw6jF_PEupFZ",
        "outputId": "5799ab8c-b528-4c94-d0ba-5bc62f3f6cfd"
      },
      "outputs": [
        {
          "data": {
            "text/html": [
              "<div>\n",
              "<style scoped>\n",
              "    .dataframe tbody tr th:only-of-type {\n",
              "        vertical-align: middle;\n",
              "    }\n",
              "\n",
              "    .dataframe tbody tr th {\n",
              "        vertical-align: top;\n",
              "    }\n",
              "\n",
              "    .dataframe thead th {\n",
              "        text-align: right;\n",
              "    }\n",
              "</style>\n",
              "<table border=\"1\" class=\"dataframe\">\n",
              "  <thead>\n",
              "    <tr style=\"text-align: right;\">\n",
              "      <th></th>\n",
              "      <th>A</th>\n",
              "      <th>B</th>\n",
              "      <th>C</th>\n",
              "    </tr>\n",
              "  </thead>\n",
              "  <tbody>\n",
              "    <tr>\n",
              "      <th>2020-01-01</th>\n",
              "      <td>10</td>\n",
              "      <td>20</td>\n",
              "      <td>30</td>\n",
              "    </tr>\n",
              "    <tr>\n",
              "      <th>2020-01-02</th>\n",
              "      <td>40</td>\n",
              "      <td>50</td>\n",
              "      <td>60</td>\n",
              "    </tr>\n",
              "    <tr>\n",
              "      <th>2020-01-03</th>\n",
              "      <td>70</td>\n",
              "      <td>80</td>\n",
              "      <td>90</td>\n",
              "    </tr>\n",
              "  </tbody>\n",
              "</table>\n",
              "</div>"
            ],
            "text/plain": [
              "             A   B   C\n",
              "2020-01-01  10  20  30\n",
              "2020-01-02  40  50  60\n",
              "2020-01-03  70  80  90"
            ]
          },
          "metadata": {},
          "output_type": "display_data"
        },
        {
          "data": {
            "text/html": [
              "<div>\n",
              "<style scoped>\n",
              "    .dataframe tbody tr th:only-of-type {\n",
              "        vertical-align: middle;\n",
              "    }\n",
              "\n",
              "    .dataframe tbody tr th {\n",
              "        vertical-align: top;\n",
              "    }\n",
              "\n",
              "    .dataframe thead th {\n",
              "        text-align: right;\n",
              "    }\n",
              "</style>\n",
              "<table border=\"1\" class=\"dataframe\">\n",
              "  <thead>\n",
              "    <tr style=\"text-align: right;\">\n",
              "      <th></th>\n",
              "      <th>A</th>\n",
              "      <th>B</th>\n",
              "      <th>C</th>\n",
              "    </tr>\n",
              "  </thead>\n",
              "  <tbody>\n",
              "    <tr>\n",
              "      <th>2020-01-01</th>\n",
              "      <td>100</td>\n",
              "      <td>20</td>\n",
              "      <td>3000</td>\n",
              "    </tr>\n",
              "    <tr>\n",
              "      <th>2020-01-02</th>\n",
              "      <td>40</td>\n",
              "      <td>50</td>\n",
              "      <td>60</td>\n",
              "    </tr>\n",
              "  </tbody>\n",
              "</table>\n",
              "</div>"
            ],
            "text/plain": [
              "              A   B     C\n",
              "2020-01-01  100  20  3000\n",
              "2020-01-02   40  50    60"
            ]
          },
          "metadata": {},
          "output_type": "display_data"
        },
        {
          "data": {
            "text/html": [
              "<div>\n",
              "<style scoped>\n",
              "    .dataframe tbody tr th:only-of-type {\n",
              "        vertical-align: middle;\n",
              "    }\n",
              "\n",
              "    .dataframe tbody tr th {\n",
              "        vertical-align: top;\n",
              "    }\n",
              "\n",
              "    .dataframe thead th {\n",
              "        text-align: right;\n",
              "    }\n",
              "</style>\n",
              "<table border=\"1\" class=\"dataframe\">\n",
              "  <thead>\n",
              "    <tr style=\"text-align: right;\">\n",
              "      <th></th>\n",
              "      <th>A</th>\n",
              "      <th>B</th>\n",
              "      <th>C</th>\n",
              "    </tr>\n",
              "  </thead>\n",
              "  <tbody>\n",
              "    <tr>\n",
              "      <th>2020-01-01</th>\n",
              "      <td>110.0</td>\n",
              "      <td>40.0</td>\n",
              "      <td>3030.0</td>\n",
              "    </tr>\n",
              "    <tr>\n",
              "      <th>2020-01-02</th>\n",
              "      <td>80.0</td>\n",
              "      <td>100.0</td>\n",
              "      <td>120.0</td>\n",
              "    </tr>\n",
              "    <tr>\n",
              "      <th>2020-01-03</th>\n",
              "      <td>NaN</td>\n",
              "      <td>NaN</td>\n",
              "      <td>NaN</td>\n",
              "    </tr>\n",
              "  </tbody>\n",
              "</table>\n",
              "</div>"
            ],
            "text/plain": [
              "                A      B       C\n",
              "2020-01-01  110.0   40.0  3030.0\n",
              "2020-01-02   80.0  100.0   120.0\n",
              "2020-01-03    NaN    NaN     NaN"
            ]
          },
          "metadata": {},
          "output_type": "display_data"
        }
      ],
      "source": [
        "# 데이터프레임 연산\n",
        "\n",
        "data1 = np.array([[10, 20, 30], [40, 50, 60], [70, 80, 90]])\n",
        "index_date = pd.date_range('20200101', periods=3)\n",
        "columns = ['A', 'B', 'C']\n",
        "df1 = pd.DataFrame(data1, index=index_date, columns=columns)\n",
        "display(df1)\n",
        "\n",
        "\n",
        "data2 = np.array([[100, 20, 3000], [40, 50, 60]])\n",
        "index_date = pd.date_range('20200101', periods=2)\n",
        "columns = ['A', 'B', 'C']\n",
        "df2 = pd.DataFrame(data2, index=index_date, columns=columns)\n",
        "display(df2)\n",
        "\n",
        "display(df1 + df2) # 안 맞는 부분은 NaN값으로 반환"
      ]
    },
    {
      "cell_type": "code",
      "execution_count": null,
      "metadata": {
        "id": "PAaYxCjFupFa",
        "outputId": "6348717e-53cc-41c8-a011-50774488ab7e"
      },
      "outputs": [
        {
          "data": {
            "text/html": [
              "<div>\n",
              "<style scoped>\n",
              "    .dataframe tbody tr th:only-of-type {\n",
              "        vertical-align: middle;\n",
              "    }\n",
              "\n",
              "    .dataframe tbody tr th {\n",
              "        vertical-align: top;\n",
              "    }\n",
              "\n",
              "    .dataframe thead th {\n",
              "        text-align: right;\n",
              "    }\n",
              "</style>\n",
              "<table border=\"1\" class=\"dataframe\">\n",
              "  <thead>\n",
              "    <tr style=\"text-align: right;\">\n",
              "      <th></th>\n",
              "      <th>경부선 KTX</th>\n",
              "      <th>호남선 KTX</th>\n",
              "      <th>경전선 KTX</th>\n",
              "      <th>전라선 KTX</th>\n",
              "      <th>동해선 KTX</th>\n",
              "    </tr>\n",
              "  </thead>\n",
              "  <tbody>\n",
              "    <tr>\n",
              "      <th>2011</th>\n",
              "      <td>39060</td>\n",
              "      <td>7313</td>\n",
              "      <td>390</td>\n",
              "      <td>0</td>\n",
              "      <td>NaN</td>\n",
              "    </tr>\n",
              "    <tr>\n",
              "      <th>2012</th>\n",
              "      <td>39896</td>\n",
              "      <td>6967</td>\n",
              "      <td>896</td>\n",
              "      <td>16</td>\n",
              "      <td>NaN</td>\n",
              "    </tr>\n",
              "    <tr>\n",
              "      <th>2013</th>\n",
              "      <td>42005</td>\n",
              "      <td>6873</td>\n",
              "      <td>4205</td>\n",
              "      <td>15</td>\n",
              "      <td>NaN</td>\n",
              "    </tr>\n",
              "    <tr>\n",
              "      <th>2014</th>\n",
              "      <td>43621</td>\n",
              "      <td>4131</td>\n",
              "      <td>4321</td>\n",
              "      <td>521</td>\n",
              "      <td>NaN</td>\n",
              "    </tr>\n",
              "    <tr>\n",
              "      <th>2015</th>\n",
              "      <td>41702</td>\n",
              "      <td>42302</td>\n",
              "      <td>702</td>\n",
              "      <td>4</td>\n",
              "      <td>13579.0</td>\n",
              "    </tr>\n",
              "    <tr>\n",
              "      <th>2016</th>\n",
              "      <td>41286</td>\n",
              "      <td>1386</td>\n",
              "      <td>486</td>\n",
              "      <td>56</td>\n",
              "      <td>NaN</td>\n",
              "    </tr>\n",
              "    <tr>\n",
              "      <th>2017</th>\n",
              "      <td>324270</td>\n",
              "      <td>3270</td>\n",
              "      <td>324270</td>\n",
              "      <td>324270</td>\n",
              "      <td>324270.0</td>\n",
              "    </tr>\n",
              "  </tbody>\n",
              "</table>\n",
              "</div>"
            ],
            "text/plain": [
              "      경부선 KTX  호남선 KTX  경전선 KTX  전라선 KTX   동해선 KTX\n",
              "2011    39060     7313      390        0       NaN\n",
              "2012    39896     6967      896       16       NaN\n",
              "2013    42005     6873     4205       15       NaN\n",
              "2014    43621     4131     4321      521       NaN\n",
              "2015    41702    42302      702        4   13579.0\n",
              "2016    41286     1386      486       56       NaN\n",
              "2017   324270     3270   324270   324270  324270.0"
            ]
          },
          "metadata": {},
          "output_type": "display_data"
        }
      ],
      "source": [
        "# 데이터프레임 요소 선택\n",
        "\n",
        "ktx_data = {\n",
        "    '경부선 KTX': [39060, 39896, 42005, 43621, 41702, 41286, 324270],\n",
        "    '호남선 KTX': [7313, 6967, 6873, 4131, 42302, 1386, 3270],\n",
        "    '경전선 KTX': [390, 896, 4205, 4321, 702, 486, 324270],\n",
        "    '전라선 KTX': [0, 16, 15, 521, 4, 56, 324270],\n",
        "    '동해선 KTX': [np.nan, np.nan, np.nan, np.nan, 13579, np.nan, 324270], # nan있으면 값은 실수로 맞춰진다.\n",
        "}\n",
        "\n",
        "col_list = ['경부선 KTX', '호남선 KTX', '경전선 KTX', '전라선 KTX', '동해선 KTX']\n",
        "idx_list = [str(2011+i) for i in range(0, 7)]\n",
        "\n",
        "ktx_df = pd.DataFrame(ktx_data, columns=col_list, index=idx_list)\n",
        "display(ktx_df)"
      ]
    },
    {
      "cell_type": "code",
      "execution_count": null,
      "metadata": {
        "id": "O04i-_NSupFb",
        "outputId": "6db073cd-6253-489d-df30-33ec7198cddc"
      },
      "outputs": [
        {
          "name": "stdout",
          "output_type": "stream",
          "text": [
            "2011      46763.0\n",
            "2012      47775.0\n",
            "2013      53098.0\n",
            "2014      52594.0\n",
            "2015      98289.0\n",
            "2016      43214.0\n",
            "2017    1300350.0\n",
            "dtype: float64\n",
            "경부선 KTX     81691.428571\n",
            "호남선 KTX     10320.285714\n",
            "경전선 KTX     47895.714286\n",
            "전라선 KTX     46411.714286\n",
            "동해선 KTX    168924.500000\n",
            "dtype: float64\n"
          ]
        }
      ],
      "source": [
        "# 연산\n",
        "print(ktx_df.sum(axis=1))\n",
        "print(ktx_df.mean(axis=0))"
      ]
    },
    {
      "cell_type": "code",
      "execution_count": null,
      "metadata": {
        "id": "NMh_0z2jupFc",
        "outputId": "644e9890-99f9-4802-9ea0-66ede4feb470"
      },
      "outputs": [
        {
          "data": {
            "text/html": [
              "<div>\n",
              "<style scoped>\n",
              "    .dataframe tbody tr th:only-of-type {\n",
              "        vertical-align: middle;\n",
              "    }\n",
              "\n",
              "    .dataframe tbody tr th {\n",
              "        vertical-align: top;\n",
              "    }\n",
              "\n",
              "    .dataframe thead th {\n",
              "        text-align: right;\n",
              "    }\n",
              "</style>\n",
              "<table border=\"1\" class=\"dataframe\">\n",
              "  <thead>\n",
              "    <tr style=\"text-align: right;\">\n",
              "      <th></th>\n",
              "      <th>경부선 KTX</th>\n",
              "      <th>호남선 KTX</th>\n",
              "      <th>경전선 KTX</th>\n",
              "      <th>전라선 KTX</th>\n",
              "      <th>동해선 KTX</th>\n",
              "    </tr>\n",
              "  </thead>\n",
              "  <tbody>\n",
              "    <tr>\n",
              "      <th>count</th>\n",
              "      <td>7.000000</td>\n",
              "      <td>7.000000</td>\n",
              "      <td>7.000000</td>\n",
              "      <td>7.000000</td>\n",
              "      <td>2.000000</td>\n",
              "    </tr>\n",
              "    <tr>\n",
              "      <th>mean</th>\n",
              "      <td>81691.428571</td>\n",
              "      <td>10320.285714</td>\n",
              "      <td>47895.714286</td>\n",
              "      <td>46411.714286</td>\n",
              "      <td>168924.500000</td>\n",
              "    </tr>\n",
              "    <tr>\n",
              "      <th>std</th>\n",
              "      <td>106977.242960</td>\n",
              "      <td>14276.071865</td>\n",
              "      <td>121881.823743</td>\n",
              "      <td>122524.131918</td>\n",
              "      <td>219691.712954</td>\n",
              "    </tr>\n",
              "    <tr>\n",
              "      <th>min</th>\n",
              "      <td>39060.000000</td>\n",
              "      <td>1386.000000</td>\n",
              "      <td>390.000000</td>\n",
              "      <td>0.000000</td>\n",
              "      <td>13579.000000</td>\n",
              "    </tr>\n",
              "    <tr>\n",
              "      <th>25%</th>\n",
              "      <td>40591.000000</td>\n",
              "      <td>3700.500000</td>\n",
              "      <td>594.000000</td>\n",
              "      <td>9.500000</td>\n",
              "      <td>91251.750000</td>\n",
              "    </tr>\n",
              "    <tr>\n",
              "      <th>50%</th>\n",
              "      <td>41702.000000</td>\n",
              "      <td>6873.000000</td>\n",
              "      <td>896.000000</td>\n",
              "      <td>16.000000</td>\n",
              "      <td>168924.500000</td>\n",
              "    </tr>\n",
              "    <tr>\n",
              "      <th>75%</th>\n",
              "      <td>42813.000000</td>\n",
              "      <td>7140.000000</td>\n",
              "      <td>4263.000000</td>\n",
              "      <td>288.500000</td>\n",
              "      <td>246597.250000</td>\n",
              "    </tr>\n",
              "    <tr>\n",
              "      <th>max</th>\n",
              "      <td>324270.000000</td>\n",
              "      <td>42302.000000</td>\n",
              "      <td>324270.000000</td>\n",
              "      <td>324270.000000</td>\n",
              "      <td>324270.000000</td>\n",
              "    </tr>\n",
              "  </tbody>\n",
              "</table>\n",
              "</div>"
            ],
            "text/plain": [
              "             경부선 KTX       호남선 KTX        경전선 KTX        전라선 KTX  \\\n",
              "count       7.000000      7.000000       7.000000       7.000000   \n",
              "mean    81691.428571  10320.285714   47895.714286   46411.714286   \n",
              "std    106977.242960  14276.071865  121881.823743  122524.131918   \n",
              "min     39060.000000   1386.000000     390.000000       0.000000   \n",
              "25%     40591.000000   3700.500000     594.000000       9.500000   \n",
              "50%     41702.000000   6873.000000     896.000000      16.000000   \n",
              "75%     42813.000000   7140.000000    4263.000000     288.500000   \n",
              "max    324270.000000  42302.000000  324270.000000  324270.000000   \n",
              "\n",
              "             동해선 KTX  \n",
              "count       2.000000  \n",
              "mean   168924.500000  \n",
              "std    219691.712954  \n",
              "min     13579.000000  \n",
              "25%     91251.750000  \n",
              "50%    168924.500000  \n",
              "75%    246597.250000  \n",
              "max    324270.000000  "
            ]
          },
          "metadata": {},
          "output_type": "display_data"
        },
        {
          "data": {
            "text/html": [
              "<div>\n",
              "<style scoped>\n",
              "    .dataframe tbody tr th:only-of-type {\n",
              "        vertical-align: middle;\n",
              "    }\n",
              "\n",
              "    .dataframe tbody tr th {\n",
              "        vertical-align: top;\n",
              "    }\n",
              "\n",
              "    .dataframe thead th {\n",
              "        text-align: right;\n",
              "    }\n",
              "</style>\n",
              "<table border=\"1\" class=\"dataframe\">\n",
              "  <thead>\n",
              "    <tr style=\"text-align: right;\">\n",
              "      <th></th>\n",
              "      <th>2011</th>\n",
              "      <th>2012</th>\n",
              "      <th>2013</th>\n",
              "      <th>2014</th>\n",
              "      <th>2015</th>\n",
              "      <th>2016</th>\n",
              "      <th>2017</th>\n",
              "    </tr>\n",
              "  </thead>\n",
              "  <tbody>\n",
              "    <tr>\n",
              "      <th>count</th>\n",
              "      <td>4.000000</td>\n",
              "      <td>4.000000</td>\n",
              "      <td>4.000000</td>\n",
              "      <td>4.000000</td>\n",
              "      <td>5.000000</td>\n",
              "      <td>4.000000</td>\n",
              "      <td>5.000000</td>\n",
              "    </tr>\n",
              "    <tr>\n",
              "      <th>mean</th>\n",
              "      <td>11690.750000</td>\n",
              "      <td>11943.750000</td>\n",
              "      <td>13274.500000</td>\n",
              "      <td>13148.500000</td>\n",
              "      <td>19657.800000</td>\n",
              "      <td>10803.500000</td>\n",
              "      <td>260070.000000</td>\n",
              "    </tr>\n",
              "    <tr>\n",
              "      <th>std</th>\n",
              "      <td>18552.817636</td>\n",
              "      <td>18889.329622</td>\n",
              "      <td>19360.535487</td>\n",
              "      <td>20390.088074</td>\n",
              "      <td>21102.443963</td>\n",
              "      <td>20329.220964</td>\n",
              "      <td>143555.564155</td>\n",
              "    </tr>\n",
              "    <tr>\n",
              "      <th>min</th>\n",
              "      <td>0.000000</td>\n",
              "      <td>16.000000</td>\n",
              "      <td>15.000000</td>\n",
              "      <td>521.000000</td>\n",
              "      <td>4.000000</td>\n",
              "      <td>56.000000</td>\n",
              "      <td>3270.000000</td>\n",
              "    </tr>\n",
              "    <tr>\n",
              "      <th>25%</th>\n",
              "      <td>292.500000</td>\n",
              "      <td>676.000000</td>\n",
              "      <td>3157.500000</td>\n",
              "      <td>3228.500000</td>\n",
              "      <td>702.000000</td>\n",
              "      <td>378.500000</td>\n",
              "      <td>324270.000000</td>\n",
              "    </tr>\n",
              "    <tr>\n",
              "      <th>50%</th>\n",
              "      <td>3851.500000</td>\n",
              "      <td>3931.500000</td>\n",
              "      <td>5539.000000</td>\n",
              "      <td>4226.000000</td>\n",
              "      <td>13579.000000</td>\n",
              "      <td>936.000000</td>\n",
              "      <td>324270.000000</td>\n",
              "    </tr>\n",
              "    <tr>\n",
              "      <th>75%</th>\n",
              "      <td>15249.750000</td>\n",
              "      <td>15199.250000</td>\n",
              "      <td>15656.000000</td>\n",
              "      <td>14146.000000</td>\n",
              "      <td>41702.000000</td>\n",
              "      <td>11361.000000</td>\n",
              "      <td>324270.000000</td>\n",
              "    </tr>\n",
              "    <tr>\n",
              "      <th>max</th>\n",
              "      <td>39060.000000</td>\n",
              "      <td>39896.000000</td>\n",
              "      <td>42005.000000</td>\n",
              "      <td>43621.000000</td>\n",
              "      <td>42302.000000</td>\n",
              "      <td>41286.000000</td>\n",
              "      <td>324270.000000</td>\n",
              "    </tr>\n",
              "  </tbody>\n",
              "</table>\n",
              "</div>"
            ],
            "text/plain": [
              "               2011          2012          2013          2014          2015  \\\n",
              "count      4.000000      4.000000      4.000000      4.000000      5.000000   \n",
              "mean   11690.750000  11943.750000  13274.500000  13148.500000  19657.800000   \n",
              "std    18552.817636  18889.329622  19360.535487  20390.088074  21102.443963   \n",
              "min        0.000000     16.000000     15.000000    521.000000      4.000000   \n",
              "25%      292.500000    676.000000   3157.500000   3228.500000    702.000000   \n",
              "50%     3851.500000   3931.500000   5539.000000   4226.000000  13579.000000   \n",
              "75%    15249.750000  15199.250000  15656.000000  14146.000000  41702.000000   \n",
              "max    39060.000000  39896.000000  42005.000000  43621.000000  42302.000000   \n",
              "\n",
              "               2016           2017  \n",
              "count      4.000000       5.000000  \n",
              "mean   10803.500000  260070.000000  \n",
              "std    20329.220964  143555.564155  \n",
              "min       56.000000    3270.000000  \n",
              "25%      378.500000  324270.000000  \n",
              "50%      936.000000  324270.000000  \n",
              "75%    11361.000000  324270.000000  \n",
              "max    41286.000000  324270.000000  "
            ]
          },
          "metadata": {},
          "output_type": "display_data"
        }
      ],
      "source": [
        "# 통계량\n",
        "display(ktx_df.describe())\n",
        "display(ktx_df.T.describe())"
      ]
    },
    {
      "cell_type": "code",
      "execution_count": null,
      "metadata": {
        "id": "OKT3iAtnupFc",
        "outputId": "4f6bcac9-5078-4f4d-c6ea-7cff6e31dda9"
      },
      "outputs": [
        {
          "data": {
            "text/html": [
              "<div>\n",
              "<style scoped>\n",
              "    .dataframe tbody tr th:only-of-type {\n",
              "        vertical-align: middle;\n",
              "    }\n",
              "\n",
              "    .dataframe tbody tr th {\n",
              "        vertical-align: top;\n",
              "    }\n",
              "\n",
              "    .dataframe thead th {\n",
              "        text-align: right;\n",
              "    }\n",
              "</style>\n",
              "<table border=\"1\" class=\"dataframe\">\n",
              "  <thead>\n",
              "    <tr style=\"text-align: right;\">\n",
              "      <th></th>\n",
              "      <th>경부선 KTX</th>\n",
              "      <th>호남선 KTX</th>\n",
              "      <th>경전선 KTX</th>\n",
              "      <th>전라선 KTX</th>\n",
              "      <th>동해선 KTX</th>\n",
              "    </tr>\n",
              "  </thead>\n",
              "  <tbody>\n",
              "    <tr>\n",
              "      <th>2011</th>\n",
              "      <td>39060</td>\n",
              "      <td>7313</td>\n",
              "      <td>390</td>\n",
              "      <td>0</td>\n",
              "      <td>NaN</td>\n",
              "    </tr>\n",
              "    <tr>\n",
              "      <th>2012</th>\n",
              "      <td>39896</td>\n",
              "      <td>6967</td>\n",
              "      <td>896</td>\n",
              "      <td>16</td>\n",
              "      <td>NaN</td>\n",
              "    </tr>\n",
              "    <tr>\n",
              "      <th>2013</th>\n",
              "      <td>42005</td>\n",
              "      <td>6873</td>\n",
              "      <td>4205</td>\n",
              "      <td>15</td>\n",
              "      <td>NaN</td>\n",
              "    </tr>\n",
              "    <tr>\n",
              "      <th>2014</th>\n",
              "      <td>43621</td>\n",
              "      <td>4131</td>\n",
              "      <td>4321</td>\n",
              "      <td>521</td>\n",
              "      <td>NaN</td>\n",
              "    </tr>\n",
              "    <tr>\n",
              "      <th>2015</th>\n",
              "      <td>41702</td>\n",
              "      <td>42302</td>\n",
              "      <td>702</td>\n",
              "      <td>4</td>\n",
              "      <td>13579.0</td>\n",
              "    </tr>\n",
              "  </tbody>\n",
              "</table>\n",
              "</div>"
            ],
            "text/plain": [
              "      경부선 KTX  호남선 KTX  경전선 KTX  전라선 KTX  동해선 KTX\n",
              "2011    39060     7313      390        0      NaN\n",
              "2012    39896     6967      896       16      NaN\n",
              "2013    42005     6873     4205       15      NaN\n",
              "2014    43621     4131     4321      521      NaN\n",
              "2015    41702    42302      702        4  13579.0"
            ]
          },
          "metadata": {},
          "output_type": "display_data"
        },
        {
          "data": {
            "text/html": [
              "<div>\n",
              "<style scoped>\n",
              "    .dataframe tbody tr th:only-of-type {\n",
              "        vertical-align: middle;\n",
              "    }\n",
              "\n",
              "    .dataframe tbody tr th {\n",
              "        vertical-align: top;\n",
              "    }\n",
              "\n",
              "    .dataframe thead th {\n",
              "        text-align: right;\n",
              "    }\n",
              "</style>\n",
              "<table border=\"1\" class=\"dataframe\">\n",
              "  <thead>\n",
              "    <tr style=\"text-align: right;\">\n",
              "      <th></th>\n",
              "      <th>경부선 KTX</th>\n",
              "      <th>호남선 KTX</th>\n",
              "      <th>경전선 KTX</th>\n",
              "      <th>전라선 KTX</th>\n",
              "      <th>동해선 KTX</th>\n",
              "    </tr>\n",
              "  </thead>\n",
              "  <tbody>\n",
              "    <tr>\n",
              "      <th>2015</th>\n",
              "      <td>41702</td>\n",
              "      <td>42302</td>\n",
              "      <td>702</td>\n",
              "      <td>4</td>\n",
              "      <td>13579.0</td>\n",
              "    </tr>\n",
              "    <tr>\n",
              "      <th>2016</th>\n",
              "      <td>41286</td>\n",
              "      <td>1386</td>\n",
              "      <td>486</td>\n",
              "      <td>56</td>\n",
              "      <td>NaN</td>\n",
              "    </tr>\n",
              "    <tr>\n",
              "      <th>2017</th>\n",
              "      <td>324270</td>\n",
              "      <td>3270</td>\n",
              "      <td>324270</td>\n",
              "      <td>324270</td>\n",
              "      <td>324270.0</td>\n",
              "    </tr>\n",
              "  </tbody>\n",
              "</table>\n",
              "</div>"
            ],
            "text/plain": [
              "      경부선 KTX  호남선 KTX  경전선 KTX  전라선 KTX   동해선 KTX\n",
              "2015    41702    42302      702        4   13579.0\n",
              "2016    41286     1386      486       56       NaN\n",
              "2017   324270     3270   324270   324270  324270.0"
            ]
          },
          "metadata": {},
          "output_type": "display_data"
        },
        {
          "data": {
            "text/html": [
              "<div>\n",
              "<style scoped>\n",
              "    .dataframe tbody tr th:only-of-type {\n",
              "        vertical-align: middle;\n",
              "    }\n",
              "\n",
              "    .dataframe tbody tr th {\n",
              "        vertical-align: top;\n",
              "    }\n",
              "\n",
              "    .dataframe thead th {\n",
              "        text-align: right;\n",
              "    }\n",
              "</style>\n",
              "<table border=\"1\" class=\"dataframe\">\n",
              "  <thead>\n",
              "    <tr style=\"text-align: right;\">\n",
              "      <th></th>\n",
              "      <th>경부선 KTX</th>\n",
              "      <th>호남선 KTX</th>\n",
              "      <th>경전선 KTX</th>\n",
              "      <th>전라선 KTX</th>\n",
              "      <th>동해선 KTX</th>\n",
              "    </tr>\n",
              "  </thead>\n",
              "  <tbody>\n",
              "    <tr>\n",
              "      <th>2014</th>\n",
              "      <td>43621</td>\n",
              "      <td>4131</td>\n",
              "      <td>4321</td>\n",
              "      <td>521</td>\n",
              "      <td>NaN</td>\n",
              "    </tr>\n",
              "    <tr>\n",
              "      <th>2011</th>\n",
              "      <td>39060</td>\n",
              "      <td>7313</td>\n",
              "      <td>390</td>\n",
              "      <td>0</td>\n",
              "      <td>NaN</td>\n",
              "    </tr>\n",
              "  </tbody>\n",
              "</table>\n",
              "</div>"
            ],
            "text/plain": [
              "      경부선 KTX  호남선 KTX  경전선 KTX  전라선 KTX  동해선 KTX\n",
              "2014    43621     4131     4321      521      NaN\n",
              "2011    39060     7313      390        0      NaN"
            ]
          },
          "metadata": {},
          "output_type": "display_data"
        },
        {
          "data": {
            "text/html": [
              "<div>\n",
              "<style scoped>\n",
              "    .dataframe tbody tr th:only-of-type {\n",
              "        vertical-align: middle;\n",
              "    }\n",
              "\n",
              "    .dataframe tbody tr th {\n",
              "        vertical-align: top;\n",
              "    }\n",
              "\n",
              "    .dataframe thead th {\n",
              "        text-align: right;\n",
              "    }\n",
              "</style>\n",
              "<table border=\"1\" class=\"dataframe\">\n",
              "  <thead>\n",
              "    <tr style=\"text-align: right;\">\n",
              "      <th></th>\n",
              "      <th>2011</th>\n",
              "      <th>2012</th>\n",
              "      <th>2013</th>\n",
              "      <th>2014</th>\n",
              "      <th>2015</th>\n",
              "      <th>2016</th>\n",
              "      <th>2017</th>\n",
              "    </tr>\n",
              "  </thead>\n",
              "  <tbody>\n",
              "    <tr>\n",
              "      <th>동해선 KTX</th>\n",
              "      <td>NaN</td>\n",
              "      <td>NaN</td>\n",
              "      <td>NaN</td>\n",
              "      <td>NaN</td>\n",
              "      <td>13579.0</td>\n",
              "      <td>NaN</td>\n",
              "      <td>324270.0</td>\n",
              "    </tr>\n",
              "    <tr>\n",
              "      <th>경부선 KTX</th>\n",
              "      <td>39060.0</td>\n",
              "      <td>39896.0</td>\n",
              "      <td>42005.0</td>\n",
              "      <td>43621.0</td>\n",
              "      <td>41702.0</td>\n",
              "      <td>41286.0</td>\n",
              "      <td>324270.0</td>\n",
              "    </tr>\n",
              "  </tbody>\n",
              "</table>\n",
              "</div>"
            ],
            "text/plain": [
              "            2011     2012     2013     2014     2015     2016      2017\n",
              "동해선 KTX      NaN      NaN      NaN      NaN  13579.0      NaN  324270.0\n",
              "경부선 KTX  39060.0  39896.0  42005.0  43621.0  41702.0  41286.0  324270.0"
            ]
          },
          "metadata": {},
          "output_type": "display_data"
        }
      ],
      "source": [
        "# 첫 데이터, 마지막 데이터, 랜덤 추출\n",
        "display(ktx_df.head())\n",
        "display(ktx_df.tail(3))\n",
        "display(ktx_df.sample(2))\n",
        "display(ktx_df.T.sample(2))"
      ]
    },
    {
      "cell_type": "code",
      "execution_count": null,
      "metadata": {
        "id": "rRmCTM_cupFc",
        "outputId": "9d4d1d1f-cf76-4356-b1aa-4ad5811e456e"
      },
      "outputs": [
        {
          "data": {
            "text/html": [
              "<div>\n",
              "<style scoped>\n",
              "    .dataframe tbody tr th:only-of-type {\n",
              "        vertical-align: middle;\n",
              "    }\n",
              "\n",
              "    .dataframe tbody tr th {\n",
              "        vertical-align: top;\n",
              "    }\n",
              "\n",
              "    .dataframe thead th {\n",
              "        text-align: right;\n",
              "    }\n",
              "</style>\n",
              "<table border=\"1\" class=\"dataframe\">\n",
              "  <thead>\n",
              "    <tr style=\"text-align: right;\">\n",
              "      <th></th>\n",
              "      <th>경부선 KTX</th>\n",
              "      <th>호남선 KTX</th>\n",
              "      <th>경전선 KTX</th>\n",
              "      <th>전라선 KTX</th>\n",
              "      <th>동해선 KTX</th>\n",
              "    </tr>\n",
              "  </thead>\n",
              "  <tbody>\n",
              "    <tr>\n",
              "      <th>2014</th>\n",
              "      <td>43621</td>\n",
              "      <td>4131</td>\n",
              "      <td>4321</td>\n",
              "      <td>521</td>\n",
              "      <td>NaN</td>\n",
              "    </tr>\n",
              "    <tr>\n",
              "      <th>2015</th>\n",
              "      <td>41702</td>\n",
              "      <td>42302</td>\n",
              "      <td>702</td>\n",
              "      <td>4</td>\n",
              "      <td>13579.0</td>\n",
              "    </tr>\n",
              "    <tr>\n",
              "      <th>2016</th>\n",
              "      <td>41286</td>\n",
              "      <td>1386</td>\n",
              "      <td>486</td>\n",
              "      <td>56</td>\n",
              "      <td>NaN</td>\n",
              "    </tr>\n",
              "    <tr>\n",
              "      <th>2017</th>\n",
              "      <td>324270</td>\n",
              "      <td>3270</td>\n",
              "      <td>324270</td>\n",
              "      <td>324270</td>\n",
              "      <td>324270.0</td>\n",
              "    </tr>\n",
              "  </tbody>\n",
              "</table>\n",
              "</div>"
            ],
            "text/plain": [
              "      경부선 KTX  호남선 KTX  경전선 KTX  전라선 KTX   동해선 KTX\n",
              "2014    43621     4131     4321      521       NaN\n",
              "2015    41702    42302      702        4   13579.0\n",
              "2016    41286     1386      486       56       NaN\n",
              "2017   324270     3270   324270   324270  324270.0"
            ]
          },
          "execution_count": 80,
          "metadata": {},
          "output_type": "execute_result"
        }
      ],
      "source": [
        "# 인덱싱, 슬라이싱\n",
        "ktx_df[3:]"
      ]
    },
    {
      "cell_type": "markdown",
      "metadata": {
        "id": "kSY9v0ztupFd"
      },
      "source": [
        "### .loc, .iloc : 행, 열 순서"
      ]
    },
    {
      "cell_type": "code",
      "execution_count": null,
      "metadata": {
        "id": "L3FL77fgupFd",
        "outputId": "1d504a60-c9c4-42c9-d96e-1e195607251a"
      },
      "outputs": [
        {
          "name": "stdout",
          "output_type": "stream",
          "text": [
            "경부선 KTX    39060.0\n",
            "호남선 KTX     7313.0\n",
            "경전선 KTX      390.0\n",
            "전라선 KTX        0.0\n",
            "동해선 KTX        NaN\n",
            "Name: 2011, dtype: float64\n",
            "2011     39060.0\n",
            "2012     39896.0\n",
            "2013     42005.0\n",
            "2014     43621.0\n",
            "2015     41702.0\n",
            "2016     41286.0\n",
            "2017    324270.0\n",
            "Name: 경부선 KTX, dtype: float64\n",
            "      경전선 KTX  경부선 KTX\n",
            "2011      390    39060\n",
            "2012      896    39896\n",
            "2013     4205    42005\n",
            "2014     4321    43621\n",
            "2015      702    41702\n",
            "2016      486    41286\n",
            "2017   324270   324270\n",
            "2012    39896\n",
            "2013    42005\n",
            "2014    43621\n",
            "Name: 경부선 KTX, dtype: int64\n"
          ]
        }
      ],
      "source": [
        "# loc\n",
        "print(ktx_df.loc['2011'])\n",
        "print(ktx_df.T.loc['경부선 KTX'])\n",
        "print(ktx_df.loc[:, ['경전선 KTX', '경부선 KTX']])\n",
        "print(ktx_df.loc['2012':'2014', '경부선 KTX'])"
      ]
    },
    {
      "cell_type": "code",
      "execution_count": null,
      "metadata": {
        "id": "nKL-30-_upFe",
        "outputId": "51aa0602-d189-485b-c232-a707feb0f3ba"
      },
      "outputs": [
        {
          "name": "stdout",
          "output_type": "stream",
          "text": [
            "경부선 KTX    43621.0\n",
            "호남선 KTX     4131.0\n",
            "경전선 KTX     4321.0\n",
            "전라선 KTX      521.0\n",
            "동해선 KTX        NaN\n",
            "Name: 2014, dtype: float64\n",
            "      호남선 KTX  경전선 KTX\n",
            "2013     6873     4205\n",
            "2014     4131     4321\n",
            "      경부선 KTX  호남선 KTX  경전선 KTX  전라선 KTX   동해선 KTX\n",
            "2014    43621     4131     4321      521       NaN\n",
            "2015    41702    42302      702        4   13579.0\n",
            "2016    41286     1386      486       56       NaN\n",
            "2017   324270     3270   324270   324270  324270.0\n"
          ]
        }
      ],
      "source": [
        "# iloc\n",
        "print(ktx_df.iloc[3])\n",
        "print(ktx_df.iloc[2:4, 1:3])\n",
        "print(ktx_df.iloc[3:, :])"
      ]
    },
    {
      "cell_type": "markdown",
      "metadata": {
        "id": "djWDRDGXupFf"
      },
      "source": [
        "컬럼 순서를 바꿔서 들고오면 된다"
      ]
    },
    {
      "cell_type": "code",
      "execution_count": null,
      "metadata": {
        "id": "2YhnlNxcupFf",
        "outputId": "b30f2f1a-bfae-459c-af0b-9ac347acce93"
      },
      "outputs": [
        {
          "data": {
            "text/html": [
              "<div>\n",
              "<style scoped>\n",
              "    .dataframe tbody tr th:only-of-type {\n",
              "        vertical-align: middle;\n",
              "    }\n",
              "\n",
              "    .dataframe tbody tr th {\n",
              "        vertical-align: top;\n",
              "    }\n",
              "\n",
              "    .dataframe thead th {\n",
              "        text-align: right;\n",
              "    }\n",
              "</style>\n",
              "<table border=\"1\" class=\"dataframe\">\n",
              "  <thead>\n",
              "    <tr style=\"text-align: right;\">\n",
              "      <th></th>\n",
              "      <th>동해선 KTX</th>\n",
              "      <th>경전선 KTX</th>\n",
              "      <th>전라선 KTX</th>\n",
              "      <th>경부선 KTX</th>\n",
              "      <th>호남선 KTX</th>\n",
              "    </tr>\n",
              "  </thead>\n",
              "  <tbody>\n",
              "    <tr>\n",
              "      <th>2011</th>\n",
              "      <td>NaN</td>\n",
              "      <td>390</td>\n",
              "      <td>0</td>\n",
              "      <td>39060</td>\n",
              "      <td>7313</td>\n",
              "    </tr>\n",
              "    <tr>\n",
              "      <th>2012</th>\n",
              "      <td>NaN</td>\n",
              "      <td>896</td>\n",
              "      <td>16</td>\n",
              "      <td>39896</td>\n",
              "      <td>6967</td>\n",
              "    </tr>\n",
              "    <tr>\n",
              "      <th>2013</th>\n",
              "      <td>NaN</td>\n",
              "      <td>4205</td>\n",
              "      <td>15</td>\n",
              "      <td>42005</td>\n",
              "      <td>6873</td>\n",
              "    </tr>\n",
              "    <tr>\n",
              "      <th>2014</th>\n",
              "      <td>NaN</td>\n",
              "      <td>4321</td>\n",
              "      <td>521</td>\n",
              "      <td>43621</td>\n",
              "      <td>4131</td>\n",
              "    </tr>\n",
              "    <tr>\n",
              "      <th>2015</th>\n",
              "      <td>13579.0</td>\n",
              "      <td>702</td>\n",
              "      <td>4</td>\n",
              "      <td>41702</td>\n",
              "      <td>42302</td>\n",
              "    </tr>\n",
              "    <tr>\n",
              "      <th>2016</th>\n",
              "      <td>NaN</td>\n",
              "      <td>486</td>\n",
              "      <td>56</td>\n",
              "      <td>41286</td>\n",
              "      <td>1386</td>\n",
              "    </tr>\n",
              "    <tr>\n",
              "      <th>2017</th>\n",
              "      <td>324270.0</td>\n",
              "      <td>324270</td>\n",
              "      <td>324270</td>\n",
              "      <td>324270</td>\n",
              "      <td>3270</td>\n",
              "    </tr>\n",
              "  </tbody>\n",
              "</table>\n",
              "</div>"
            ],
            "text/plain": [
              "       동해선 KTX  경전선 KTX  전라선 KTX  경부선 KTX  호남선 KTX\n",
              "2011       NaN      390        0    39060     7313\n",
              "2012       NaN      896       16    39896     6967\n",
              "2013       NaN     4205       15    42005     6873\n",
              "2014       NaN     4321      521    43621     4131\n",
              "2015   13579.0      702        4    41702    42302\n",
              "2016       NaN      486       56    41286     1386\n",
              "2017  324270.0   324270   324270   324270     3270"
            ]
          },
          "metadata": {},
          "output_type": "display_data"
        },
        {
          "data": {
            "text/html": [
              "<div>\n",
              "<style scoped>\n",
              "    .dataframe tbody tr th:only-of-type {\n",
              "        vertical-align: middle;\n",
              "    }\n",
              "\n",
              "    .dataframe tbody tr th {\n",
              "        vertical-align: top;\n",
              "    }\n",
              "\n",
              "    .dataframe thead th {\n",
              "        text-align: right;\n",
              "    }\n",
              "</style>\n",
              "<table border=\"1\" class=\"dataframe\">\n",
              "  <thead>\n",
              "    <tr style=\"text-align: right;\">\n",
              "      <th></th>\n",
              "      <th>경부선 KTX</th>\n",
              "      <th>호남선 KTX</th>\n",
              "      <th>경전선 KTX</th>\n",
              "      <th>전라선 KTX</th>\n",
              "      <th>동해선 KTX</th>\n",
              "    </tr>\n",
              "  </thead>\n",
              "  <tbody>\n",
              "    <tr>\n",
              "      <th>2011</th>\n",
              "      <td>39060</td>\n",
              "      <td>7313</td>\n",
              "      <td>390</td>\n",
              "      <td>0</td>\n",
              "      <td>NaN</td>\n",
              "    </tr>\n",
              "    <tr>\n",
              "      <th>2012</th>\n",
              "      <td>39896</td>\n",
              "      <td>6967</td>\n",
              "      <td>896</td>\n",
              "      <td>16</td>\n",
              "      <td>NaN</td>\n",
              "    </tr>\n",
              "    <tr>\n",
              "      <th>2013</th>\n",
              "      <td>42005</td>\n",
              "      <td>6873</td>\n",
              "      <td>4205</td>\n",
              "      <td>15</td>\n",
              "      <td>NaN</td>\n",
              "    </tr>\n",
              "    <tr>\n",
              "      <th>2014</th>\n",
              "      <td>43621</td>\n",
              "      <td>4131</td>\n",
              "      <td>4321</td>\n",
              "      <td>521</td>\n",
              "      <td>NaN</td>\n",
              "    </tr>\n",
              "    <tr>\n",
              "      <th>2015</th>\n",
              "      <td>41702</td>\n",
              "      <td>42302</td>\n",
              "      <td>702</td>\n",
              "      <td>4</td>\n",
              "      <td>13579.0</td>\n",
              "    </tr>\n",
              "    <tr>\n",
              "      <th>2016</th>\n",
              "      <td>41286</td>\n",
              "      <td>1386</td>\n",
              "      <td>486</td>\n",
              "      <td>56</td>\n",
              "      <td>NaN</td>\n",
              "    </tr>\n",
              "    <tr>\n",
              "      <th>2017</th>\n",
              "      <td>324270</td>\n",
              "      <td>3270</td>\n",
              "      <td>324270</td>\n",
              "      <td>324270</td>\n",
              "      <td>324270.0</td>\n",
              "    </tr>\n",
              "  </tbody>\n",
              "</table>\n",
              "</div>"
            ],
            "text/plain": [
              "      경부선 KTX  호남선 KTX  경전선 KTX  전라선 KTX   동해선 KTX\n",
              "2011    39060     7313      390        0       NaN\n",
              "2012    39896     6967      896       16       NaN\n",
              "2013    42005     6873     4205       15       NaN\n",
              "2014    43621     4131     4321      521       NaN\n",
              "2015    41702    42302      702        4   13579.0\n",
              "2016    41286     1386      486       56       NaN\n",
              "2017   324270     3270   324270   324270  324270.0"
            ]
          },
          "metadata": {},
          "output_type": "display_data"
        }
      ],
      "source": [
        "display(ktx_df[['동해선 KTX', '경전선 KTX', '전라선 KTX', '경부선 KTX', '호남선 KTX']])\n",
        "display(ktx_df)"
      ]
    },
    {
      "cell_type": "markdown",
      "metadata": {
        "id": "08AksypBupFg"
      },
      "source": [
        "## 결측치 처리\n",
        "\n",
        "* 결측치 있는 컬럼 날리기\n",
        "* 결측치 있는 행 날리기\n",
        "* 평균값 등으로 채우기"
      ]
    },
    {
      "cell_type": "code",
      "execution_count": null,
      "metadata": {
        "id": "p7ppxlyWupFh"
      },
      "outputs": [],
      "source": [
        "ktx_df_test_1 = ktx_df.copy() # 원본 복사\n",
        "ktx_df_test_2 = ktx_df.copy()\n",
        "ktx_df_test_3 = ktx_df.copy()"
      ]
    },
    {
      "cell_type": "code",
      "execution_count": null,
      "metadata": {
        "id": "LnyQIdP8upFh",
        "outputId": "2a91021f-81ae-4b94-8051-e654c40239ee"
      },
      "outputs": [
        {
          "data": {
            "text/html": [
              "<div>\n",
              "<style scoped>\n",
              "    .dataframe tbody tr th:only-of-type {\n",
              "        vertical-align: middle;\n",
              "    }\n",
              "\n",
              "    .dataframe tbody tr th {\n",
              "        vertical-align: top;\n",
              "    }\n",
              "\n",
              "    .dataframe thead th {\n",
              "        text-align: right;\n",
              "    }\n",
              "</style>\n",
              "<table border=\"1\" class=\"dataframe\">\n",
              "  <thead>\n",
              "    <tr style=\"text-align: right;\">\n",
              "      <th></th>\n",
              "      <th>경부선 KTX</th>\n",
              "      <th>호남선 KTX</th>\n",
              "      <th>경전선 KTX</th>\n",
              "      <th>전라선 KTX</th>\n",
              "    </tr>\n",
              "  </thead>\n",
              "  <tbody>\n",
              "    <tr>\n",
              "      <th>2011</th>\n",
              "      <td>39060</td>\n",
              "      <td>7313</td>\n",
              "      <td>390</td>\n",
              "      <td>0</td>\n",
              "    </tr>\n",
              "    <tr>\n",
              "      <th>2012</th>\n",
              "      <td>39896</td>\n",
              "      <td>6967</td>\n",
              "      <td>896</td>\n",
              "      <td>16</td>\n",
              "    </tr>\n",
              "    <tr>\n",
              "      <th>2013</th>\n",
              "      <td>42005</td>\n",
              "      <td>6873</td>\n",
              "      <td>4205</td>\n",
              "      <td>15</td>\n",
              "    </tr>\n",
              "    <tr>\n",
              "      <th>2014</th>\n",
              "      <td>43621</td>\n",
              "      <td>4131</td>\n",
              "      <td>4321</td>\n",
              "      <td>521</td>\n",
              "    </tr>\n",
              "    <tr>\n",
              "      <th>2015</th>\n",
              "      <td>41702</td>\n",
              "      <td>42302</td>\n",
              "      <td>702</td>\n",
              "      <td>4</td>\n",
              "    </tr>\n",
              "    <tr>\n",
              "      <th>2016</th>\n",
              "      <td>41286</td>\n",
              "      <td>1386</td>\n",
              "      <td>486</td>\n",
              "      <td>56</td>\n",
              "    </tr>\n",
              "    <tr>\n",
              "      <th>2017</th>\n",
              "      <td>324270</td>\n",
              "      <td>3270</td>\n",
              "      <td>324270</td>\n",
              "      <td>324270</td>\n",
              "    </tr>\n",
              "  </tbody>\n",
              "</table>\n",
              "</div>"
            ],
            "text/plain": [
              "      경부선 KTX  호남선 KTX  경전선 KTX  전라선 KTX\n",
              "2011    39060     7313      390        0\n",
              "2012    39896     6967      896       16\n",
              "2013    42005     6873     4205       15\n",
              "2014    43621     4131     4321      521\n",
              "2015    41702    42302      702        4\n",
              "2016    41286     1386      486       56\n",
              "2017   324270     3270   324270   324270"
            ]
          },
          "metadata": {},
          "output_type": "display_data"
        }
      ],
      "source": [
        "# 1) 결측치 있는 컬럼 날리기\n",
        "ktx_df_test_1.dropna(axis=1, inplace=True)\n",
        "display(ktx_df_test_1)"
      ]
    },
    {
      "cell_type": "code",
      "execution_count": null,
      "metadata": {
        "id": "U-v-Xov1upFi",
        "outputId": "e5ddaecb-22fd-4066-e6a2-1c52d3929fe6"
      },
      "outputs": [
        {
          "data": {
            "text/html": [
              "<div>\n",
              "<style scoped>\n",
              "    .dataframe tbody tr th:only-of-type {\n",
              "        vertical-align: middle;\n",
              "    }\n",
              "\n",
              "    .dataframe tbody tr th {\n",
              "        vertical-align: top;\n",
              "    }\n",
              "\n",
              "    .dataframe thead th {\n",
              "        text-align: right;\n",
              "    }\n",
              "</style>\n",
              "<table border=\"1\" class=\"dataframe\">\n",
              "  <thead>\n",
              "    <tr style=\"text-align: right;\">\n",
              "      <th></th>\n",
              "      <th>경부선 KTX</th>\n",
              "      <th>호남선 KTX</th>\n",
              "      <th>경전선 KTX</th>\n",
              "      <th>전라선 KTX</th>\n",
              "      <th>동해선 KTX</th>\n",
              "    </tr>\n",
              "  </thead>\n",
              "  <tbody>\n",
              "    <tr>\n",
              "      <th>2015</th>\n",
              "      <td>41702</td>\n",
              "      <td>42302</td>\n",
              "      <td>702</td>\n",
              "      <td>4</td>\n",
              "      <td>13579.0</td>\n",
              "    </tr>\n",
              "    <tr>\n",
              "      <th>2017</th>\n",
              "      <td>324270</td>\n",
              "      <td>3270</td>\n",
              "      <td>324270</td>\n",
              "      <td>324270</td>\n",
              "      <td>324270.0</td>\n",
              "    </tr>\n",
              "  </tbody>\n",
              "</table>\n",
              "</div>"
            ],
            "text/plain": [
              "      경부선 KTX  호남선 KTX  경전선 KTX  전라선 KTX   동해선 KTX\n",
              "2015    41702    42302      702        4   13579.0\n",
              "2017   324270     3270   324270   324270  324270.0"
            ]
          },
          "metadata": {},
          "output_type": "display_data"
        }
      ],
      "source": [
        "# 2) 행 날리기\n",
        "ktx_df_test_2.dropna(axis=0, inplace=True)\n",
        "display(ktx_df_test_2)"
      ]
    },
    {
      "cell_type": "code",
      "execution_count": null,
      "metadata": {
        "id": "3OAQMHBeupFj",
        "outputId": "0889b452-1ba6-476a-cee0-a82e474b444b"
      },
      "outputs": [
        {
          "data": {
            "text/html": [
              "<div>\n",
              "<style scoped>\n",
              "    .dataframe tbody tr th:only-of-type {\n",
              "        vertical-align: middle;\n",
              "    }\n",
              "\n",
              "    .dataframe tbody tr th {\n",
              "        vertical-align: top;\n",
              "    }\n",
              "\n",
              "    .dataframe thead th {\n",
              "        text-align: right;\n",
              "    }\n",
              "</style>\n",
              "<table border=\"1\" class=\"dataframe\">\n",
              "  <thead>\n",
              "    <tr style=\"text-align: right;\">\n",
              "      <th></th>\n",
              "      <th>경부선 KTX</th>\n",
              "      <th>호남선 KTX</th>\n",
              "      <th>경전선 KTX</th>\n",
              "      <th>전라선 KTX</th>\n",
              "      <th>동해선 KTX</th>\n",
              "    </tr>\n",
              "  </thead>\n",
              "  <tbody>\n",
              "    <tr>\n",
              "      <th>2011</th>\n",
              "      <td>39060</td>\n",
              "      <td>7313</td>\n",
              "      <td>390</td>\n",
              "      <td>0</td>\n",
              "      <td>168924.5</td>\n",
              "    </tr>\n",
              "    <tr>\n",
              "      <th>2012</th>\n",
              "      <td>39896</td>\n",
              "      <td>6967</td>\n",
              "      <td>896</td>\n",
              "      <td>16</td>\n",
              "      <td>168924.5</td>\n",
              "    </tr>\n",
              "    <tr>\n",
              "      <th>2013</th>\n",
              "      <td>42005</td>\n",
              "      <td>6873</td>\n",
              "      <td>4205</td>\n",
              "      <td>15</td>\n",
              "      <td>168924.5</td>\n",
              "    </tr>\n",
              "    <tr>\n",
              "      <th>2014</th>\n",
              "      <td>43621</td>\n",
              "      <td>4131</td>\n",
              "      <td>4321</td>\n",
              "      <td>521</td>\n",
              "      <td>168924.5</td>\n",
              "    </tr>\n",
              "    <tr>\n",
              "      <th>2015</th>\n",
              "      <td>41702</td>\n",
              "      <td>42302</td>\n",
              "      <td>702</td>\n",
              "      <td>4</td>\n",
              "      <td>13579.0</td>\n",
              "    </tr>\n",
              "    <tr>\n",
              "      <th>2016</th>\n",
              "      <td>41286</td>\n",
              "      <td>1386</td>\n",
              "      <td>486</td>\n",
              "      <td>56</td>\n",
              "      <td>168924.5</td>\n",
              "    </tr>\n",
              "    <tr>\n",
              "      <th>2017</th>\n",
              "      <td>324270</td>\n",
              "      <td>3270</td>\n",
              "      <td>324270</td>\n",
              "      <td>324270</td>\n",
              "      <td>324270.0</td>\n",
              "    </tr>\n",
              "  </tbody>\n",
              "</table>\n",
              "</div>"
            ],
            "text/plain": [
              "      경부선 KTX  호남선 KTX  경전선 KTX  전라선 KTX   동해선 KTX\n",
              "2011    39060     7313      390        0  168924.5\n",
              "2012    39896     6967      896       16  168924.5\n",
              "2013    42005     6873     4205       15  168924.5\n",
              "2014    43621     4131     4321      521  168924.5\n",
              "2015    41702    42302      702        4   13579.0\n",
              "2016    41286     1386      486       56  168924.5\n",
              "2017   324270     3270   324270   324270  324270.0"
            ]
          },
          "metadata": {},
          "output_type": "display_data"
        }
      ],
      "source": [
        "# 3) 결측치 채우기\n",
        "ktx_df_test_3.fillna(ktx_df_test_3.mean(), inplace=True)\n",
        "display(ktx_df_test_3)"
      ]
    },
    {
      "cell_type": "code",
      "execution_count": null,
      "metadata": {
        "id": "-mH-v0kPupFj"
      },
      "outputs": [],
      "source": []
    },
    {
      "cell_type": "markdown",
      "metadata": {
        "id": "UvSHySldupF0"
      },
      "source": [
        "## 데이터 통합\n",
        "\n",
        "* append: 인덱스 중복 가능. 따라서 `ignore_index` 옵션 설정. 컬럼 방향으로 통합한다. 가로 방향."
      ]
    },
    {
      "cell_type": "code",
      "execution_count": null,
      "metadata": {
        "id": "P4a1KvF2upF1"
      },
      "outputs": [],
      "source": [
        "df1 = pd.DataFrame({\n",
        "    'class 1': [95, 92, 98, 100],\n",
        "    'class 2': [91, 93, 97, 99]\n",
        "})\n",
        "\n",
        "df2 = pd.DataFrame({\n",
        "    'class 1': [911, 912],\n",
        "    'class 2': [913, 914]\n",
        "})\n",
        "\n",
        "df3 = pd.DataFrame({\n",
        "    'class 1': [1, 2]\n",
        "})"
      ]
    },
    {
      "cell_type": "code",
      "execution_count": null,
      "metadata": {
        "scrolled": false,
        "id": "jlp1aj1iupF2",
        "outputId": "3ae12feb-bb0a-43a9-a0c0-9d89d61af14d"
      },
      "outputs": [
        {
          "data": {
            "text/html": [
              "<div>\n",
              "<style scoped>\n",
              "    .dataframe tbody tr th:only-of-type {\n",
              "        vertical-align: middle;\n",
              "    }\n",
              "\n",
              "    .dataframe tbody tr th {\n",
              "        vertical-align: top;\n",
              "    }\n",
              "\n",
              "    .dataframe thead th {\n",
              "        text-align: right;\n",
              "    }\n",
              "</style>\n",
              "<table border=\"1\" class=\"dataframe\">\n",
              "  <thead>\n",
              "    <tr style=\"text-align: right;\">\n",
              "      <th></th>\n",
              "      <th>class 1</th>\n",
              "      <th>class 2</th>\n",
              "    </tr>\n",
              "  </thead>\n",
              "  <tbody>\n",
              "    <tr>\n",
              "      <th>0</th>\n",
              "      <td>95</td>\n",
              "      <td>91</td>\n",
              "    </tr>\n",
              "    <tr>\n",
              "      <th>1</th>\n",
              "      <td>92</td>\n",
              "      <td>93</td>\n",
              "    </tr>\n",
              "    <tr>\n",
              "      <th>2</th>\n",
              "      <td>98</td>\n",
              "      <td>97</td>\n",
              "    </tr>\n",
              "    <tr>\n",
              "      <th>3</th>\n",
              "      <td>100</td>\n",
              "      <td>99</td>\n",
              "    </tr>\n",
              "    <tr>\n",
              "      <th>0</th>\n",
              "      <td>911</td>\n",
              "      <td>913</td>\n",
              "    </tr>\n",
              "    <tr>\n",
              "      <th>1</th>\n",
              "      <td>912</td>\n",
              "      <td>914</td>\n",
              "    </tr>\n",
              "  </tbody>\n",
              "</table>\n",
              "</div>"
            ],
            "text/plain": [
              "   class 1  class 2\n",
              "0       95       91\n",
              "1       92       93\n",
              "2       98       97\n",
              "3      100       99\n",
              "0      911      913\n",
              "1      912      914"
            ]
          },
          "metadata": {},
          "output_type": "display_data"
        },
        {
          "data": {
            "text/html": [
              "<div>\n",
              "<style scoped>\n",
              "    .dataframe tbody tr th:only-of-type {\n",
              "        vertical-align: middle;\n",
              "    }\n",
              "\n",
              "    .dataframe tbody tr th {\n",
              "        vertical-align: top;\n",
              "    }\n",
              "\n",
              "    .dataframe thead th {\n",
              "        text-align: right;\n",
              "    }\n",
              "</style>\n",
              "<table border=\"1\" class=\"dataframe\">\n",
              "  <thead>\n",
              "    <tr style=\"text-align: right;\">\n",
              "      <th></th>\n",
              "      <th>class 1</th>\n",
              "      <th>class 2</th>\n",
              "    </tr>\n",
              "  </thead>\n",
              "  <tbody>\n",
              "    <tr>\n",
              "      <th>0</th>\n",
              "      <td>95</td>\n",
              "      <td>91</td>\n",
              "    </tr>\n",
              "    <tr>\n",
              "      <th>1</th>\n",
              "      <td>92</td>\n",
              "      <td>93</td>\n",
              "    </tr>\n",
              "    <tr>\n",
              "      <th>2</th>\n",
              "      <td>98</td>\n",
              "      <td>97</td>\n",
              "    </tr>\n",
              "    <tr>\n",
              "      <th>3</th>\n",
              "      <td>100</td>\n",
              "      <td>99</td>\n",
              "    </tr>\n",
              "    <tr>\n",
              "      <th>4</th>\n",
              "      <td>911</td>\n",
              "      <td>913</td>\n",
              "    </tr>\n",
              "    <tr>\n",
              "      <th>5</th>\n",
              "      <td>912</td>\n",
              "      <td>914</td>\n",
              "    </tr>\n",
              "  </tbody>\n",
              "</table>\n",
              "</div>"
            ],
            "text/plain": [
              "   class 1  class 2\n",
              "0       95       91\n",
              "1       92       93\n",
              "2       98       97\n",
              "3      100       99\n",
              "4      911      913\n",
              "5      912      914"
            ]
          },
          "metadata": {},
          "output_type": "display_data"
        },
        {
          "data": {
            "text/html": [
              "<div>\n",
              "<style scoped>\n",
              "    .dataframe tbody tr th:only-of-type {\n",
              "        vertical-align: middle;\n",
              "    }\n",
              "\n",
              "    .dataframe tbody tr th {\n",
              "        vertical-align: top;\n",
              "    }\n",
              "\n",
              "    .dataframe thead th {\n",
              "        text-align: right;\n",
              "    }\n",
              "</style>\n",
              "<table border=\"1\" class=\"dataframe\">\n",
              "  <thead>\n",
              "    <tr style=\"text-align: right;\">\n",
              "      <th></th>\n",
              "      <th>class 1</th>\n",
              "      <th>class 2</th>\n",
              "    </tr>\n",
              "  </thead>\n",
              "  <tbody>\n",
              "    <tr>\n",
              "      <th>0</th>\n",
              "      <td>911</td>\n",
              "      <td>913</td>\n",
              "    </tr>\n",
              "    <tr>\n",
              "      <th>1</th>\n",
              "      <td>912</td>\n",
              "      <td>914</td>\n",
              "    </tr>\n",
              "    <tr>\n",
              "      <th>0</th>\n",
              "      <td>95</td>\n",
              "      <td>91</td>\n",
              "    </tr>\n",
              "    <tr>\n",
              "      <th>1</th>\n",
              "      <td>92</td>\n",
              "      <td>93</td>\n",
              "    </tr>\n",
              "    <tr>\n",
              "      <th>2</th>\n",
              "      <td>98</td>\n",
              "      <td>97</td>\n",
              "    </tr>\n",
              "    <tr>\n",
              "      <th>3</th>\n",
              "      <td>100</td>\n",
              "      <td>99</td>\n",
              "    </tr>\n",
              "  </tbody>\n",
              "</table>\n",
              "</div>"
            ],
            "text/plain": [
              "   class 1  class 2\n",
              "0      911      913\n",
              "1      912      914\n",
              "0       95       91\n",
              "1       92       93\n",
              "2       98       97\n",
              "3      100       99"
            ]
          },
          "metadata": {},
          "output_type": "display_data"
        },
        {
          "data": {
            "text/html": [
              "<div>\n",
              "<style scoped>\n",
              "    .dataframe tbody tr th:only-of-type {\n",
              "        vertical-align: middle;\n",
              "    }\n",
              "\n",
              "    .dataframe tbody tr th {\n",
              "        vertical-align: top;\n",
              "    }\n",
              "\n",
              "    .dataframe thead th {\n",
              "        text-align: right;\n",
              "    }\n",
              "</style>\n",
              "<table border=\"1\" class=\"dataframe\">\n",
              "  <thead>\n",
              "    <tr style=\"text-align: right;\">\n",
              "      <th></th>\n",
              "      <th>class 1</th>\n",
              "      <th>class 2</th>\n",
              "    </tr>\n",
              "  </thead>\n",
              "  <tbody>\n",
              "    <tr>\n",
              "      <th>0</th>\n",
              "      <td>95</td>\n",
              "      <td>91.0</td>\n",
              "    </tr>\n",
              "    <tr>\n",
              "      <th>1</th>\n",
              "      <td>92</td>\n",
              "      <td>93.0</td>\n",
              "    </tr>\n",
              "    <tr>\n",
              "      <th>2</th>\n",
              "      <td>98</td>\n",
              "      <td>97.0</td>\n",
              "    </tr>\n",
              "    <tr>\n",
              "      <th>3</th>\n",
              "      <td>100</td>\n",
              "      <td>99.0</td>\n",
              "    </tr>\n",
              "    <tr>\n",
              "      <th>0</th>\n",
              "      <td>1</td>\n",
              "      <td>NaN</td>\n",
              "    </tr>\n",
              "    <tr>\n",
              "      <th>1</th>\n",
              "      <td>2</td>\n",
              "      <td>NaN</td>\n",
              "    </tr>\n",
              "  </tbody>\n",
              "</table>\n",
              "</div>"
            ],
            "text/plain": [
              "   class 1  class 2\n",
              "0       95     91.0\n",
              "1       92     93.0\n",
              "2       98     97.0\n",
              "3      100     99.0\n",
              "0        1      NaN\n",
              "1        2      NaN"
            ]
          },
          "metadata": {},
          "output_type": "display_data"
        }
      ],
      "source": [
        "# append 사용\n",
        "display(df1.append(df2))\n",
        "display(df1.append(df2, ignore_index=True))\n",
        "display(df2.append(df1))\n",
        "display(df1.append(df3))"
      ]
    },
    {
      "cell_type": "code",
      "execution_count": null,
      "metadata": {
        "scrolled": false,
        "id": "UpzOXvvoupF3",
        "outputId": "2cfd97fa-aab5-4987-a9e4-f7dcbfe0d898"
      },
      "outputs": [
        {
          "data": {
            "text/html": [
              "<div>\n",
              "<style scoped>\n",
              "    .dataframe tbody tr th:only-of-type {\n",
              "        vertical-align: middle;\n",
              "    }\n",
              "\n",
              "    .dataframe tbody tr th {\n",
              "        vertical-align: top;\n",
              "    }\n",
              "\n",
              "    .dataframe thead th {\n",
              "        text-align: right;\n",
              "    }\n",
              "</style>\n",
              "<table border=\"1\" class=\"dataframe\">\n",
              "  <thead>\n",
              "    <tr style=\"text-align: right;\">\n",
              "      <th></th>\n",
              "      <th>class 3</th>\n",
              "    </tr>\n",
              "  </thead>\n",
              "  <tbody>\n",
              "    <tr>\n",
              "      <th>0</th>\n",
              "      <td>93</td>\n",
              "    </tr>\n",
              "    <tr>\n",
              "      <th>1</th>\n",
              "      <td>91</td>\n",
              "    </tr>\n",
              "    <tr>\n",
              "      <th>2</th>\n",
              "      <td>95</td>\n",
              "    </tr>\n",
              "    <tr>\n",
              "      <th>3</th>\n",
              "      <td>98</td>\n",
              "    </tr>\n",
              "  </tbody>\n",
              "</table>\n",
              "</div>"
            ],
            "text/plain": [
              "   class 3\n",
              "0       93\n",
              "1       91\n",
              "2       95\n",
              "3       98"
            ]
          },
          "metadata": {},
          "output_type": "display_data"
        },
        {
          "data": {
            "text/html": [
              "<div>\n",
              "<style scoped>\n",
              "    .dataframe tbody tr th:only-of-type {\n",
              "        vertical-align: middle;\n",
              "    }\n",
              "\n",
              "    .dataframe tbody tr th {\n",
              "        vertical-align: top;\n",
              "    }\n",
              "\n",
              "    .dataframe thead th {\n",
              "        text-align: right;\n",
              "    }\n",
              "</style>\n",
              "<table border=\"1\" class=\"dataframe\">\n",
              "  <thead>\n",
              "    <tr style=\"text-align: right;\">\n",
              "      <th></th>\n",
              "      <th>class 1</th>\n",
              "      <th>class 2</th>\n",
              "    </tr>\n",
              "  </thead>\n",
              "  <tbody>\n",
              "    <tr>\n",
              "      <th>0</th>\n",
              "      <td>95</td>\n",
              "      <td>91</td>\n",
              "    </tr>\n",
              "    <tr>\n",
              "      <th>1</th>\n",
              "      <td>92</td>\n",
              "      <td>93</td>\n",
              "    </tr>\n",
              "    <tr>\n",
              "      <th>2</th>\n",
              "      <td>98</td>\n",
              "      <td>97</td>\n",
              "    </tr>\n",
              "    <tr>\n",
              "      <th>3</th>\n",
              "      <td>100</td>\n",
              "      <td>99</td>\n",
              "    </tr>\n",
              "  </tbody>\n",
              "</table>\n",
              "</div>"
            ],
            "text/plain": [
              "   class 1  class 2\n",
              "0       95       91\n",
              "1       92       93\n",
              "2       98       97\n",
              "3      100       99"
            ]
          },
          "metadata": {},
          "output_type": "display_data"
        },
        {
          "data": {
            "text/html": [
              "<div>\n",
              "<style scoped>\n",
              "    .dataframe tbody tr th:only-of-type {\n",
              "        vertical-align: middle;\n",
              "    }\n",
              "\n",
              "    .dataframe tbody tr th {\n",
              "        vertical-align: top;\n",
              "    }\n",
              "\n",
              "    .dataframe thead th {\n",
              "        text-align: right;\n",
              "    }\n",
              "</style>\n",
              "<table border=\"1\" class=\"dataframe\">\n",
              "  <thead>\n",
              "    <tr style=\"text-align: right;\">\n",
              "      <th></th>\n",
              "      <th>class 1</th>\n",
              "      <th>class 2</th>\n",
              "      <th>class 3</th>\n",
              "    </tr>\n",
              "  </thead>\n",
              "  <tbody>\n",
              "    <tr>\n",
              "      <th>0</th>\n",
              "      <td>95</td>\n",
              "      <td>91</td>\n",
              "      <td>93</td>\n",
              "    </tr>\n",
              "    <tr>\n",
              "      <th>1</th>\n",
              "      <td>92</td>\n",
              "      <td>93</td>\n",
              "      <td>91</td>\n",
              "    </tr>\n",
              "    <tr>\n",
              "      <th>2</th>\n",
              "      <td>98</td>\n",
              "      <td>97</td>\n",
              "      <td>95</td>\n",
              "    </tr>\n",
              "    <tr>\n",
              "      <th>3</th>\n",
              "      <td>100</td>\n",
              "      <td>99</td>\n",
              "      <td>98</td>\n",
              "    </tr>\n",
              "  </tbody>\n",
              "</table>\n",
              "</div>"
            ],
            "text/plain": [
              "   class 1  class 2  class 3\n",
              "0       95       91       93\n",
              "1       92       93       91\n",
              "2       98       97       95\n",
              "3      100       99       98"
            ]
          },
          "metadata": {},
          "output_type": "display_data"
        },
        {
          "data": {
            "text/html": [
              "<div>\n",
              "<style scoped>\n",
              "    .dataframe tbody tr th:only-of-type {\n",
              "        vertical-align: middle;\n",
              "    }\n",
              "\n",
              "    .dataframe tbody tr th {\n",
              "        vertical-align: top;\n",
              "    }\n",
              "\n",
              "    .dataframe thead th {\n",
              "        text-align: right;\n",
              "    }\n",
              "</style>\n",
              "<table border=\"1\" class=\"dataframe\">\n",
              "  <thead>\n",
              "    <tr style=\"text-align: right;\">\n",
              "      <th></th>\n",
              "      <th>class 3</th>\n",
              "      <th>class 1</th>\n",
              "      <th>class 2</th>\n",
              "    </tr>\n",
              "  </thead>\n",
              "  <tbody>\n",
              "    <tr>\n",
              "      <th>0</th>\n",
              "      <td>93</td>\n",
              "      <td>95</td>\n",
              "      <td>91</td>\n",
              "    </tr>\n",
              "    <tr>\n",
              "      <th>1</th>\n",
              "      <td>91</td>\n",
              "      <td>92</td>\n",
              "      <td>93</td>\n",
              "    </tr>\n",
              "    <tr>\n",
              "      <th>2</th>\n",
              "      <td>95</td>\n",
              "      <td>98</td>\n",
              "      <td>97</td>\n",
              "    </tr>\n",
              "    <tr>\n",
              "      <th>3</th>\n",
              "      <td>98</td>\n",
              "      <td>100</td>\n",
              "      <td>99</td>\n",
              "    </tr>\n",
              "  </tbody>\n",
              "</table>\n",
              "</div>"
            ],
            "text/plain": [
              "   class 3  class 1  class 2\n",
              "0       93       95       91\n",
              "1       91       92       93\n",
              "2       95       98       97\n",
              "3       98      100       99"
            ]
          },
          "metadata": {},
          "output_type": "display_data"
        },
        {
          "data": {
            "text/html": [
              "<div>\n",
              "<style scoped>\n",
              "    .dataframe tbody tr th:only-of-type {\n",
              "        vertical-align: middle;\n",
              "    }\n",
              "\n",
              "    .dataframe tbody tr th {\n",
              "        vertical-align: top;\n",
              "    }\n",
              "\n",
              "    .dataframe thead th {\n",
              "        text-align: right;\n",
              "    }\n",
              "</style>\n",
              "<table border=\"1\" class=\"dataframe\">\n",
              "  <thead>\n",
              "    <tr style=\"text-align: right;\">\n",
              "      <th></th>\n",
              "      <th>class 3</th>\n",
              "      <th>class 4</th>\n",
              "    </tr>\n",
              "  </thead>\n",
              "  <tbody>\n",
              "    <tr>\n",
              "      <th>0</th>\n",
              "      <td>93</td>\n",
              "      <td>82.0</td>\n",
              "    </tr>\n",
              "    <tr>\n",
              "      <th>1</th>\n",
              "      <td>91</td>\n",
              "      <td>91.0</td>\n",
              "    </tr>\n",
              "    <tr>\n",
              "      <th>2</th>\n",
              "      <td>95</td>\n",
              "      <td>NaN</td>\n",
              "    </tr>\n",
              "    <tr>\n",
              "      <th>3</th>\n",
              "      <td>98</td>\n",
              "      <td>NaN</td>\n",
              "    </tr>\n",
              "  </tbody>\n",
              "</table>\n",
              "</div>"
            ],
            "text/plain": [
              "   class 3  class 4\n",
              "0       93     82.0\n",
              "1       91     91.0\n",
              "2       95      NaN\n",
              "3       98      NaN"
            ]
          },
          "metadata": {},
          "output_type": "display_data"
        }
      ],
      "source": [
        "# 가로 방향으로 통합하기 : 인덱스가 다르면 NaN으로 붙인다.\n",
        "df4 = pd.DataFrame({\n",
        "    'class 3': [93, 91, 95, 98]\n",
        "})\n",
        "\n",
        "df5 = pd.DataFrame({\n",
        "    'class 4': [82, 91]\n",
        "})\n",
        "display(df4)\n",
        "display(df1)\n",
        "display(df1.join(df4))\n",
        "display(df4.join(df1))\n",
        "display(df4.join(df5))"
      ]
    },
    {
      "cell_type": "code",
      "execution_count": null,
      "metadata": {
        "id": "5ATHbwxFupF3"
      },
      "outputs": [],
      "source": []
    },
    {
      "cell_type": "code",
      "execution_count": null,
      "metadata": {
        "id": "vDm0RLpGupF4"
      },
      "outputs": [],
      "source": []
    },
    {
      "cell_type": "code",
      "execution_count": null,
      "metadata": {
        "id": "wXLU5bseupF4"
      },
      "outputs": [],
      "source": []
    },
    {
      "cell_type": "code",
      "execution_count": null,
      "metadata": {
        "id": "5Cy_NUGDupF5"
      },
      "outputs": [],
      "source": []
    }
  ],
  "metadata": {
    "kernelspec": {
      "display_name": "Python 3",
      "language": "python",
      "name": "python3"
    },
    "language_info": {
      "codemirror_mode": {
        "name": "ipython",
        "version": 3
      },
      "file_extension": ".py",
      "mimetype": "text/x-python",
      "name": "python",
      "nbconvert_exporter": "python",
      "pygments_lexer": "ipython3",
      "version": "3.7.7"
    },
    "colab": {
      "provenance": [],
      "include_colab_link": true
    }
  },
  "nbformat": 4,
  "nbformat_minor": 0
}