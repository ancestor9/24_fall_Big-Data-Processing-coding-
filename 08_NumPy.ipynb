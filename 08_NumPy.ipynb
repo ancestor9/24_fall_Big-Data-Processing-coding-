{
  "cells": [
    {
      "cell_type": "markdown",
      "metadata": {
        "id": "view-in-github",
        "colab_type": "text"
      },
      "source": [
        "<a href=\"https://colab.research.google.com/github/ancestor9/24_fall_Big-Data-Processing-coding-/blob/main/08_NumPy.ipynb\" target=\"_parent\"><img src=\"https://colab.research.google.com/assets/colab-badge.svg\" alt=\"Open In Colab\"/></a>"
      ]
    },
    {
      "cell_type": "code",
      "execution_count": null,
      "metadata": {
        "id": "N_5aMKVSueB-",
        "outputId": "f88d3201-ffbf-4112-e153-135c09a608ae"
      },
      "outputs": [
        {
          "data": {
            "text/plain": [
              "<module 'numpy' from 'C:\\\\Users\\\\sir95\\\\anaconda3\\\\envs\\\\cpu_env\\\\lib\\\\site-packages\\\\numpy\\\\__init__.py'>"
            ]
          },
          "execution_count": 115,
          "metadata": {},
          "output_type": "execute_result"
        }
      ],
      "source": [
        "# module import\n",
        "import numpy as np\n",
        "import matplotlib.pyplot as plt\n",
        "np"
      ]
    },
    {
      "cell_type": "markdown",
      "metadata": {
        "id": "OwOkbYmaueCC"
      },
      "source": [
        "# NumPy\n",
        "\n",
        "> 공식 문서(https://numpy.org/)\n",
        "\n",
        "\n",
        "\n",
        " 파이썬에서 데이터 과학 및 분석에 기본이 되는 패키지. 다차원 배열 데이터, 행렬 계산을 Python 기본 자료형이나 내장 함수를 이용하는 것보다 효과적으로 수행할 수 있다. C로 만든 패키지이기 때문에 속도가 빠르다."
      ]
    },
    {
      "cell_type": "markdown",
      "metadata": {
        "id": "060_dwv8ueCD"
      },
      "source": [
        "## 1. array\n",
        "\n",
        "* 배열\n",
        "    - 반드시 차원이 있다.\n",
        "    - 데이터 타입 통일 : 계산 속도의 향상을 위해.\n",
        "    - `.dtype` : 배열 내의 데이터 타입 확인.\n",
        "\n",
        "* 데이터 타입은 대부분 `float`라고 생각합시다.\n",
        "* 참고\n",
        "    - https://stackoverflow.com/questions/15879315/what-is-the-difference-between-ndarray-and-array-in-numpy"
      ]
    },
    {
      "cell_type": "code",
      "execution_count": null,
      "metadata": {
        "id": "xSIviwUOueCE",
        "outputId": "e9dcbd4c-47fc-4087-a6c4-a4409bb27c7c"
      },
      "outputs": [
        {
          "data": {
            "text/plain": [
              "(array([0, 1, 2, 3, 4]), numpy.ndarray, dtype('int32'))"
            ]
          },
          "execution_count": 11,
          "metadata": {},
          "output_type": "execute_result"
        }
      ],
      "source": [
        "# 시퀀스 데이터로부터 배열 생성 : 정수\n",
        "arr = np.array(range(0, 5))\n",
        "arr, type(arr), arr.dtype"
      ]
    },
    {
      "cell_type": "code",
      "execution_count": null,
      "metadata": {
        "id": "myQvDfiaueCE",
        "outputId": "10911a68-e3e9-487c-f9b9-10d9dd73f7d6"
      },
      "outputs": [
        {
          "data": {
            "text/plain": [
              "(array([ 0.1,  5. ,  4. , 12. ,  0.5]), numpy.ndarray, dtype('float64'))"
            ]
          },
          "execution_count": 10,
          "metadata": {},
          "output_type": "execute_result"
        }
      ],
      "source": [
        "# 시퀀스 데이터로부터 배열 생성 : 실수 + 정수 -> 실수\n",
        "arr2 = np.array([0.1, 5, 4, 12, 0.5])\n",
        "arr2, type(arr2), arr2.dtype"
      ]
    },
    {
      "cell_type": "code",
      "execution_count": null,
      "metadata": {
        "id": "T2M414lHueCF",
        "outputId": "f4fa42b8-c213-40b6-c431-e3b49682de2c"
      },
      "outputs": [
        {
          "name": "stdout",
          "output_type": "stream",
          "text": [
            "[[1 2 3]\n",
            " [4 5 6]\n",
            " [7 8 9]]\n",
            "<class 'numpy.ndarray'>\n",
            "int32\n",
            "(3, 3)\n",
            "[[[ 1  2  3]\n",
            "  [ 4  5  6]\n",
            "  [ 7  8  9]]\n",
            "\n",
            " [[11 21 31]\n",
            "  [41 51 61]\n",
            "  [71 81 91]]]\n",
            "<class 'numpy.ndarray'>\n",
            "int32\n",
            "(2, 3, 3)\n"
          ]
        }
      ],
      "source": [
        "# 2차원 배열\n",
        "arr3 = np.array([[1,2,3], [4,5,6], [7,8,9]])\n",
        "print(arr3, type(arr3), arr3.dtype, arr3.shape, sep = '\\n')\n",
        "\n",
        "# 3차원 배열\n",
        "arr4 = np.array([[[1,2,3], [4,5,6], [7,8,9]], [[11,21,31], [41,51,61], [71,81,91]]])\n",
        "print(arr4, type(arr4), arr4.dtype, arr4.shape, sep = '\\n')"
      ]
    },
    {
      "cell_type": "code",
      "execution_count": null,
      "metadata": {
        "scrolled": true,
        "id": "_NaWULKiueCF",
        "outputId": "22e85d7a-a0d0-4499-e448-896177c9715f"
      },
      "outputs": [
        {
          "name": "stdout",
          "output_type": "stream",
          "text": [
            "[3 5 7 9]\n",
            "[0 1 2 3 4]\n"
          ]
        }
      ],
      "source": [
        "# 범위를 지정해 배열 생성\n",
        "arr5 = np.arange(3, 10, 2)\n",
        "print(arr5)\n",
        "arr6 = np.arange(5)\n",
        "print(arr6)"
      ]
    },
    {
      "cell_type": "markdown",
      "metadata": {
        "id": "BliDRciYueCG"
      },
      "source": [
        "### 인덱싱 접근"
      ]
    },
    {
      "cell_type": "code",
      "execution_count": null,
      "metadata": {
        "id": "2yhPgKnUueCG",
        "outputId": "dc92e7d5-ffe6-4b4b-9344-589cb550f837"
      },
      "outputs": [
        {
          "name": "stdout",
          "output_type": "stream",
          "text": [
            "0\n",
            "6\n"
          ]
        }
      ],
      "source": [
        "print(arr5[0])\n",
        "print(arr3[1][2])"
      ]
    },
    {
      "cell_type": "markdown",
      "metadata": {
        "id": "PUWHdI2FueCH"
      },
      "source": [
        "### 배열의 차원 변환\n",
        "\n",
        "`.reshape`을 이용해 차원을 변환할 수 있다. 원소로 -1을 지정하면 다른 쪽에 하고 남은 것들이 들어간다.\n",
        "\n",
        "*참고*\n",
        "\n",
        " 속성을 직접 지정해서 바꿀 수도 있다. 그러나 비추천!\n",
        "\n",
        " ```\n",
        " arr7.shape = (3,4)\n",
        " ```"
      ]
    },
    {
      "cell_type": "code",
      "execution_count": null,
      "metadata": {
        "id": "b7_H6cf6ueCH",
        "outputId": "8dc82611-e5d8-493a-d2e8-14e8c9a36044"
      },
      "outputs": [
        {
          "name": "stdout",
          "output_type": "stream",
          "text": [
            "[[ 0  1  2]\n",
            " [ 3  4  5]\n",
            " [ 6  7  8]\n",
            " [ 9 10 11]]\n",
            "(4, 3)\n"
          ]
        }
      ],
      "source": [
        "arr7 = np.arange(12).reshape(4,3)\n",
        "print(arr7, arr7.shape, sep='\\n')"
      ]
    },
    {
      "cell_type": "code",
      "execution_count": null,
      "metadata": {
        "id": "Vwyj94v8ueCI",
        "outputId": "bbdad1b0-ad4e-4326-e4fd-e85448475c5b"
      },
      "outputs": [
        {
          "name": "stdout",
          "output_type": "stream",
          "text": [
            "[[ 0  1  2  3  4  5  6  7  8  9]\n",
            " [10 11 12 13 14 15 16 17 18 19]]\n",
            "(2, 10)\n",
            "[[ 0  1  2  3]\n",
            " [ 4  5  6  7]\n",
            " [ 8  9 10 11]\n",
            " [12 13 14 15]\n",
            " [16 17 18 19]]\n",
            "(5, 4)\n"
          ]
        }
      ],
      "source": [
        "# -1을 지정\n",
        "arr8 = np.arange(20).reshape(2, -1)\n",
        "print(arr8, arr8.shape, sep='\\n')\n",
        "arr9 = np.arange(20).reshape(-1, 4)\n",
        "print(arr9, arr9.shape, sep='\\n')"
      ]
    },
    {
      "cell_type": "code",
      "execution_count": null,
      "metadata": {
        "id": "00-L6yBFueCI",
        "outputId": "f2ef3801-02b7-402f-b7f9-58fd5b8de5a6"
      },
      "outputs": [
        {
          "name": "stdout",
          "output_type": "stream",
          "text": [
            "[0 1 2 3 4]\n",
            "[[0]\n",
            " [1]\n",
            " [2]\n",
            " [3]\n",
            " [4]]\n"
          ]
        }
      ],
      "source": [
        "b1 = np.arange(5)\n",
        "b2 = b1.reshape(-1, 1)\n",
        "print(b1)\n",
        "print(b2)"
      ]
    },
    {
      "cell_type": "markdown",
      "metadata": {
        "id": "BzVNUe9BueCI"
      },
      "source": [
        "### 같은 간격으로 나눠준다.\n",
        "\n",
        "`np.linspace(a, b, c)`는 a부터 b까지 c개의 데이터를 동일한 간격으로 가져 온다."
      ]
    },
    {
      "cell_type": "code",
      "execution_count": null,
      "metadata": {
        "id": "eI_kyQYIueCJ",
        "outputId": "83ff2ddb-4547-4674-e2ca-a1971fab3fa2"
      },
      "outputs": [
        {
          "name": "stdout",
          "output_type": "stream",
          "text": [
            "[ 1.  2.  3.  4.  5.  6.  7.  8.  9. 10.] <class 'numpy.ndarray'>\n"
          ]
        }
      ],
      "source": [
        "c = np.linspace(1, 10, 10)\n",
        "print(c, type(c))"
      ]
    },
    {
      "cell_type": "code",
      "execution_count": null,
      "metadata": {
        "id": "pmHaBHsbueCJ",
        "outputId": "aeea6872-6f3d-43f9-f585-e60ad5d6ba70"
      },
      "outputs": [
        {
          "name": "stdout",
          "output_type": "stream",
          "text": [
            "[0.         0.16534698 0.33069396 0.49604095 0.66138793 0.82673491\n",
            " 0.99208189 1.15742887 1.32277585 1.48812284 1.65346982 1.8188168\n",
            " 1.98416378 2.14951076 2.31485774 2.48020473 2.64555171 2.81089869\n",
            " 2.97624567 3.14159265]\n"
          ]
        }
      ],
      "source": [
        "d = np.linspace(0, np.pi, 20)\n",
        "print(d)"
      ]
    },
    {
      "cell_type": "code",
      "execution_count": null,
      "metadata": {
        "id": "ro2sQkUqueCJ",
        "outputId": "20c88c88-6e49-44c4-eb69-db3e16bf7218"
      },
      "outputs": [
        {
          "name": "stdout",
          "output_type": "stream",
          "text": [
            "[ 3.          3.77777778  4.55555556  5.33333333  6.11111111  6.88888889\n",
            "  7.66666667  8.44444444  9.22222222 10.        ]\n"
          ]
        }
      ],
      "source": [
        "e = np.linspace(3, 10, 10)\n",
        "print(e)"
      ]
    },
    {
      "cell_type": "markdown",
      "metadata": {
        "id": "1S50vT-1ueCJ"
      },
      "source": [
        "### 배열 평활화\n",
        "\n",
        "`.flatten()` 혹은 `.ravel()`을 사용하면 다차원 배열을 1차원으로 평평하게 펼 수 있다. `.reshape(-1)`을 사용해도 된다."
      ]
    },
    {
      "cell_type": "code",
      "execution_count": null,
      "metadata": {
        "id": "XxsZrT0queCK",
        "outputId": "e335dda1-cc2f-44eb-f4b2-7d9bc3998b2a"
      },
      "outputs": [
        {
          "name": "stdout",
          "output_type": "stream",
          "text": [
            "[0 1 2 3 4]\n",
            "[0 1 2 3 4]\n",
            "[0 1 2 3 4]\n"
          ]
        }
      ],
      "source": [
        "print(b2.flatten())\n",
        "print(b2.ravel())\n",
        "print(b2.reshape(-1))"
      ]
    },
    {
      "cell_type": "markdown",
      "metadata": {
        "id": "i7H1wSHfueCK"
      },
      "source": [
        "### 특별한 형태의 행렬\n",
        "\n",
        "* `np.zeros` : 영행렬 생성, 사이즈 n이 인자.\n",
        "* `np.ones` : 모든 원소가 1인 행렬 생성.\n",
        "* `np.eyes` / `np.identity` : 단위행렬 생성.\n",
        "* `np.full` : 지정한 차원만큼, 지정한 수를 채워서 행렬 생성."
      ]
    },
    {
      "cell_type": "code",
      "execution_count": null,
      "metadata": {
        "id": "8sbp5i-AueCK",
        "outputId": "6ab98af2-2e67-48c2-b01d-bc22da8e7647"
      },
      "outputs": [
        {
          "name": "stdout",
          "output_type": "stream",
          "text": [
            "[0. 0. 0. 0. 0. 0. 0. 0. 0. 0.]\n",
            "[[0. 0. 0. 0.]\n",
            " [0. 0. 0. 0.]\n",
            " [0. 0. 0. 0.]]\n",
            "(3, 4)\n"
          ]
        }
      ],
      "source": [
        "zeros = np.zeros(10)\n",
        "print(zeros)\n",
        "zeros2 = np.zeros((3, 4))\n",
        "print(zeros2, zeros2.shape, sep='\\n')"
      ]
    },
    {
      "cell_type": "code",
      "execution_count": null,
      "metadata": {
        "id": "iTxVAMwfueCL",
        "outputId": "dcf3853e-04fd-43ed-898b-0e796a06cd68"
      },
      "outputs": [
        {
          "name": "stdout",
          "output_type": "stream",
          "text": [
            "[1. 1. 1. 1. 1.]\n",
            "[[[1. 1. 1. 1. 1.]\n",
            "  [1. 1. 1. 1. 1.]\n",
            "  [1. 1. 1. 1. 1.]\n",
            "  [1. 1. 1. 1. 1.]]\n",
            "\n",
            " [[1. 1. 1. 1. 1.]\n",
            "  [1. 1. 1. 1. 1.]\n",
            "  [1. 1. 1. 1. 1.]\n",
            "  [1. 1. 1. 1. 1.]]\n",
            "\n",
            " [[1. 1. 1. 1. 1.]\n",
            "  [1. 1. 1. 1. 1.]\n",
            "  [1. 1. 1. 1. 1.]\n",
            "  [1. 1. 1. 1. 1.]]]\n"
          ]
        }
      ],
      "source": [
        "ones = np.ones(5)\n",
        "print(ones)\n",
        "ones2 = np.ones((3, 4, 5))\n",
        "print(ones2)"
      ]
    },
    {
      "cell_type": "code",
      "execution_count": null,
      "metadata": {
        "id": "Y_9T45JXueCL",
        "outputId": "f384ed08-9649-418d-e4de-01d3b76b5e82"
      },
      "outputs": [
        {
          "name": "stdout",
          "output_type": "stream",
          "text": [
            "[[1. 0. 0. 0.]\n",
            " [0. 1. 0. 0.]\n",
            " [0. 0. 1. 0.]\n",
            " [0. 0. 0. 1.]]\n",
            "[[1 0 0 0 0 0 0 0 0 0]\n",
            " [0 1 0 0 0 0 0 0 0 0]\n",
            " [0 0 1 0 0 0 0 0 0 0]\n",
            " [0 0 0 1 0 0 0 0 0 0]\n",
            " [0 0 0 0 1 0 0 0 0 0]\n",
            " [0 0 0 0 0 1 0 0 0 0]\n",
            " [0 0 0 0 0 0 1 0 0 0]\n",
            " [0 0 0 0 0 0 0 1 0 0]\n",
            " [0 0 0 0 0 0 0 0 1 0]\n",
            " [0 0 0 0 0 0 0 0 0 1]]\n"
          ]
        }
      ],
      "source": [
        "eyes = np.eye(4)\n",
        "print(eyes)\n",
        "identity = np.identity(10, dtype=np.int32)\n",
        "print(identity)"
      ]
    },
    {
      "cell_type": "code",
      "execution_count": null,
      "metadata": {
        "id": "D3iLuVplueCL",
        "outputId": "e6b39eca-3bc7-4b7d-d019-474d7f20cabe"
      },
      "outputs": [
        {
          "name": "stdout",
          "output_type": "stream",
          "text": [
            "[[0. 0. 0.]\n",
            " [0. 0. 0.]\n",
            " [0. 0. 0.]]\n",
            "[[0. 0. 0.]\n",
            " [0. 0. 0.]\n",
            " [0. 0. 0.]]\n"
          ]
        }
      ],
      "source": [
        "full = np.full((3, 3), 0, dtype=np.float64)\n",
        "print(full)\n",
        "zeros3 = np.zeros((3, 3))\n",
        "print(zeros3)"
      ]
    },
    {
      "cell_type": "markdown",
      "metadata": {
        "id": "agL7YFwFueCM"
      },
      "source": [
        "### 배열의 데이터 타입 변환"
      ]
    },
    {
      "cell_type": "code",
      "execution_count": null,
      "metadata": {
        "id": "rRjGRFwgueCM",
        "outputId": "b66b7dd5-ab40-4c41-a356-5aba968f45dd"
      },
      "outputs": [
        {
          "name": "stdout",
          "output_type": "stream",
          "text": [
            "['1.5' '0.62' '2' '3.14' '3.141592']\n",
            "<U8\n",
            "[1.5      0.62     2.       3.14     3.141592]\n",
            "float32\n"
          ]
        }
      ],
      "source": [
        "str1 = np.array(['1.5', '0.62', '2', '3.14', '3.141592'])\n",
        "print(str1)\n",
        "print(str1.dtype) # 문자형\n",
        "str2 = str1.astype(np.float32)\n",
        "print(str2)\n",
        "print(str2.dtype) # 실수형"
      ]
    },
    {
      "cell_type": "code",
      "execution_count": null,
      "metadata": {
        "id": "_9STqij8ueCM",
        "outputId": "02520ab3-62ca-49ee-9b09-94c5c5f32715"
      },
      "outputs": [
        {
          "name": "stdout",
          "output_type": "stream",
          "text": [
            "['1' '2' '3' '4' '5']\n",
            "<U1\n",
            "[1 2 3 4 5]\n",
            "int32\n"
          ]
        }
      ],
      "source": [
        "str3 = np.array(['1', '2', '3', '4', '5'])\n",
        "print(str3)\n",
        "print(str3.dtype)\n",
        "str4 = str3.astype(np.int32)\n",
        "print(str4)\n",
        "print(str4.dtype)"
      ]
    },
    {
      "cell_type": "markdown",
      "metadata": {
        "id": "RJCM06hAueCM"
      },
      "source": [
        "### 난수 배열의 생성\n",
        "\n",
        " 당연히, 실행할 때마다 숫자가 바뀐다. 랜덤 시드를 고정해서 바뀌는 숫자를 잡아줄 수 있다.\n"
      ]
    },
    {
      "cell_type": "code",
      "execution_count": null,
      "metadata": {
        "id": "RGWGAsbYueCN",
        "outputId": "14dc48ab-7254-400e-bfb3-9c5601c22ca5"
      },
      "outputs": [
        {
          "name": "stdout",
          "output_type": "stream",
          "text": [
            "4\n"
          ]
        }
      ],
      "source": [
        "# 정수 난수 생성\n",
        "rand1 = np.random.randint(1, 30)\n",
        "print(rand1)"
      ]
    },
    {
      "cell_type": "code",
      "execution_count": null,
      "metadata": {
        "scrolled": true,
        "id": "wp37GYQHueCN",
        "outputId": "7fcea22a-1038-4b12-b817-071010587717"
      },
      "outputs": [
        {
          "name": "stdout",
          "output_type": "stream",
          "text": [
            "[[5 1 5 2]\n",
            " [1 9 2 5]\n",
            " [5 2 8 2]]\n"
          ]
        }
      ],
      "source": [
        "# 다차원 배열 생성\n",
        "rand2 = np.random.randint(10, size=(3, 4))\n",
        "print(rand2)"
      ]
    },
    {
      "cell_type": "code",
      "execution_count": null,
      "metadata": {
        "id": "xsQvddx9ueCN",
        "outputId": "939a0a2e-e06d-442e-f6a7-d87dc28666e5"
      },
      "outputs": [
        {
          "name": "stdout",
          "output_type": "stream",
          "text": [
            "[[0.07456033 0.87933119 0.5274619 ]\n",
            " [0.61822402 0.56145076 0.67595376]]\n"
          ]
        }
      ],
      "source": [
        "# 실수 난수 다차원 배열 생성\n",
        "rand3 = np.random.rand(2,3)\n",
        "print(rand3)"
      ]
    },
    {
      "cell_type": "markdown",
      "metadata": {
        "id": "_Qcw8NEAueCN"
      },
      "source": [
        "### 정규분포로부터 난수 생성"
      ]
    },
    {
      "cell_type": "code",
      "execution_count": null,
      "metadata": {
        "id": "kfiGc78cueCO",
        "outputId": "dfcdd546-7eb5-47b4-c350-00ea533f9e4d"
      },
      "outputs": [
        {
          "name": "stdout",
          "output_type": "stream",
          "text": [
            "[[ 1.38084097  1.41555276 -1.05262596  1.6458629  -0.89862011 -0.16246305\n",
            "  -2.16671978 -0.19930559  0.72593586  0.11142823  0.10753769 -1.16751595\n",
            "  -0.89476634  1.01598169 -0.11023948 -2.45398804  1.83549431 -0.54611383\n",
            "  -0.01962656  0.76366599  0.73572099 -1.94174381  0.97857472  0.68684721\n",
            "  -0.83940609 -0.53930868 -0.9324164   0.46641834  0.88380607 -0.51157869\n",
            "  -0.90526753 -1.97921459 -2.21776687  1.39718094  1.84663029  0.41354786\n",
            "  -1.00019022 -1.53997523  1.04016099 -0.08815541]]\n"
          ]
        }
      ],
      "source": [
        "print(np.random.randn(1, 40))"
      ]
    },
    {
      "cell_type": "code",
      "execution_count": null,
      "metadata": {
        "scrolled": true,
        "id": "20Op8RwuueCO",
        "outputId": "741e11e0-2513-40ca-f3d2-fac07571fb5d"
      },
      "outputs": [
        {
          "ename": "TypeError",
          "evalue": "'int' object is not callable",
          "output_type": "error",
          "traceback": [
            "\u001b[1;31m---------------------------------------------------------------------------\u001b[0m",
            "\u001b[1;31mTypeError\u001b[0m                                 Traceback (most recent call last)",
            "\u001b[1;32m<ipython-input-113-41dab5920279>\u001b[0m in \u001b[0;36m<module>\u001b[1;34m\u001b[0m\n\u001b[1;32m----> 1\u001b[1;33m \u001b[0mnp\u001b[0m\u001b[1;33m.\u001b[0m\u001b[0mrandom\u001b[0m\u001b[1;33m.\u001b[0m\u001b[0mseed\u001b[0m\u001b[1;33m(\u001b[0m\u001b[1;36m0\u001b[0m\u001b[1;33m)\u001b[0m\u001b[1;33m\u001b[0m\u001b[1;33m\u001b[0m\u001b[0m\n\u001b[0m\u001b[0;32m      2\u001b[0m \u001b[0mnp\u001b[0m\u001b[1;33m.\u001b[0m\u001b[0mrandom\u001b[0m\u001b[1;33m.\u001b[0m\u001b[0mrandint\u001b[0m\u001b[1;33m(\u001b[0m\u001b[1;36m1\u001b[0m\u001b[1;33m,\u001b[0m \u001b[1;36m40\u001b[0m\u001b[1;33m)\u001b[0m\u001b[1;33m\u001b[0m\u001b[1;33m\u001b[0m\u001b[0m\n",
            "\u001b[1;31mTypeError\u001b[0m: 'int' object is not callable"
          ]
        }
      ],
      "source": [
        "np.random.seed(0)\n",
        "np.random.randint(1, 40)"
      ]
    },
    {
      "cell_type": "code",
      "execution_count": null,
      "metadata": {
        "id": "jpOhT-2YueCO"
      },
      "outputs": [],
      "source": [
        "np.random.seed?"
      ]
    },
    {
      "cell_type": "markdown",
      "metadata": {
        "id": "xCtUczgmueCP"
      },
      "source": [
        "# Matplotlib"
      ]
    },
    {
      "cell_type": "code",
      "execution_count": null,
      "metadata": {
        "id": "EC8i8ncPueCP",
        "outputId": "4eb72e76-5357-4c8d-eb53-3fc89fd14849"
      },
      "outputs": [
        {
          "data": {
            "image/png": "[encoded data removed]",
            "text/plain": [
              "<Figure size 432x288 with 1 Axes>"
            ]
          },
          "metadata": {
            "needs_background": "light"
          },
          "output_type": "display_data"
        }
      ],
      "source": [
        "data = np.random.randn(100) # 정규 분포에서 난수 추출\n",
        "plt.hist(data, bins=10)\n",
        "plt.show()"
      ]
    },
    {
      "cell_type": "code",
      "execution_count": null,
      "metadata": {
        "id": "OvJsCOwOueCP"
      },
      "outputs": [],
      "source": []
    },
    {
      "cell_type": "markdown",
      "metadata": {
        "id": "H6KnBxH4ueCP"
      },
      "source": [
        "# 배열의 연산\n",
        "\n",
        " 차원 확장(broadcasting) 가능. 곱셈이든 덧셈이든 확장해서 배열의 크기를 맞춰 준다."
      ]
    },
    {
      "cell_type": "code",
      "execution_count": null,
      "metadata": {
        "scrolled": true,
        "id": "pQ3mCkW2ueCc",
        "outputId": "52fde27d-fb6d-4ac1-9a4d-d09390570cf4"
      },
      "outputs": [
        {
          "name": "stdout",
          "output_type": "stream",
          "text": [
            "배열의 합 [11 22 33 44]\n",
            "배열의 차 [ 9 18 27 36]\n",
            "배열의 곱 [ 10  40  90 160]\n",
            "배열의 상수 곱 [ 30  60  90 120] [ 30  60  90 120]\n",
            "배열의 거듭제곱 [ 1000  8000 27000 64000]\n",
            "배열의 나눗셈 [10. 10. 10. 10.]\n",
            "배열의 복합 연산 예 [10.          2.5         1.11111111  0.625     ]\n",
            "배열의 비교 연산 [False  True  True  True]\n"
          ]
        }
      ],
      "source": [
        "# 배열의 기본 연산\n",
        "a1 = np.array([10, 20, 30, 40])\n",
        "a2 = np.array([1, 2, 3, 4])\n",
        "print(\"배열의 합\", a1 + a2)\n",
        "print(\"배열의 차\", a1 - a2)\n",
        "print(\"배열의 곱\", a1 * a2)\n",
        "print(\"배열의 상수 곱\", a1 * 3, a1*[3,3,3,3]) # broadcast\n",
        "print(\"배열의 거듭제곱\", a1**3)\n",
        "print(\"배열의 나눗셈\", a1/a2)\n",
        "print(\"배열의 복합 연산 예\", a1/(a2**3))\n",
        "print(\"배열의 비교 연산\", a1>15)"
      ]
    },
    {
      "cell_type": "code",
      "execution_count": null,
      "metadata": {
        "id": "OY1ERCCKueCd",
        "outputId": "1f08fa93-e17a-4575-8872-0366ba939314"
      },
      "outputs": [
        {
          "name": "stdout",
          "output_type": "stream",
          "text": [
            "[10 20 30 40]\n",
            "[10 30]\n",
            "[10 40]\n",
            "[20 30 40]\n"
          ]
        }
      ],
      "source": [
        "print(a1[[0,1,2,3]])\n",
        "print(a1[[0,2]])\n",
        "print(a1[[True, False, False, True]]) # boolean indexing\n",
        "print(a1[a1>15])"
      ]
    },
    {
      "cell_type": "code",
      "execution_count": null,
      "metadata": {
        "id": "6rIojKNFueCd",
        "outputId": "7fa22151-4a4f-410c-e55b-260858386e39"
      },
      "outputs": [
        {
          "name": "stdout",
          "output_type": "stream",
          "text": [
            "[[-0.33601367  1.25815108 -0.60615893  0.01166214  0.07378456  0.8629781\n",
            "   0.45248729 -0.98483719 -0.28692998 -0.71416993]]\n",
            "[[-0.22502716  0.91220447  0.83383516 -0.55964815  0.85193376  0.02381782\n",
            "  -1.51950394 -0.05049366  0.50803869  0.10763098]]\n",
            "배열의 합\n",
            "-0.2690465199077975\n",
            "[-0.33601367  1.25815108 -0.60615893  0.01166214  0.07378456  0.8629781\n",
            "  0.45248729 -0.98483719 -0.28692998 -0.71416993]\n",
            "[-0.56104082  2.17035555  0.22767624 -0.54798601  0.92571832  0.88679593\n",
            " -1.06701666 -1.03533085  0.2211087  -0.60653895]\n"
          ]
        }
      ],
      "source": [
        "# 통계를 위한 연산\n",
        "a4 = np.random.randn(1, 10)\n",
        "a5 = np.random.randn(1, 10)\n",
        "print(a4)\n",
        "print(a5)\n",
        "print(\"배열의 합\", a4.sum(), sum(a4), sum(a4+a5), sep='\\n')"
      ]
    },
    {
      "cell_type": "code",
      "execution_count": null,
      "metadata": {
        "scrolled": true,
        "id": "ax8d2xz_ueCd",
        "outputId": "5b245334-8d96-4d50-fee7-5f22da2c6e61"
      },
      "outputs": [
        {
          "name": "stdout",
          "output_type": "stream",
          "text": [
            "배열의 평균 -0.026904651990779748\n",
            "배열의 표준편차 0.6762667569285767\n",
            "배열의 분산 [0. 0. 0. 0. 0. 0. 0. 0. 0. 0.]\n",
            "배열의 최솟값과 최댓값 -0.9848371864093252 1.2581510811668666\n",
            "배열의 누적합 [-0.33601367  0.92213742  0.31597849  0.32764063  0.40142519  1.26440329\n",
            "  1.71689058  0.73205339  0.44512341 -0.26904652]\n"
          ]
        }
      ],
      "source": [
        "print(\"배열의 평균\", a4.mean())\n",
        "print(\"배열의 표준편차\", a4.std())\n",
        "print(\"배열의 분산\", a4.var(0))\n",
        "print(\"배열의 최솟값과 최댓값\", a4.min(), a4.max())\n",
        "print(\"배열의 누적합\", a4.cumsum())"
      ]
    },
    {
      "cell_type": "markdown",
      "metadata": {
        "id": "VE9GCzAHueCd"
      },
      "source": [
        "### axis\n",
        "\n",
        "* `axis=0` : 열 단위로 아래로 내려가면서 확인 --> 행 기준.\n",
        "* `axis=1` : 행 단위로 오른쪽으로 가면 확인 --> 열 기준.\n",
        "\n",
        "#### arg\n",
        " 배열에서 가장 큰(`np.argmax`) 원소나 작은(`np.argmin`) 원소의 인덱스를 반환한다. 축 설정에 주의하자.\n",
        "\n",
        "#### 다차원 배열의 집계 축 설정\n",
        " 어느 방향으로 구할 지 주의하자."
      ]
    },
    {
      "cell_type": "code",
      "execution_count": null,
      "metadata": {
        "scrolled": true,
        "id": "r7xgb_5sueCe",
        "outputId": "66ab37ed-6afd-47bf-939b-deb027f2ba87"
      },
      "outputs": [
        {
          "name": "stdout",
          "output_type": "stream",
          "text": [
            "[[-0.33601367  1.25815108 -0.60615893  0.01166214  0.07378456  0.8629781\n",
            "   0.45248729 -0.98483719 -0.28692998 -0.71416993]]\n",
            "각 열별로 가장 큰 원소의 행 위치 [0 0 0 0 0 0 0 0 0 0]\n",
            "각 행별로 가장 큰 원소의 열 위치 [1]\n"
          ]
        }
      ],
      "source": [
        "print(a4)\n",
        "print(\"각 열별로 가장 큰 원소의 행 위치\", np.argmax(a4, axis=0))\n",
        "print(\"각 행별로 가장 큰 원소의 열 위치\", np.argmax(a4, axis=1))"
      ]
    },
    {
      "cell_type": "code",
      "execution_count": null,
      "metadata": {
        "scrolled": true,
        "id": "SyUpSXW5ueCe",
        "outputId": "e2664bc2-dd6d-4b39-e31f-e1ca3c53d5ca"
      },
      "outputs": [
        {
          "name": "stdout",
          "output_type": "stream",
          "text": [
            "[[0 1 2]\n",
            " [3 4 5]\n",
            " [6 7 8]]\n",
            "다차원 배열의 합 열 단위 [ 9 12 15]\n",
            "다차원 배열의 합 행 단위 [ 3 12 21]\n"
          ]
        }
      ],
      "source": [
        "# 2차원 배열의 집계\n",
        "sample_arr = np.arange(9).reshape(3,3)\n",
        "print(sample_arr)\n",
        "print(\"다차원 배열의 합 열 단위\", sample_arr.sum(axis=0))\n",
        "print(\"다차원 배열의 합 행 단위\", sample_arr.sum(axis=1))"
      ]
    },
    {
      "cell_type": "code",
      "execution_count": null,
      "metadata": {
        "id": "BmGnCs4RueCe"
      },
      "outputs": [],
      "source": []
    },
    {
      "cell_type": "markdown",
      "metadata": {
        "id": "dm32rtMrueCf"
      },
      "source": [
        "< 연습 문제 >"
      ]
    },
    {
      "cell_type": "markdown",
      "metadata": {
        "id": "N6_LdGj0ueCf"
      },
      "source": [
        "1. 10개의 0 벡터를 만들고, 4번째와 5번째 인덱스의 값을 1로 한 후, (5, 2)행렬로 만들어라."
      ]
    },
    {
      "cell_type": "code",
      "execution_count": null,
      "metadata": {
        "id": "0VdtJ5AnueCf",
        "outputId": "e7659aa8-7733-46ef-95f6-d2eda78f05bb"
      },
      "outputs": [
        {
          "name": "stdout",
          "output_type": "stream",
          "text": [
            "[[0. 0.]\n",
            " [0. 0.]\n",
            " [1. 1.]\n",
            " [0. 0.]\n",
            " [0. 0.]]\n"
          ]
        }
      ],
      "source": [
        "res1 = np.zeros(10)\n",
        "res1[4], res1[5] = 1, 1 # 강사님 코드 : res1[[4. 5]] = 1\n",
        "ans1 = res1.reshape(5,2)\n",
        "print(ans1)"
      ]
    },
    {
      "cell_type": "markdown",
      "metadata": {
        "id": "mxLXDAYQueCf"
      },
      "source": [
        "2. 10에서 30까지 2씩 증가하는 벡터를 만들고, 다음 리스트와 요소별 사칙연산을 하여라.\n",
        "\n",
        "a = [1. , 1.1, 1.2, 1.3, 1.4, 1.5, 1.6, 1.7, 1.8, 1.9]"
      ]
    },
    {
      "cell_type": "code",
      "execution_count": null,
      "metadata": {
        "id": "vjDyrg0aueCg",
        "outputId": "3031959e-d100-47f1-f28d-94fd33670830"
      },
      "outputs": [
        {
          "name": "stdout",
          "output_type": "stream",
          "text": [
            "덧셈 [11.  13.1 15.2 17.3 19.4 21.5 23.6 25.7 27.8 29.9]\n",
            "뺄셈 [ 9.  10.9 12.8 14.7 16.6 18.5 20.4 22.3 24.2 26.1]\n",
            "곱셈 [10.  13.2 16.8 20.8 25.2 30.  35.2 40.8 46.8 53.2]\n",
            "나눗셈 [10.         10.90909091 11.66666667 12.30769231 12.85714286 13.33333333\n",
            " 13.75       14.11764706 14.44444444 14.73684211]\n"
          ]
        }
      ],
      "source": [
        "res2 = np.arange(10, 30, 2)\n",
        "a = np.array([1., 1.1, 1.2, 1.3, 1.4, 1.5, 1.6, 1.7, 1.8, 1.9])\n",
        "print(\"덧셈\", res2 + a)\n",
        "print(\"뺄셈\", res2 - a)\n",
        "print(\"곱셈\", res2 * a)\n",
        "print(\"나눗셈\", res2 /a)"
      ]
    },
    {
      "cell_type": "markdown",
      "metadata": {
        "id": "42ZeGqDOueCg"
      },
      "source": [
        "3. <1에서 100>까지 10개를 균등하게 분할하여 배열을 만들고, 각각의 합, 평균, 표준편차, 분산, 최소값, 최대값, 누적합, 누적곱을 구하여라"
      ]
    },
    {
      "cell_type": "code",
      "execution_count": null,
      "metadata": {
        "id": "Tln0s9V2ueCh",
        "outputId": "1593e698-7bdd-4f95-b183-1a8b0d51d158"
      },
      "outputs": [
        {
          "name": "stdout",
          "output_type": "stream",
          "text": [
            "합 505.0\n",
            "평균 50.5\n",
            "표준편차 31.595094555959157\n",
            "분산 998.25\n",
            "최솟값 1.0\n",
            "최댓값 100.0\n",
            "누적합 [  1.  13.  36.  70. 115. 171. 238. 316. 405. 505.]\n",
            "누적곱 [1.00000000e+00 1.20000000e+01 2.76000000e+02 9.38400000e+03\n",
            " 4.22280000e+05 2.36476800e+07 1.58439456e+09 1.23582776e+11\n",
            " 1.09988670e+13 1.09988670e+15]\n"
          ]
        }
      ],
      "source": [
        "res3 = np.linspace(1, 100, 10)\n",
        "print(\"합\", res3.sum())\n",
        "print(\"평균\", res3.mean())\n",
        "print(\"표준편차\", res3.std())\n",
        "print(\"분산\", res3.var())\n",
        "print(\"최솟값\", res3.min())\n",
        "print(\"최댓값\", res3.max())\n",
        "print(\"누적합\", res3.cumsum())\n",
        "print(\"누적곱\", res3.cumprod())"
      ]
    },
    {
      "cell_type": "markdown",
      "metadata": {
        "id": "0aJX9OLJueCh"
      },
      "source": [
        "4. 0에서 10까지 random한 값을 지닌 3x3 실수 행렬을 만들어라\n",
        "\n",
        "> 히스토그램 그리면 균등하게 일렬로 분포. 균등하게 추출된다는 의미."
      ]
    },
    {
      "cell_type": "code",
      "execution_count": null,
      "metadata": {
        "id": "SBaA4U-queCh",
        "outputId": "e714561b-7dd7-4813-ec48-de1f5a741417"
      },
      "outputs": [
        {
          "name": "stdout",
          "output_type": "stream",
          "text": [
            "[[0.52802958 0.73150258 0.63316016]\n",
            " [0.29181624 0.70730704 0.30547538]\n",
            " [0.16392881 0.10422732 0.86999338]]\n"
          ]
        }
      ],
      "source": [
        "res4 = np.random.rand(3, 3)\n",
        "print(res4)"
      ]
    },
    {
      "cell_type": "code",
      "execution_count": null,
      "metadata": {
        "id": "VaUks02nueCi",
        "outputId": "e34240c6-2943-4c60-cf33-d4d2a18f9b25"
      },
      "outputs": [
        {
          "name": "stdout",
          "output_type": "stream",
          "text": [
            "[[1.49759988 3.62339921 9.99455677]\n",
            " [0.21873718 4.41711209 8.47563449]\n",
            " [7.39925613 1.60233577 0.70885907]]\n"
          ]
        }
      ],
      "source": [
        "# 강사님 의도 : 어차피 10을 곱하면 된다.\n",
        "ans4 = np.random.random((3,3)) * 10\n",
        "print(ans4)"
      ]
    },
    {
      "cell_type": "code",
      "execution_count": null,
      "metadata": {
        "id": "W9fpHRA7ueCi",
        "outputId": "01c79472-5a49-44fe-fe15-25420dbde284"
      },
      "outputs": [
        {
          "name": "stdout",
          "output_type": "stream",
          "text": [
            "[[8.53091917 0.0516332  0.11712282]\n",
            " [5.70951964 2.53260946 5.27864634]\n",
            " [5.29657938 0.80839603 8.48044489]]\n"
          ]
        }
      ],
      "source": [
        "# 다른 방법\n",
        "print(np.random.uniform(0, 10, size= (3,3)))"
      ]
    },
    {
      "cell_type": "markdown",
      "metadata": {
        "id": "HKQtaEiMueCj"
      },
      "source": [
        "5. 0에서 10까지 random한 값을 지닌 3x3 정수 행렬을 만들어라"
      ]
    },
    {
      "cell_type": "code",
      "execution_count": null,
      "metadata": {
        "id": "16b1-PXcueCj",
        "outputId": "6fc78e00-ee94-4a7d-ac08-f9dacc20b675"
      },
      "outputs": [
        {
          "name": "stdout",
          "output_type": "stream",
          "text": [
            "[[1 8 1]\n",
            " [8 5 7]\n",
            " [0 0 2]]\n"
          ]
        }
      ],
      "source": [
        "res5 = np.random.randint(10, size=9).reshape(3,3)\n",
        "print(res5)"
      ]
    },
    {
      "cell_type": "markdown",
      "metadata": {
        "id": "Ohtbw1BqueCj"
      },
      "source": [
        "6. 5x2 행렬을 만들고 Standardization(표준화) 하여라."
      ]
    },
    {
      "cell_type": "code",
      "execution_count": null,
      "metadata": {
        "id": "kKetgjh0ueCj",
        "outputId": "6d78c414-cedc-425b-f725-af625cf40b66"
      },
      "outputs": [
        {
          "name": "stdout",
          "output_type": "stream",
          "text": [
            "[[0.88889607 0.73014281]\n",
            " [0.2081922  0.4382835 ]\n",
            " [0.48736724 0.18585775]\n",
            " [0.63806753 0.74959895]\n",
            " [0.93434289 0.24691514]]\n",
            "[[ 1.27772964  0.67783033]\n",
            " [-1.29452477 -0.42505215]\n",
            " [-0.23957376 -1.37892253]\n",
            " [ 0.32989484  0.75135152]\n",
            " [ 1.4494648  -1.14819792]]\n"
          ]
        }
      ],
      "source": [
        "res6 = np.random.rand(5,2)\n",
        "print(res6)\n",
        "res6_standardized = (res6 - res6.mean())/res6.std()\n",
        "print(res6_standardized)"
      ]
    },
    {
      "cell_type": "code",
      "execution_count": null,
      "metadata": {
        "id": "5vACufK4ueCk",
        "outputId": "1c35a337-7200-4191-c322-b4229015e379"
      },
      "outputs": [
        {
          "name": "stdout",
          "output_type": "stream",
          "text": [
            "[[0.48728711 0.99092222]\n",
            " [0.66711862 0.53944592]\n",
            " [0.94113266 0.78691353]\n",
            " [0.12052743 0.78180614]\n",
            " [0.6592733  0.76078898]]\n",
            "[[-0.32539068  1.52954493]\n",
            " [ 0.34121931 -1.62443173]\n",
            " [ 1.3569506   0.10435683]\n",
            " [-1.68491702  0.06867708]\n",
            " [ 0.31213779 -0.07814711]]\n"
          ]
        }
      ],
      "source": [
        "# feature 간 표준화 : 각 특성마다 scale 맞춘다.\n",
        "res7 = np.random.rand(5,2)\n",
        "print(res7)\n",
        "res7_standardized = (res7 - res7.mean(axis=0)) / res7.std(axis=0)\n",
        "print(res7_standardized)"
      ]
    },
    {
      "cell_type": "code",
      "execution_count": null,
      "metadata": {
        "id": "laspi6DgueCk"
      },
      "outputs": [],
      "source": []
    },
    {
      "cell_type": "markdown",
      "metadata": {
        "id": "Ide3pOWYueCl"
      },
      "source": [
        "### 행렬 연산\n",
        "\n",
        "* 행렬곱 : `np.dot` 혹은 `행렬A.dot(행렬B)` 혹은 `@`\n",
        "* 전치행렬 : `np.transpose()`, '행렬.T`\n",
        "* 역행렬\n",
        "* 행렬식"
      ]
    },
    {
      "cell_type": "code",
      "execution_count": null,
      "metadata": {
        "id": "xHtYC7_-ueCl",
        "outputId": "90c145ea-ff09-4fae-e07a-6b29dd40fe1d"
      },
      "outputs": [
        {
          "name": "stdout",
          "output_type": "stream",
          "text": [
            "[[3 2]\n",
            " [0 1]]\n",
            "[[4 9]\n",
            " [2 3]]\n",
            "[[3 0]\n",
            " [2 1]]\n",
            "[[ 0.33333333 -0.66666667]\n",
            " [ 0.          1.        ]]\n",
            "3.0000000000000004\n"
          ]
        }
      ],
      "source": [
        "mat1 = np.array([3, 2, 0, 1]).reshape(-1, 2)\n",
        "print(mat1)\n",
        "mat2 = np.array([0, 1, 2, 3]).reshape(2, 2)\n",
        "print(np.dot(mat1, mat2)) # 행렬곱\n",
        "print(mat1.T) # 전치행렬\n",
        "print(np.linalg.inv(mat1)) # 역행렬\n",
        "print(np.linalg.det(mat1)) # 행렬식"
      ]
    },
    {
      "cell_type": "code",
      "execution_count": null,
      "metadata": {
        "id": "dfmqKK34ueCl",
        "outputId": "c138c28b-2db3-42ab-dc62-4cd5e16750c1"
      },
      "outputs": [
        {
          "name": "stdout",
          "output_type": "stream",
          "text": [
            "[[4 9]\n",
            " [2 3]]\n",
            "[[4 9]\n",
            " [2 3]]\n"
          ]
        }
      ],
      "source": [
        "# 행렬곱\n",
        "print(mat1.dot(mat2))\n",
        "print(mat1@mat2)"
      ]
    },
    {
      "cell_type": "code",
      "execution_count": null,
      "metadata": {
        "id": "4Ezzzo6zueCm",
        "outputId": "eb7ecc28-5e6c-44ec-f6d7-f7acb024f3b4"
      },
      "outputs": [
        {
          "name": "stdout",
          "output_type": "stream",
          "text": [
            "[[3 0]\n",
            " [2 1]]\n",
            "[[3 0]\n",
            " [2 1]]\n",
            "[[3 0]\n",
            " [2 1]]\n"
          ]
        }
      ],
      "source": [
        "# 전치행렬\n",
        "print(mat1.transpose())\n",
        "print(mat1.T)\n",
        "print(np.transpose(mat1))"
      ]
    },
    {
      "cell_type": "code",
      "execution_count": null,
      "metadata": {
        "id": "RLptE6cGueCm",
        "outputId": "7a2d624b-1ed1-41f1-d644-a0237b432706"
      },
      "outputs": [
        {
          "name": "stdout",
          "output_type": "stream",
          "text": [
            "[[ 0.33333333 -0.66666667]\n",
            " [ 0.          1.        ]]\n"
          ]
        }
      ],
      "source": [
        "# 역행렬\n",
        "print(np.linalg.inv(mat1))"
      ]
    },
    {
      "cell_type": "code",
      "execution_count": null,
      "metadata": {
        "id": "cpmFHbfjueCm",
        "outputId": "526d7cea-7974-4e36-c510-24cfc0e352f1"
      },
      "outputs": [
        {
          "name": "stdout",
          "output_type": "stream",
          "text": [
            "-2.0\n"
          ]
        }
      ],
      "source": [
        "# 행렬식\n",
        "print(np.linalg.det(mat2))"
      ]
    },
    {
      "cell_type": "code",
      "execution_count": null,
      "metadata": {
        "id": "jLeWfp9kueCn"
      },
      "outputs": [],
      "source": []
    },
    {
      "cell_type": "markdown",
      "metadata": {
        "id": "jWXbK3AkueCn"
      },
      "source": [
        "### NumPy의 상수\n",
        "- `NaN` : 숫자가 아님(`np.nan`). 보통 결측치를 표시할 때 많이 사용. `NULL`. 집계 시 계산 결과에 들어가지 않는다.\n",
        "- `inf` : 무한대(`np.inf`)"
      ]
    },
    {
      "cell_type": "code",
      "execution_count": null,
      "metadata": {
        "id": "2J53ZVddueCn",
        "outputId": "ab1c5ae6-fff1-4bb6-beb1-1cafe0b624d2"
      },
      "outputs": [
        {
          "name": "stdout",
          "output_type": "stream",
          "text": [
            "nan\n"
          ]
        }
      ],
      "source": [
        "print(np.nan)"
      ]
    },
    {
      "cell_type": "code",
      "execution_count": null,
      "metadata": {
        "id": "I2Qx1zbOueCn",
        "outputId": "809b9a41-525e-427a-90e1-c941ce46c639"
      },
      "outputs": [
        {
          "name": "stdout",
          "output_type": "stream",
          "text": [
            "inf\n"
          ]
        }
      ],
      "source": [
        "print(np.inf)"
      ]
    },
    {
      "cell_type": "code",
      "execution_count": null,
      "metadata": {
        "id": "7_ltkN1EueCo"
      },
      "outputs": [],
      "source": []
    },
    {
      "cell_type": "markdown",
      "metadata": {
        "id": "VTXRiKExueCo"
      },
      "source": [
        "### 배열의 인덱싱과 슬라이싱"
      ]
    },
    {
      "cell_type": "code",
      "execution_count": null,
      "metadata": {
        "id": "c8ngGBsbueCo",
        "outputId": "e47532b7-f641-45fe-c3c6-380485eb6add"
      },
      "outputs": [
        {
          "name": "stdout",
          "output_type": "stream",
          "text": [
            "0\n",
            "30\n",
            "[10 30 40]\n"
          ]
        }
      ],
      "source": [
        "a1 = np.array([0, 10, 20, 30, 40, 50])\n",
        "print(a1[0])\n",
        "print(a1[3])\n",
        "print(a1[[1,3,4]]) # 여러 개의 원소 접근"
      ]
    },
    {
      "cell_type": "code",
      "execution_count": null,
      "metadata": {
        "id": "wDtsJtycueCo",
        "outputId": "389e7f43-1639-4c79-940a-eaff1c993885"
      },
      "outputs": [
        {
          "name": "stdout",
          "output_type": "stream",
          "text": [
            "[[10 20 30]\n",
            " [40 50 60]\n",
            " [70 80 90]]\n",
            "0행 2열 30\n",
            "2행 1열 80 80\n",
            "2행 1열 원소 변경\n",
            "[[ 10  20  30]\n",
            " [ 40  50  60]\n",
            " [ 70 190  90]]\n",
            "0행 2열, 1행 2열 [20 90]\n",
            "[ 10  20  30  40  50  60  70 190  90]\n"
          ]
        }
      ],
      "source": [
        "a2 = np.arange(10, 100, 10).reshape(3,3)\n",
        "print(a2)\n",
        "print(\"0행 2열\", a2[0, 2])\n",
        "print(\"2행 1열\", a2[2, 1], a2[2][1]) # 두 번째 방법은 연산을 2번 해야 하는 방법으로, 권장되지 않음.\n",
        "print(\"2행 1열 원소 변경\")\n",
        "a2[2,1] = 190\n",
        "print(a2)\n",
        "print(\"0행 1열, 1행 2열\", a2[[0,2], [1,2]]) # 앞에 있는 애들 (0, 1)위치. (2, 2)위치.\n",
        "# boolean indexing\n",
        "print(a2[a2>3])"
      ]
    },
    {
      "cell_type": "code",
      "execution_count": null,
      "metadata": {
        "id": "aKWlzFNlueCo",
        "outputId": "e56275ee-a548-4b91-b093-cbdc36bd91b4"
      },
      "outputs": [
        {
          "name": "stdout",
          "output_type": "stream",
          "text": [
            "[[ 2  3  4]\n",
            " [ 5  6  7]\n",
            " [ 8  9 10]]\n",
            "3행 선택 [[ 8  9 10]]\n",
            "1열 선택 [3 6 9]\n",
            "1행 변경\n",
            "[[ 2  3  4]\n",
            " [47  6  1]\n",
            " [ 8  9 10]]\n"
          ]
        }
      ],
      "source": [
        "# 슬라이싱\n",
        "a3 = np.arange(2, 11).reshape(3,3)\n",
        "print(a3)\n",
        "print(\"3행 선택\", a3[2:, ])\n",
        "print(\"1열 선택\", a3[:, 1])\n",
        "\n",
        "print(\"1행 변경\")\n",
        "a3[1, :] = [47, 6, 1]\n",
        "print(a3)"
      ]
    },
    {
      "cell_type": "code",
      "execution_count": null,
      "metadata": {
        "scrolled": true,
        "id": "sxswF1PCueCp",
        "outputId": "3e86a9b8-a64b-478b-cd03-1344f38e5ec1"
      },
      "outputs": [
        {
          "name": "stdout",
          "output_type": "stream",
          "text": [
            "[[ 6  1]\n",
            " [ 9 10]]\n"
          ]
        }
      ],
      "source": [
        "# 중간 위치 선택\n",
        "print(a3[1:3, 1:3])"
      ]
    },
    {
      "cell_type": "code",
      "execution_count": null,
      "metadata": {
        "id": "9HW7hWGSueCp",
        "outputId": "cd41a1aa-1c33-440d-c6fd-0297cf021d01"
      },
      "outputs": [
        {
          "data": {
            "text/plain": [
              "array([[ 2,  3,  4],\n",
              "       [47,  6,  1],\n",
              "       [ 8,  9, 10]])"
            ]
          },
          "execution_count": 268,
          "metadata": {},
          "output_type": "execute_result"
        }
      ],
      "source": [
        "a3"
      ]
    },
    {
      "cell_type": "code",
      "execution_count": null,
      "metadata": {
        "id": "gyWLw2p1ueCq",
        "outputId": "d44f03cd-5a3a-4a84-9598-12b8521cb05e"
      },
      "outputs": [
        {
          "data": {
            "text/plain": [
              "array([[3],\n",
              "       [6]])"
            ]
          },
          "execution_count": 269,
          "metadata": {},
          "output_type": "execute_result"
        }
      ],
      "source": [
        "a3[0:2, 1:2] # 0행 1행, 1열"
      ]
    },
    {
      "cell_type": "code",
      "execution_count": null,
      "metadata": {
        "id": "fSBdemuXueCq",
        "outputId": "a1ac62c9-faf9-439f-c010-e14a981f1116"
      },
      "outputs": [
        {
          "name": "stdout",
          "output_type": "stream",
          "text": [
            "[[        2    100000         4]\n",
            " [       47 300000000         1]\n",
            " [        8         9        10]]\n"
          ]
        }
      ],
      "source": [
        "# # shape 맞춰서 바꾸기\n",
        "a3[0:2, 1:2] = np.array([[100000], [300000000]])\n",
        "print(a3)"
      ]
    },
    {
      "cell_type": "code",
      "execution_count": null,
      "metadata": {
        "id": "GqBzm-SxueCq",
        "outputId": "3be30358-b8ac-480b-94fc-f007bc92d660"
      },
      "outputs": [
        {
          "name": "stdout",
          "output_type": "stream",
          "text": [
            "[ 0 10 20 30 40]\n",
            "3번째부터 6번째까지 변경\n",
            "[ 0 10 20 60 60]\n"
          ]
        }
      ],
      "source": [
        "b1 = np.array([0, 10, 20, 30, 40])\n",
        "print(b1)\n",
        "print(\"3번째부터 6번째까지 변경\")\n",
        "b1[3:7] = 60 # 길이가 안 맞으면 broadcasting\n",
        "print(b1)"
      ]
    },
    {
      "cell_type": "code",
      "execution_count": null,
      "metadata": {
        "id": "NFsMXssUueCq",
        "outputId": "7cb4f178-d1c5-415c-e39b-2515e4d8a7b6"
      },
      "outputs": [
        {
          "name": "stdout",
          "output_type": "stream",
          "text": [
            "[1]\n",
            "[1]\n"
          ]
        }
      ],
      "source": [
        "# 실행 속도의 차이가 있다.\n",
        "print(b2[1, :2])\n",
        "print(b2[1][0:2])"
      ]
    },
    {
      "cell_type": "code",
      "execution_count": null,
      "metadata": {
        "id": "-03cJjZWueCr"
      },
      "outputs": [],
      "source": []
    },
    {
      "cell_type": "markdown",
      "metadata": {
        "id": "JYAPj_f6ueCr"
      },
      "source": [
        "< 연습 문제 >"
      ]
    },
    {
      "cell_type": "markdown",
      "metadata": {
        "id": "A9XfF1taueCs"
      },
      "source": [
        "1. 5x3 행렬과 3x2 랜덤한 행렬을 각각 정의한 후, 곱하여라."
      ]
    },
    {
      "cell_type": "code",
      "execution_count": null,
      "metadata": {
        "id": "SMCpQuEIueCs",
        "outputId": "6232e4bd-c379-43e8-efdc-05a79cf0d64f"
      },
      "outputs": [
        {
          "name": "stdout",
          "output_type": "stream",
          "text": [
            "[[2 1 6]\n",
            " [0 4 5]\n",
            " [3 3 2]\n",
            " [8 4 0]\n",
            " [7 1 7]]\n",
            "[[0.80422859 0.85685841]\n",
            " [0.71128819 0.26243038]\n",
            " [0.79586968 0.61662352]]\n",
            "[[ 7.09496345  5.67588831]\n",
            " [ 6.82450114  4.13283912]\n",
            " [ 6.1382897   4.5911134 ]\n",
            " [ 9.2789815   7.90458878]\n",
            " [11.9119761  10.57680386]]\n",
            "[[0.74409174 0.20968384]\n",
            " [0.61939682 0.29733452]\n",
            " [0.40331524 0.17470728]\n",
            " [1.34060548 0.88218943]\n",
            " [1.02511462 0.68570821]]\n"
          ]
        }
      ],
      "source": [
        "a = np.random.randint(10, size=15).reshape(5,3)\n",
        "print(a)\n",
        "b = np.random.rand(3, 2)\n",
        "print(b)\n",
        "print(a@b)\n",
        "\n",
        "# 강사님 방식\n",
        "A = np.random.random((5, 3))\n",
        "B = np.random.random((3, 2))\n",
        "print(A@B)"
      ]
    },
    {
      "cell_type": "markdown",
      "metadata": {
        "id": "ZXzOFsNsueCs"
      },
      "source": [
        "2. 5x10 행렬을 만들고, 이를 열 단위로 평균을 구하여라."
      ]
    },
    {
      "cell_type": "code",
      "execution_count": null,
      "metadata": {
        "id": "eUBsQIhVueCt",
        "outputId": "b7c2ecb5-8443-425e-bb1d-70f813618aed"
      },
      "outputs": [
        {
          "name": "stdout",
          "output_type": "stream",
          "text": [
            "[[0.60396248 0.14098674 0.11568256 0.33436124 0.57052193 0.17597356\n",
            "  0.32721378 0.17328042 0.9648082  0.99708693]\n",
            " [0.77646363 0.46654129 0.80168216 0.8178977  0.36476068 0.29773204\n",
            "  0.77703812 0.4183349  0.77013647 0.18729895]\n",
            " [0.8949977  0.10165633 0.69100891 0.15808322 0.11304351 0.39429861\n",
            "  0.74611922 0.26745546 0.50660954 0.48303074]\n",
            " [0.42090086 0.52443177 0.12129328 0.3702694  0.4591938  0.91569081\n",
            "  0.79227334 0.10147965 0.46816548 0.95616707]\n",
            " [0.21621615 0.02139867 0.37890115 0.65711308 0.17581753 0.49162867\n",
            "  0.38776606 0.01105157 0.21465118 0.18135533]]\n",
            "[0.58250816 0.25100296 0.42171361 0.46754493 0.33666749 0.45506474\n",
            " 0.6060821  0.1943204  0.58487417 0.5609878 ]\n"
          ]
        }
      ],
      "source": [
        "c = np.random.rand(5, 10)\n",
        "print(c)\n",
        "print(c.mean(axis=0))"
      ]
    },
    {
      "cell_type": "code",
      "execution_count": null,
      "metadata": {
        "id": "xzB_l5FYueCt"
      },
      "outputs": [],
      "source": []
    },
    {
      "cell_type": "code",
      "execution_count": null,
      "metadata": {
        "id": "3IRqrannueCt",
        "outputId": "539df760-54c5-48ff-b88c-740ca26ff396"
      },
      "outputs": [
        {
          "name": "stdout",
          "output_type": "stream",
          "text": [
            "로그 [0.         0.69314718 1.09861229 1.38629436 1.60943791 1.79175947\n",
            " 1.94591015 2.07944154 2.19722458]\n",
            "루트 [1.         1.41421356 1.73205081 2.         2.23606798 2.44948974\n",
            " 2.64575131 2.82842712 3.        ]\n"
          ]
        }
      ],
      "source": [
        "arr = np.arange(1, 10)\n",
        "print(\"로그\", np.log(arr))\n",
        "print(\"루트\", np.sqrt(arr))"
      ]
    }
  ],
  "metadata": {
    "kernelspec": {
      "display_name": "Python 3",
      "language": "python",
      "name": "python3"
    },
    "language_info": {
      "codemirror_mode": {
        "name": "ipython",
        "version": 3
      },
      "file_extension": ".py",
      "mimetype": "text/x-python",
      "name": "python",
      "nbconvert_exporter": "python",
      "pygments_lexer": "ipython3",
      "version": "3.7.7"
    },
    "colab": {
      "provenance": [],
      "include_colab_link": true
    }
  },
  "nbformat": 4,
  "nbformat_minor": 0
}