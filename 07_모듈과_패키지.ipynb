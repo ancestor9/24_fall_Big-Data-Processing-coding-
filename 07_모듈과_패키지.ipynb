{
  "cells": [
    {
      "cell_type": "markdown",
      "metadata": {
        "id": "view-in-github",
        "colab_type": "text"
      },
      "source": [
        "<a href=\"https://colab.research.google.com/github/ancestor9/24_fall_Big-Data-Processing-coding-/blob/main/07_%EB%AA%A8%EB%93%88%EA%B3%BC_%ED%8C%A8%ED%82%A4%EC%A7%80.ipynb\" target=\"_parent\"><img src=\"https://colab.research.google.com/assets/colab-badge.svg\" alt=\"Open In Colab\"/></a>"
      ]
    },
    {
      "cell_type": "markdown",
      "metadata": {
        "id": "ArBkAQiiqMZA"
      },
      "source": [
        "# 모듈\n",
        "\n",
        "- Jupyter Notebook에서는 cmd나 navigator 통해 모듈 설치.\n",
        "- colab에서는 `!pip` 통해 모듈 설치.\n",
        "\n",
        "\n",
        "\n",
        " 모듈을 임포트해 그 안의 클래스 혹은 함수를 사용하고자 할 경우, ```from [모듈] import [이름]```라고 사용한다.  해당 모듈 안에서, 해당 이름을 갖는 클래스 혹은 함수를 사용한다는 의미이다."
      ]
    },
    {
      "cell_type": "code",
      "execution_count": null,
      "metadata": {
        "id": "uaufhmBsqMZC"
      },
      "outputs": [],
      "source": [
        "# 모든 것을 사용할 경우\n",
        "from bs4 import *"
      ]
    },
    {
      "cell_type": "markdown",
      "metadata": {
        "id": "GbbJfYztqMZD"
      },
      "source": [
        "## 패키지 만들기"
      ]
    },
    {
      "cell_type": "markdown",
      "metadata": {
        "id": "Wy8j2EXyqMZD"
      },
      "source": [
        "패키지를 만들고 임포트하자.\n",
        "* 미리 `calc.py` 파일 생성 : 해당 작업 경로\n",
        "\n",
        "\n",
        "---\n",
        "> 오류 왜 때문에?"
      ]
    },
    {
      "cell_type": "code",
      "execution_count": null,
      "metadata": {
        "id": "2Y0kbaLZqMZD"
      },
      "outputs": [],
      "source": [
        "# calc 파일에서 임포트\n",
        "from calc import add, sub, CalcClass"
      ]
    },
    {
      "cell_type": "code",
      "execution_count": null,
      "metadata": {
        "id": "5DBBOLKjqMZD",
        "outputId": "c1a50911-fee4-4c05-c8cf-313dceca7cbe"
      },
      "outputs": [
        {
          "data": {
            "text/plain": [
              "3"
            ]
          },
          "execution_count": 2,
          "metadata": {},
          "output_type": "execute_result"
        }
      ],
      "source": [
        "add(1, 2)"
      ]
    },
    {
      "cell_type": "code",
      "execution_count": null,
      "metadata": {
        "id": "2keIzNSkqMZE",
        "outputId": "3766b872-a8e2-4e91-88d7-b02eb4f3edf0"
      },
      "outputs": [
        {
          "data": {
            "text/plain": [
              "-1"
            ]
          },
          "execution_count": 3,
          "metadata": {},
          "output_type": "execute_result"
        }
      ],
      "source": [
        "sub(2, 3)"
      ]
    },
    {
      "cell_type": "code",
      "execution_count": null,
      "metadata": {
        "id": "dccyxLgtqMZE"
      },
      "outputs": [],
      "source": [
        "CalcClass?"
      ]
    },
    {
      "cell_type": "code",
      "execution_count": null,
      "metadata": {
        "scrolled": true,
        "id": "h4gtff2dqMZF",
        "outputId": "2f54d05c-ae47-4ce4-ea6c-967d14a108ae"
      },
      "outputs": [
        {
          "name": "stdout",
          "output_type": "stream",
          "text": [
            "sum: 40, sub: -20\n"
          ]
        }
      ],
      "source": [
        "obj = CalcClass(10, 6, 7, 8, 9)\n",
        "obj.get_result()"
      ]
    },
    {
      "cell_type": "code",
      "execution_count": null,
      "metadata": {
        "id": "learPtTYqMZF"
      },
      "outputs": [],
      "source": [
        "# 패키지에서 임포트\n",
        "from pkcalc import calc"
      ]
    },
    {
      "cell_type": "code",
      "execution_count": null,
      "metadata": {
        "id": "MJELqA6ZqMZF"
      },
      "outputs": [],
      "source": [
        "from pkcalc.calc import add, sub, CalcClass"
      ]
    },
    {
      "cell_type": "code",
      "execution_count": null,
      "metadata": {
        "id": "4ER4WyvAqMZF"
      },
      "outputs": [],
      "source": [
        "import pkcalc.calc as my_calc"
      ]
    },
    {
      "cell_type": "code",
      "execution_count": null,
      "metadata": {
        "id": "HYExiSOzqMZG"
      },
      "outputs": [],
      "source": [
        "my_calc?"
      ]
    },
    {
      "cell_type": "code",
      "execution_count": null,
      "metadata": {
        "id": "bOFHq6a0qMZG",
        "outputId": "4d5cf3f1-efd0-48dd-d622-56d8404f6f07"
      },
      "outputs": [
        {
          "data": {
            "text/plain": [
              "3"
            ]
          },
          "execution_count": 38,
          "metadata": {},
          "output_type": "execute_result"
        }
      ],
      "source": [
        "my_calc.add(1, 2)"
      ]
    },
    {
      "cell_type": "code",
      "execution_count": null,
      "metadata": {
        "id": "QnEjLbbXqMZG",
        "outputId": "719b7cb3-ccf5-47e4-d54e-9d71d87c99ec"
      },
      "outputs": [
        {
          "data": {
            "text/plain": [
              "<pkcalc.calc.CalcClass at 0x1f25b831d88>"
            ]
          },
          "execution_count": 39,
          "metadata": {},
          "output_type": "execute_result"
        }
      ],
      "source": [
        "my_calc.CalcClass(1, 2, 3, 4, 5)"
      ]
    },
    {
      "cell_type": "code",
      "execution_count": null,
      "metadata": {
        "id": "MfXUBVgWqMZG",
        "outputId": "3e63fe04-9bf8-4872-c3e7-90e8f0ff74dd"
      },
      "outputs": [
        {
          "name": "stdout",
          "output_type": "stream",
          "text": [
            "sum: 15, sub: -13\n"
          ]
        }
      ],
      "source": [
        "my_calc.CalcClass(1, 2, 3, 4, 5).get_result()"
      ]
    }
  ],
  "metadata": {
    "kernelspec": {
      "display_name": "Python 3",
      "language": "python",
      "name": "python3"
    },
    "language_info": {
      "codemirror_mode": {
        "name": "ipython",
        "version": 3
      },
      "file_extension": ".py",
      "mimetype": "text/x-python",
      "name": "python",
      "nbconvert_exporter": "python",
      "pygments_lexer": "ipython3",
      "version": "3.7.7"
    },
    "colab": {
      "provenance": [],
      "include_colab_link": true
    }
  },
  "nbformat": 4,
  "nbformat_minor": 0
}