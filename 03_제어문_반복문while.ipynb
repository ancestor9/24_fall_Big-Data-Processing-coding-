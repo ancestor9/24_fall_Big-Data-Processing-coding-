{
  "nbformat": 4,
  "nbformat_minor": 0,
  "metadata": {
    "kernelspec": {
      "display_name": "Python 3",
      "language": "python",
      "name": "python3"
    },
    "language_info": {
      "codemirror_mode": {
        "name": "ipython",
        "version": 3
      },
      "file_extension": ".py",
      "mimetype": "text/x-python",
      "name": "python",
      "nbconvert_exporter": "python",
      "pygments_lexer": "ipython3",
      "version": "3.7.7"
    },
    "colab": {
      "provenance": [],
      "include_colab_link": true
    }
  },
  "cells": [
    {
      "cell_type": "markdown",
      "metadata": {
        "id": "view-in-github",
        "colab_type": "text"
      },
      "source": [
        "<a href=\"https://colab.research.google.com/github/ancestor9/24_fall_Big-Data-Processing-coding-/blob/main/03_%EC%A0%9C%EC%96%B4%EB%AC%B8_%EB%B0%98%EB%B3%B5%EB%AC%B8while.ipynb\" target=\"_parent\"><img src=\"https://colab.research.google.com/assets/colab-badge.svg\" alt=\"Open In Colab\"/></a>"
      ]
    },
    {
      "cell_type": "markdown",
      "metadata": {
        "id": "YLjERJVx24ar"
      },
      "source": [
        "# 반복문\n",
        "\n",
        "\n",
        "## while : *조건이 거짓이 될 때까지*  **코드를 실행하라**\n",
        "\n",
        "\n",
        "* `for문`과 다르게 특정한 조건을 만족할 때는 항상 반복한다. 조건이 `False`가 될 때까지 반복한다.\n",
        "* 반복 횟수가 정해져 있지 않을 때 주로 사용한다."
      ]
    },
    {
      "cell_type": "code",
      "metadata": {
        "id": "D96MDMFY24as",
        "outputId": "f25a89ad-390d-4ac2-d75b-264536b33536"
      },
      "source": [
        "# 사용법\n",
        "\n",
        "i = 0\n",
        "while i < 10: # i가 10이 되면 더 이상 아래 블럭이 수행되지 않는다.\n",
        "    print(i)\n",
        "    i += 1 # 한 번 루프를 돌 때마다 숫자를 1씩 증가시킨다."
      ],
      "execution_count": null,
      "outputs": [
        {
          "output_type": "stream",
          "text": [
            "0\n",
            "1\n",
            "2\n",
            "3\n",
            "4\n",
            "5\n",
            "6\n",
            "7\n",
            "8\n",
            "9\n"
          ],
          "name": "stdout"
        }
      ]
    },
    {
      "cell_type": "code",
      "metadata": {
        "scrolled": true,
        "id": "5vSdN68K24aw",
        "outputId": "d113177f-7952-437c-cb98-06fc9e769faf"
      },
      "source": [
        "# 종료 조건 : 입력 받아서 조건 만족 시 중단.\n",
        "\n",
        "i = 0\n",
        "\n",
        "while i != 5:\n",
        "    i = int(input(\"5 입력 시 실행 중단. 입력 :\"))\n",
        "    print(f\"{i}를 입력하셨습니다.\")\n",
        "\n",
        "print('')\n",
        "print(f\"{i}를 입력하여 중단되었습니다.\")"
      ],
      "execution_count": null,
      "outputs": [
        {
          "output_type": "stream",
          "text": [
            "5 입력 시 실행 중단. 입력 :1\n",
            "1를 입력하셨습니다.\n",
            "5 입력 시 실행 중단. 입력 :3\n",
            "3를 입력하셨습니다.\n",
            "5 입력 시 실행 중단. 입력 :9\n",
            "9를 입력하셨습니다.\n",
            "5 입력 시 실행 중단. 입력 :7\n",
            "7를 입력하셨습니다.\n",
            "5 입력 시 실행 중단. 입력 :6\n",
            "6를 입력하셨습니다.\n",
            "5 입력 시 실행 중단. 입력 :3\n",
            "3를 입력하셨습니다.\n",
            "5 입력 시 실행 중단. 입력 :5\n",
            "5를 입력하셨습니다.\n",
            "\n",
            "5를 입력하여 중단되었습니다.\n"
          ],
          "name": "stdout"
        }
      ]
    },
    {
      "cell_type": "markdown",
      "metadata": {
        "id": "we20GoGy24az"
      },
      "source": [
        "<연습문제 5>\n",
        "\n",
        " 사용자로부터 숫자를 계속 입력하다가 s나 S를 입력하면 합계를 출력한다."
      ]
    },
    {
      "cell_type": "code",
      "metadata": {
        "id": "D6Y_eNvc24a0",
        "outputId": "d31eba4e-d78e-44d9-8d80-6a4677ed9462"
      },
      "source": [
        "# break 안 걸고 풀어 보자!\n",
        "\n",
        "total = 0\n",
        "\n",
        "n = input('값을 입력해주세요')\n",
        "\n",
        "while n.lower() != 's':\n",
        "    total += int(n)\n",
        "    n = input('값을 입력해주세요')\n",
        "\n",
        "print(total)"
      ],
      "execution_count": null,
      "outputs": [
        {
          "output_type": "stream",
          "text": [
            "값을 입력해주세요1\n",
            "값을 입력해주세요2\n",
            "값을 입력해주세요3\n",
            "값을 입력해주세요4\n",
            "값을 입력해주세요5\n",
            "값을 입력해주세요6\n",
            "값을 입력해주세요7\n",
            "값을 입력해주세요8\n",
            "값을 입력해주세요9\n",
            "값을 입력해주세요10\n",
            "값을 입력해주세요s\n",
            "55\n"
          ],
          "name": "stdout"
        }
      ]
    },
    {
      "cell_type": "code",
      "metadata": {
        "id": "K30ym4Nl24a2",
        "outputId": "6141feeb-4f47-4800-8d97-2df16a511280"
      },
      "source": [
        "# break 써서 풀어 보자 - 1\n",
        "\n",
        "total = 0\n",
        "\n",
        "while True:\n",
        "    try:\n",
        "        n = int(input('값을 입력해주세요'))\n",
        "        total += n\n",
        "    except ValueError:\n",
        "        break\n",
        "\n",
        "print(total)"
      ],
      "execution_count": null,
      "outputs": [
        {
          "output_type": "stream",
          "text": [
            "값을 입력해주세요1\n",
            "값을 입력해주세요2\n",
            "값을 입력해주세요3\n",
            "값을 입력해주세요4\n",
            "값을 입력해주세요5\n",
            "값을 입력해주세요6\n",
            "값을 입력해주세요7\n",
            "값을 입력해주세요8\n",
            "값을 입력해주세요9\n",
            "값을 입력해주세요10\n",
            "값을 입력해주세요s\n",
            "55\n"
          ],
          "name": "stdout"
        }
      ]
    },
    {
      "cell_type": "code",
      "metadata": {
        "id": "VUADyHfU24a5",
        "outputId": "45e6d5d8-69a3-42a5-88c2-248741253ca4"
      },
      "source": [
        "# break 써서 풀어 보자 - 2\n",
        "\n",
        "total = 0\n",
        "\n",
        "while True:\n",
        "    n = input('값을 입력해주세요')\n",
        "    if n.lower() == 's':\n",
        "        break\n",
        "    total += int(n)\n",
        "\n",
        "print(total)"
      ],
      "execution_count": null,
      "outputs": [
        {
          "output_type": "stream",
          "text": [
            "값을 입력해주세요1\n",
            "값을 입력해주세요2\n",
            "값을 입력해주세요3\n",
            "값을 입력해주세요4\n",
            "값을 입력해주세요5\n",
            "값을 입력해주세요6\n",
            "값을 입력해주세요7\n",
            "값을 입력해주세요8\n",
            "값을 입력해주세요9\n",
            "값을 입력해주세요10\n",
            "값을 입력해주세요s\n",
            "55\n"
          ],
          "name": "stdout"
        }
      ]
    },
    {
      "cell_type": "markdown",
      "metadata": {
        "id": "AOkMgaqU24a7"
      },
      "source": [
        " `not in`을 사용해서 풀었을 때 오류가 날 수 있다."
      ]
    },
    {
      "cell_type": "code",
      "metadata": {
        "scrolled": true,
        "id": "N_4QeAFZ24a8",
        "outputId": "cb61a3e7-6bdd-474c-d87e-33ed7625721c"
      },
      "source": [
        "# not in 사용할 때 잘못된 코드\n",
        "\n",
        "i = 1\n",
        "total = 0\n",
        "\n",
        "while i not in ['S', 's']:\n",
        "    i = int(input('값을 입력해주세요'))\n",
        "    total += i\n",
        "\n",
        "print(total)"
      ],
      "execution_count": null,
      "outputs": [
        {
          "output_type": "stream",
          "text": [
            "값을 입력해주세요1\n",
            "값을 입력해주세요2\n",
            "값을 입력해주세요3\n",
            "값을 입력해주세요4\n",
            "값을 입력해주세요5\n",
            "값을 입력해주세요s\n"
          ],
          "name": "stdout"
        },
        {
          "output_type": "error",
          "ename": "ValueError",
          "evalue": "invalid literal for int() with base 10: 's'",
          "traceback": [
            "\u001b[1;31m---------------------------------------------------------------------------\u001b[0m",
            "\u001b[1;31mValueError\u001b[0m                                Traceback (most recent call last)",
            "\u001b[1;32m<ipython-input-54-9979321b57bb>\u001b[0m in \u001b[0;36m<module>\u001b[1;34m\u001b[0m\n\u001b[0;32m      5\u001b[0m \u001b[1;33m\u001b[0m\u001b[0m\n\u001b[0;32m      6\u001b[0m \u001b[1;32mwhile\u001b[0m \u001b[0mi\u001b[0m \u001b[1;32mnot\u001b[0m \u001b[1;32min\u001b[0m \u001b[1;33m[\u001b[0m\u001b[1;34m'S'\u001b[0m\u001b[1;33m,\u001b[0m \u001b[1;34m's'\u001b[0m\u001b[1;33m]\u001b[0m\u001b[1;33m:\u001b[0m\u001b[1;33m\u001b[0m\u001b[1;33m\u001b[0m\u001b[0m\n\u001b[1;32m----> 7\u001b[1;33m     \u001b[0mi\u001b[0m \u001b[1;33m=\u001b[0m \u001b[0mint\u001b[0m\u001b[1;33m(\u001b[0m\u001b[0minput\u001b[0m\u001b[1;33m(\u001b[0m\u001b[1;34m'값을 입력해주세요'\u001b[0m\u001b[1;33m)\u001b[0m\u001b[1;33m)\u001b[0m\u001b[1;33m\u001b[0m\u001b[1;33m\u001b[0m\u001b[0m\n\u001b[0m\u001b[0;32m      8\u001b[0m     \u001b[0mtotal\u001b[0m \u001b[1;33m+=\u001b[0m \u001b[0mi\u001b[0m\u001b[1;33m\u001b[0m\u001b[1;33m\u001b[0m\u001b[0m\n\u001b[0;32m      9\u001b[0m \u001b[1;33m\u001b[0m\u001b[0m\n",
            "\u001b[1;31mValueError\u001b[0m: invalid literal for int() with base 10: 's'"
          ]
        }
      ]
    },
    {
      "cell_type": "markdown",
      "metadata": {
        "id": "j1pBDlNI24a-"
      },
      "source": [
        " `i` 초기값을 더해도 의미 없는 0으로 초기화한 후, 's'가 아닌 것을 확인하고 더한다."
      ]
    },
    {
      "cell_type": "code",
      "metadata": {
        "id": "w3zZtyEj24a_",
        "outputId": "3d452e75-e48b-4ed5-f18a-49aec3b8f614"
      },
      "source": [
        "# not in 사용할 때의 방법\n",
        "\n",
        "i = 0\n",
        "total = 0\n",
        "\n",
        "while i not in ['S', 's']:\n",
        "    total += int(i)\n",
        "    i = input('값을 입력해주세요')\n",
        "\n",
        "print(total)"
      ],
      "execution_count": null,
      "outputs": [
        {
          "output_type": "stream",
          "text": [
            "값을 입력해주세요1\n",
            "값을 입력해주세요2\n",
            "값을 입력해주세요3\n",
            "값을 입력해주세요4\n",
            "값을 입력해주세요5\n",
            "값을 입력해주세요s\n",
            "15\n"
          ],
          "name": "stdout"
        }
      ]
    },
    {
      "cell_type": "markdown",
      "metadata": {
        "id": "Ef2JBG8Y24bC"
      },
      "source": [
        "<연습문제 6>\n",
        "\n",
        " 가위(1), 바위(2), 보(3)를 입력하면 게임 진행. 이외의 숫자를 입력하면 종료.\n",
        "\n",
        " (심화) 승부 결과 숫자도 표시하라.\n",
        "\n",
        "* 풀이 방법\n",
        "    - 나를 기준으로 판단한다.\n",
        "    - 똑같으면 비김.\n",
        "    - 나 1일 때 컴 3, 나 2일 때 컴 1, 나 3일 때 컴 2이면 승리.\n",
        "\n",
        "- 아니면 짐."
      ]
    },
    {
      "cell_type": "code",
      "metadata": {
        "scrolled": true,
        "id": "h3ETA5NE24bC",
        "outputId": "d082f149-ebba-450a-9ec9-f70a1325c085"
      },
      "source": [
        "# 컴퓨터는 '보'\n",
        "\n",
        "game_dict = {'1': '가위', '2':'바위', '3':'보'}\n",
        "\n",
        "total_game = 0\n",
        "win, draw = 0, 0\n",
        "\n",
        "while True:\n",
        "    user = input()\n",
        "    if user not in game_dict: # 종료 조건\n",
        "        break\n",
        "\n",
        "    print(f\"유저 : {game_dict[user]}, 컴퓨터 : 보\")\n",
        "\n",
        "    total_game += 1 # 전체 게임 수 업데이트\n",
        "\n",
        "    if user == '1': # 이긴 경우\n",
        "        win += 1\n",
        "    elif user == '3': # 비긴 경우\n",
        "        draw += 1\n",
        "\n",
        "print(f\"게임 종료 (전체:{total_game}, 승리:{win}, 비김:{draw})\")"
      ],
      "execution_count": null,
      "outputs": [
        {
          "output_type": "stream",
          "text": [
            "3\n",
            "유저 : 보, 컴퓨터 : 보\n",
            "2\n",
            "유저 : 바위, 컴퓨터 : 보\n",
            "1\n",
            "유저 : 가위, 컴퓨터 : 보\n",
            "2\n",
            "유저 : 바위, 컴퓨터 : 보\n",
            "3\n",
            "유저 : 보, 컴퓨터 : 보\n",
            "3\n",
            "유저 : 보, 컴퓨터 : 보\n",
            "3\n",
            "유저 : 보, 컴퓨터 : 보\n",
            "3\n",
            "유저 : 보, 컴퓨터 : 보\n",
            "3\n",
            "유저 : 보, 컴퓨터 : 보\n",
            "4\n",
            "게임 종료 (전체:9, 승리:1, 비김:6)\n"
          ],
          "name": "stdout"
        }
      ]
    },
    {
      "cell_type": "code",
      "metadata": {
        "scrolled": false,
        "id": "t1gu8Ivb24bE",
        "outputId": "cab32673-6e3f-4c90-fb2f-dd445f326b2e"
      },
      "source": [
        "# 컴퓨터의 값도 입력받자.\n",
        "\n",
        "print(\"가위바위보 게임을 시작합니다.\")\n",
        "print(\"공백으로 구분하여 유저와 컴퓨터의 가위(1), 바위(2), 보(3)를 입력해주세요!\\n\")\n",
        "\n",
        "total_game = 0\n",
        "win, draw = 0, 0\n",
        "\n",
        "game_dict = {'1': '가위', '2':'바위', '3':'보'}\n",
        "\n",
        "while True:\n",
        "\n",
        "    user, computer = input().split()\n",
        "    if (user not in game_dict) or (computer not in game_dict):\n",
        "        break\n",
        "\n",
        "    print(f\"유저 : {game_dict[user]}, 컴퓨터 : {game_dict[computer]}\") # 게임 입력 정보 반환\n",
        "\n",
        "    total_game += 1 # 전체 게임 수 업데이트\n",
        "\n",
        "    # user가 가위 냈을 때\n",
        "    if user == '1':\n",
        "        if computer == '3':\n",
        "            print(\"승리\\n\")\n",
        "            win += 1\n",
        "        elif computer == '1':\n",
        "            print(\"무승부\\n\")\n",
        "            draw += 1\n",
        "        else:\n",
        "            print(\"패배\\n\")\n",
        "\n",
        "    # user가 바위 냈을 때\n",
        "    elif user == '2':\n",
        "        if computer == '1':\n",
        "            win += 1\n",
        "            print(\"승리\\n\")\n",
        "        elif computer == '2':\n",
        "            draw += 1\n",
        "            print(\"무승부\\n\")\n",
        "        else:\n",
        "            print(\"패배\\n\")\n",
        "\n",
        "    # user가 보 냈을 때\n",
        "    else:\n",
        "        if computer == '2':\n",
        "            print(\"승리\\n\")\n",
        "            win += 1\n",
        "        elif computer == '3':\n",
        "            print(\"무승부\\n\")\n",
        "            draw += 1\n",
        "        else:\n",
        "            print(\"패배\\n\")\n",
        "\n",
        "\n",
        "print(f\"\\n게임 종료 (전체:{total_game}, 승리:{win}, 무승부:{draw}, 패배:{total_game - win - draw})\")"
      ],
      "execution_count": null,
      "outputs": [
        {
          "output_type": "stream",
          "text": [
            "가위바위보 게임을 시작합니다.\n",
            "공백으로 구분하여 유저와 컴퓨터의 가위(1), 바위(2), 보(3)를 입력해주세요!\n",
            "\n",
            "1 3 \n",
            "유저 : 가위, 컴퓨터 : 보\n",
            "승리\n",
            "\n",
            "1 3     \n",
            "유저 : 가위, 컴퓨터 : 보\n",
            "승리\n",
            "\n",
            "4 4\n",
            "\n",
            "게임 종료 (전체:2, 승리:2, 무승부:0, 패배:0)\n"
          ],
          "name": "stdout"
        }
      ]
    },
    {
      "cell_type": "markdown",
      "metadata": {
        "id": "jSR6zqIc24bH"
      },
      "source": [
        "**[참고]** random 모듈\n",
        "\n",
        " 다양한 랜덤 관련 함수를 제공한다. 예컨대, 난수를 생성한다."
      ]
    },
    {
      "cell_type": "code",
      "metadata": {
        "id": "KkmBG7rr24bH",
        "outputId": "932cadc6-3d43-4a92-feda-69d9c525f1e9"
      },
      "source": [
        "# 강사님 풀이 : random 모듈 이용해 컴퓨터를 나타냈다.\n",
        "\n",
        "import random\n",
        "\n",
        "user = 1\n",
        "target_list = ['가위', '바위', '보']\n",
        "\n",
        "total = 0\n",
        "draw = 0\n",
        "win = 0\n",
        "\n",
        "while user in [1, 2, 3]:\n",
        "    user = input(\"가위(1), 바위(2), 보(3)를 입력해주세요! :\")\n",
        "    com = random.randint(1, 3)\n",
        "    user = int(user)\n",
        "\n",
        "\n",
        "    if user in [1, 2, 3]:\n",
        "        # 비긴 경우\n",
        "        if user == com:\n",
        "            draw += 1\n",
        "        # 이긴 경우\n",
        "        elif (user==1 and com==3) or (user==2 and com==1) or (user==3 and com==2):\n",
        "            win += 1\n",
        "        total += 1\n",
        "        print(\"유저: {0}, 컴퓨터: {1}\".format(target_list[user-1], target_list[com-1]))\n",
        "\n",
        "print(\"게임종료 (전체:{0}, 승리:{1}, 비김:{2})\".format(total, win, draw))"
      ],
      "execution_count": null,
      "outputs": [
        {
          "output_type": "stream",
          "text": [
            "가위(1), 바위(2), 보(3)를 입력해주세요! :1\n",
            "유저: 가위, 컴퓨터: 가위\n",
            "가위(1), 바위(2), 보(3)를 입력해주세요! :2\n",
            "유저: 바위, 컴퓨터: 바위\n",
            "가위(1), 바위(2), 보(3)를 입력해주세요! :3\n",
            "유저: 보, 컴퓨터: 바위\n",
            "가위(1), 바위(2), 보(3)를 입력해주세요! :1\n",
            "유저: 가위, 컴퓨터: 바위\n",
            "가위(1), 바위(2), 보(3)를 입력해주세요! :2\n",
            "유저: 바위, 컴퓨터: 보\n",
            "가위(1), 바위(2), 보(3)를 입력해주세요! :3\n",
            "유저: 보, 컴퓨터: 가위\n",
            "가위(1), 바위(2), 보(3)를 입력해주세요! :4\n",
            "게임종료 (전체:6, 승리:1, 비김:2)\n"
          ],
          "name": "stdout"
        }
      ]
    },
    {
      "cell_type": "markdown",
      "metadata": {
        "id": "LZwgLhtN24bK"
      },
      "source": [
        "* 다른 방법\n",
        "\n",
        " 승리하는 경우를 비교하면 복잡해 져서 승리하는 경우에 해당하는 튜플을 담은 리스트를 만들어 주고 카운트한다."
      ]
    },
    {
      "cell_type": "code",
      "metadata": {
        "id": "GVhIx5x-24bK"
      },
      "source": [
        "#\n",
        "\n",
        "user = 1\n",
        "\n",
        "target_list = ['가위', '바위', '보']\n",
        "\n",
        "# dictionary로 관리\n",
        "target_dict = {1: '가위', 2: '바위', 3: '보'}\n",
        "\n",
        "\n"
      ],
      "execution_count": null,
      "outputs": []
    },
    {
      "cell_type": "code",
      "metadata": {
        "id": "HP6kKKVC27nm"
      },
      "source": [],
      "execution_count": null,
      "outputs": []
    },
    {
      "cell_type": "markdown",
      "metadata": {
        "id": "3SN1x63b3TYN"
      },
      "source": [
        "## break, continue\n",
        "\n",
        " `for문`, `while문`에서 제어 흐름을 벗어나기 위해 사용한다.\n",
        "\n",
        " * `break` : 완전히 중단.\n",
        " * `continue` : 처음으로 돌아가 다음 반복 검사 수행. 다시 조건 검사, 루프 수행.\n"
      ]
    },
    {
      "cell_type": "code",
      "metadata": {
        "id": "2EAyQOUN27mT",
        "outputId": "2b4ce8e0-ac3e-40c7-d37b-7d078ef422b1",
        "colab": {
          "base_uri": "https://localhost:8080/",
          "height": 71
        }
      },
      "source": [
        "# break\n",
        "for i in range(5):\n",
        "    if i==3:\n",
        "        break\n",
        "    print(i)"
      ],
      "execution_count": null,
      "outputs": [
        {
          "output_type": "stream",
          "text": [
            "0\n",
            "1\n",
            "2\n"
          ],
          "name": "stdout"
        }
      ]
    },
    {
      "cell_type": "code",
      "metadata": {
        "id": "j8Z8sCBy27kC",
        "outputId": "77ef7c58-d86c-431f-b430-b39772b3c338",
        "colab": {
          "base_uri": "https://localhost:8080/",
          "height": 89
        }
      },
      "source": [
        "# continue\n",
        "for i in range(5):\n",
        "    if i == 3:\n",
        "        continue\n",
        "    print(i)"
      ],
      "execution_count": null,
      "outputs": [
        {
          "output_type": "stream",
          "text": [
            "0\n",
            "1\n",
            "2\n",
            "4\n"
          ],
          "name": "stdout"
        }
      ]
    },
    {
      "cell_type": "code",
      "metadata": {
        "id": "ciL4pytt27iS",
        "outputId": "8c1d48b1-9635-4809-ed14-88d13553748f",
        "colab": {
          "base_uri": "https://localhost:8080/",
          "height": 377
        }
      },
      "source": [
        "# while문에서의 break\n",
        "\n",
        "i = 0\n",
        "while i < 30:\n",
        "    if i == 20:\n",
        "        break # 만나는 순간 while문 밖으로 빠져 나감.\n",
        "    print(i)\n",
        "    i += 1\n"
      ],
      "execution_count": null,
      "outputs": [
        {
          "output_type": "stream",
          "text": [
            "0\n",
            "1\n",
            "2\n",
            "3\n",
            "4\n",
            "5\n",
            "6\n",
            "7\n",
            "8\n",
            "9\n",
            "10\n",
            "11\n",
            "12\n",
            "13\n",
            "14\n",
            "15\n",
            "16\n",
            "17\n",
            "18\n",
            "19\n"
          ],
          "name": "stdout"
        }
      ]
    },
    {
      "cell_type": "code",
      "metadata": {
        "id": "f8cYVn5527f4",
        "outputId": "8903a036-ab20-4ca7-924c-84d5e395a68e",
        "colab": {
          "base_uri": "https://localhost:8080/",
          "height": 287
        }
      },
      "source": [
        "# while문에서의 continue\n",
        "\n",
        "i = 0\n",
        "while i < 30:\n",
        "    i += 1 # 위로 올라와야 함.\n",
        "    if i % 2: # 홀수면 출력하지 않고 넘어 감.\n",
        "        continue\n",
        "    print(i)\n"
      ],
      "execution_count": null,
      "outputs": [
        {
          "output_type": "stream",
          "text": [
            "2\n",
            "4\n",
            "6\n",
            "8\n",
            "10\n",
            "12\n",
            "14\n",
            "16\n",
            "18\n",
            "20\n",
            "22\n",
            "24\n",
            "26\n",
            "28\n",
            "30\n"
          ],
          "name": "stdout"
        }
      ]
    },
    {
      "cell_type": "markdown",
      "metadata": {
        "id": "iHSGd-7-50vb"
      },
      "source": [
        "* `break`, `continue`는 `if문`과 함께 많이 쓰인다.\n",
        "* 분기 조건이 없다면, 반복문을 빠져 나가거나, 실행을 건너 뛰는 옵션을 지정하는 게 의미가 없다.\n",
        "* 자주 쓰이는 패턴\n",
        "    - 조건식을 검사해서 `True`면 실행시킨다.\n",
        "    - 계속해서 실행하다가 조건을 만나면 반복을 끝내거나, 넘긴다.\n",
        "\n",
        "    ```\n",
        "    while True:\n",
        "        (...)\n",
        "        if (마칠 조건):\n",
        "            break\n",
        "        (...)\n",
        "        if (넘길 조건):\n",
        "            continue\n",
        "    ```\n",
        "    \n",
        "    - 운영체제나 웹 서비스로 `while True`가 계속해서 돌아간다.\n",
        "    \n"
      ]
    },
    {
      "cell_type": "code",
      "metadata": {
        "id": "D7VPrIH350iJ",
        "outputId": "7cafc2d6-eba4-49f4-cac4-8ff620df5436",
        "colab": {
          "base_uri": "https://localhost:8080/",
          "height": 233
        }
      },
      "source": [
        "# break를 활용해 어제 예제 구현\n",
        "\n",
        "total = 0\n",
        "\n",
        "while True:\n",
        "    num = input(\"숫자 입력: \")\n",
        "    if num.lower() == 's':\n",
        "        break\n",
        "    total += int(num)\n",
        "\n",
        "print(total)"
      ],
      "execution_count": null,
      "outputs": [
        {
          "output_type": "stream",
          "text": [
            "숫자 입력: 1\n",
            "숫자 입력: 2\n",
            "숫자 입력: 3\n",
            "숫자 입력: 4\n",
            "숫자 입력: 5\n",
            "숫자 입력: 6\n",
            "숫자 입력: 7\n",
            "숫자 입력: 8\n",
            "숫자 입력: 9\n",
            "숫자 입력: 10\n",
            "숫자 입력: s\n",
            "55\n"
          ],
          "name": "stdout"
        }
      ]
    },
    {
      "cell_type": "markdown",
      "metadata": {
        "id": "ga8TLh7r5BNo"
      },
      "source": [
        "**[참고]** print 옵션\n",
        "\n",
        " print 함수는 end, sep 옵션이 있다.\n",
        "\n",
        " * end 옵션\n",
        "    - 출력을 마칠 문자를 지정한다.\n",
        "    - 기본값 `\\n` : 개행하여 출력한다.\n",
        "\n",
        "* sep 옵션\n",
        "    - 여러 개를 한 번에 출력하되, 구분자를 지정한다.\n",
        "    - 기본값 `( )` : 한 칸씩 띄워서 출력한다."
      ]
    },
    {
      "cell_type": "markdown",
      "metadata": {
        "id": "mcKF-9WH4mff"
      },
      "source": [
        "<연습문제 11>\n",
        "\n",
        "1. while 문과 break 문을 사용하여 사용자가 입력한 숫자만큼 반복하여 ‘hi’ 출력하기\n",
        "\n",
        "2. for 문과 continue 문을 사용하여 사용자가 입력한 숫자까지의 짝수를 출력하기\n",
        "\n"
      ]
    },
    {
      "cell_type": "code",
      "metadata": {
        "id": "TSzCvsaA27ds",
        "outputId": "9950efe5-fed2-473e-889a-46a4d916716b",
        "colab": {
          "base_uri": "https://localhost:8080/",
          "height": 215
        }
      },
      "source": [
        "# 1번 : without break\n",
        "user_input = int(input())\n",
        "while user_input:\n",
        "    print(\"hi\")\n",
        "    user_input -= 1"
      ],
      "execution_count": null,
      "outputs": [
        {
          "output_type": "stream",
          "text": [
            "10\n",
            "hi\n",
            "hi\n",
            "hi\n",
            "hi\n",
            "hi\n",
            "hi\n",
            "hi\n",
            "hi\n",
            "hi\n",
            "hi\n"
          ],
          "name": "stdout"
        }
      ]
    },
    {
      "cell_type": "code",
      "metadata": {
        "id": "xbAakhCJ27bv",
        "outputId": "e3168763-a941-49e4-ae1b-00dbfe44926d",
        "colab": {
          "base_uri": "https://localhost:8080/",
          "height": 107
        }
      },
      "source": [
        "# 1번 : with break\n",
        "\n",
        "user_input = int(input())\n",
        "\n",
        "n = 0\n",
        "\n",
        "while True:\n",
        "    if n == user_input:\n",
        "        break\n",
        "    print(\"hi\")\n",
        "    n += 1"
      ],
      "execution_count": null,
      "outputs": [
        {
          "output_type": "stream",
          "text": [
            "4\n",
            "hi\n",
            "hi\n",
            "hi\n",
            "hi\n"
          ],
          "name": "stdout"
        }
      ]
    },
    {
      "cell_type": "code",
      "metadata": {
        "id": "oqcHM0wL27Z2",
        "outputId": "6800fc21-f096-4e1d-cb58-6308c3e5cd06",
        "colab": {
          "base_uri": "https://localhost:8080/",
          "height": 323
        }
      },
      "source": [
        "# 2번\n",
        "\n",
        "user_input = int(input())\n",
        "for n in range(user_input+1):\n",
        "    if n % 2: # n is odd\n",
        "        continue\n",
        "    print(n)"
      ],
      "execution_count": null,
      "outputs": [
        {
          "output_type": "stream",
          "text": [
            "30\n",
            "0\n",
            "2\n",
            "4\n",
            "6\n",
            "8\n",
            "10\n",
            "12\n",
            "14\n",
            "16\n",
            "18\n",
            "20\n",
            "22\n",
            "24\n",
            "26\n",
            "28\n",
            "30\n"
          ],
          "name": "stdout"
        }
      ]
    },
    {
      "cell_type": "code",
      "metadata": {
        "id": "ErzoEGVlBWS3",
        "outputId": "0e79674b-2aa3-4e1f-cf6e-90c25cfaae68",
        "colab": {
          "base_uri": "https://localhost:8080/",
          "height": 53
        }
      },
      "source": [
        "# 2번 : without continue\n",
        "user_input = int(input())\n",
        "print(*[n for n in range(user_input+1) if n % 2 == 0])"
      ],
      "execution_count": null,
      "outputs": [
        {
          "output_type": "stream",
          "text": [
            "30\n",
            "0 2 4 6 8 10 12 14 16 18 20 22 24 26 28 30\n"
          ],
          "name": "stdout"
        }
      ]
    },
    {
      "cell_type": "markdown",
      "metadata": {
        "id": "014erpiYEEXO"
      },
      "source": [
        "<연습문제 7>\n",
        "\n",
        " randint 함수를 사용해 길이가 100인 정수(1 ~ 1000)로 이루어진 리스트 a를 생성하고, 가장 큰 수를 구하시오.\n",
        "\n",
        " **[참고]** 실행할 때마다 난수 생성 시드값이 바뀌므로, 결과가 달라진다."
      ]
    },
    {
      "cell_type": "code",
      "metadata": {
        "id": "FtkOkafBEzCZ",
        "outputId": "c4edd8e4-9f27-4f33-d6f8-8055c8c959c8",
        "colab": {
          "base_uri": "https://localhost:8080/",
          "height": 35
        }
      },
      "source": [
        "import random\n",
        "\n",
        "a = []\n",
        "\n",
        "for _ in range(100):\n",
        "    a.append(random.randint(1, 1000))\n",
        "\n",
        "print(max(a))"
      ],
      "execution_count": null,
      "outputs": [
        {
          "output_type": "stream",
          "text": [
            "985\n"
          ],
          "name": "stdout"
        }
      ]
    },
    {
      "cell_type": "code",
      "metadata": {
        "id": "rUKoApS5IVUR",
        "outputId": "65d87768-b1f1-4626-bc42-d07906dfceb2",
        "colab": {
          "base_uri": "https://localhost:8080/",
          "height": 53
        }
      },
      "source": [
        "# 강사님 풀이\n",
        "\n",
        "random_list = []\n",
        "for _ in range(100):\n",
        "    random_list.append(random.randint(1, 1000))\n",
        "\n",
        "# 방법 1\n",
        "random_list.sort() # 정렬\n",
        "print(random_list[-1])\n",
        "\n",
        "# 방법 2\n",
        "_max = 0\n",
        "for i in random_list:\n",
        "    if _max < i:\n",
        "        _max = i\n",
        "print(_max)"
      ],
      "execution_count": null,
      "outputs": [
        {
          "output_type": "stream",
          "text": [
            "996\n",
            "996\n"
          ],
          "name": "stdout"
        }
      ]
    },
    {
      "cell_type": "code",
      "metadata": {
        "id": "ulDk9cf5FB0z",
        "outputId": "3c9a7534-dcdf-452f-e245-c1c6733c5907",
        "colab": {
          "base_uri": "https://localhost:8080/",
          "height": 35
        }
      },
      "source": [
        "# 리스트 사용하지 않은 풀이\n",
        "\n",
        "n = 0\n",
        "\n",
        "for _ in range(100):\n",
        "    rand = random.randint(1, 1000)\n",
        "    if rand >= n:\n",
        "        n = rand\n",
        "\n",
        "print(n)"
      ],
      "execution_count": null,
      "outputs": [
        {
          "output_type": "stream",
          "text": [
            "966\n"
          ],
          "name": "stdout"
        }
      ]
    },
    {
      "cell_type": "markdown",
      "metadata": {
        "id": "NMqwLgokJYuN"
      },
      "source": [
        "<연습문제 8>\n",
        "\n",
        " randint 함수를 이용해 정수(1~1000)로 이루어진 길이가 100개인 리스트 a를 만들고, 그 합계를 구하는 코드를 작성하시오."
      ]
    },
    {
      "cell_type": "code",
      "metadata": {
        "id": "GxZu1R58JgHq",
        "outputId": "cc12c53a-f7d7-491a-dc1c-1bf2b72d8ba0",
        "colab": {
          "base_uri": "https://localhost:8080/",
          "height": 35
        }
      },
      "source": [
        "a = []\n",
        "\n",
        "for _ in range(100):\n",
        "    a.append(random.randint(1, 1000))\n",
        "\n",
        "print(sum(a))"
      ],
      "execution_count": null,
      "outputs": [
        {
          "output_type": "stream",
          "text": [
            "49207\n"
          ],
          "name": "stdout"
        }
      ]
    },
    {
      "cell_type": "code",
      "metadata": {
        "id": "oA0CTRHuKGeE",
        "outputId": "7ada82cb-45a0-4d0c-f4d4-fca668e9c298",
        "colab": {
          "base_uri": "https://localhost:8080/",
          "height": 53
        }
      },
      "source": [
        "# 강사님 풀이\n",
        "\n",
        "random_list = []\n",
        "total = 0\n",
        "\n",
        "for i in range(100):\n",
        "    rand_value = random.randint(1, 1000)\n",
        "    total += rand_value # 방법 2\n",
        "    random_list.append(rand_value)\n",
        "\n",
        "\n",
        "# 방법 1\n",
        "print(sum(random_list))\n",
        "\n",
        "# 방법 2\n",
        "print(total)"
      ],
      "execution_count": null,
      "outputs": [
        {
          "output_type": "stream",
          "text": [
            "50277\n",
            "50277\n"
          ],
          "name": "stdout"
        }
      ]
    },
    {
      "cell_type": "markdown",
      "metadata": {
        "id": "eyU2oPnYEBX2"
      },
      "source": [
        "## 컴프리헨션\n",
        "\n",
        " **컴프리헨션**이란, 파이썬에서 **반복 가능한 객체**를 생성하기 위한 유용한 방법이다.\n",
        "\n",
        "  가장 기본적인 리스트 컴프리헨션은 `list(식 for 변수 in 리스트)`와 같이 작성한다. `for문`을 돌 때마다 식에 해당하는 변수를 만들어 list를 생성할 수 있다.\n",
        "\n",
        "\n",
        " `if문`도 추가할 수 있다. `list(식 for 변수 in list if 조건)`과 같이 작성한다.\n",
        "\n",
        " 이와 같이 컴프리헨션의 표현식에는 다중 루프 및 조건을 사용할 수 있다. 여러 줄의 코드를 한 줄의 코드로 간략화할 수 있다. 표현식을 여러 개 쓸 경우, 왼쪽에서 오른쪽 순서로 적용된다. *웬만하면*, 표현식을 **2개 정도** 선에서만 사용하자.\n",
        "\n",
        "\n",
        "**[참고]** list 외에도 set, dict에 모두 컴프리헨션을 적용할 수 있다.\n",
        "\n",
        "- 딕셔너리 컴프리헨션 : 키, 값을 이용해서 딕셔너리 컴프리헨션을 사용할 수 있다.\n"
      ]
    },
    {
      "cell_type": "code",
      "metadata": {
        "id": "hVk5dp8sdA9L",
        "outputId": "39bfb771-7919-4730-fe49-3ecdff4b567e",
        "colab": {
          "base_uri": "https://localhost:8080/",
          "height": 35
        }
      },
      "source": [
        "# 이중 for문 리스트 컴프리헨션\n",
        "\n",
        "list1 = [i*j for i in range(10) for j in range(5)] # 아래와 같은 표현.\n",
        "\n",
        "list2 = []\n",
        "for i in range(10):\n",
        "    for j in range(5):\n",
        "        list2.append(i*j)\n",
        "\n",
        "print(list1 == list2)"
      ],
      "execution_count": null,
      "outputs": [
        {
          "output_type": "stream",
          "text": [
            "True\n"
          ],
          "name": "stdout"
        }
      ]
    },
    {
      "cell_type": "code",
      "metadata": {
        "id": "c_frh_WhdA1n",
        "outputId": "81cd5d15-ba3b-4503-beeb-3a26df6b9baf",
        "colab": {
          "base_uri": "https://localhost:8080/",
          "height": 35
        }
      },
      "source": [
        "# 딕셔너리 컴프리헨션\n",
        "\n",
        "myList = ['k1', 'k2', 'k3']\n",
        "\n",
        "myDict = {val : (i+1) for i, val in enumerate(myList)}\n",
        "print(myDict)"
      ],
      "execution_count": null,
      "outputs": [
        {
          "output_type": "stream",
          "text": [
            "{'k1': 1, 'k2': 2, 'k3': 3}\n"
          ],
          "name": "stdout"
        }
      ]
    },
    {
      "cell_type": "markdown",
      "metadata": {
        "id": "HpAxG75OEtNZ"
      },
      "source": [
        "* 리스트 컴프리헨션을 활용한 <연습문제 7> 풀이\n"
      ]
    },
    {
      "cell_type": "code",
      "metadata": {
        "id": "6pjgDI4K9jQK",
        "outputId": "c63f9de8-3407-462a-dc3e-51ff63dd0da2",
        "colab": {
          "base_uri": "https://localhost:8080/",
          "height": 35
        }
      },
      "source": [
        "# 실행할 때마다 값이 달라짐.\n",
        "\n",
        "import random\n",
        "\n",
        "print(max([random.randint(1, 1000) for _ in range(100)]))"
      ],
      "execution_count": null,
      "outputs": [
        {
          "output_type": "stream",
          "text": [
            "989\n"
          ],
          "name": "stdout"
        }
      ]
    },
    {
      "cell_type": "markdown",
      "metadata": {
        "id": "5Np3pYgLebUZ"
      },
      "source": [
        "**[참고]** zip\n",
        "\n",
        " 반복 가능 객체에서 같은 위치의 요소들을 매핑하여 순서쌍을 리턴한다. 묶어서 반복을 돌리고 싶을 때 사용한다. 길이가 다를 경우, 더 길이가 짧은 쪽에 맞춘다.\n",
        "\n"
      ]
    },
    {
      "cell_type": "code",
      "metadata": {
        "id": "5cd7hF6FdAy4",
        "outputId": "337b914f-e6e8-4eb3-de58-e8d7d800a396",
        "colab": {
          "base_uri": "https://localhost:8080/",
          "height": 125
        }
      },
      "source": [
        "# zip\n",
        "keys = ['k1', 'k2', 'k3']\n",
        "vals = ['v1', 'v2', 'v3']\n",
        "\n",
        "print(zip(keys, vals)) # zip 객체 확인 : 이터레이터\n",
        "print(list(zip(keys, vals))) # zip 객체를 리스트로 만든다.\n",
        "\n",
        "# 언패킹\n",
        "for k, v in zip(keys, vals):\n",
        "    print(k, v)\n",
        "\n",
        "# zip을 활용한 리스트 컴프리헨션 = zip객체를 리스트화한 것과 같다.\n",
        "zip_list = [(k, v) for k, v in zip(keys, vals)]\n",
        "print(zip_list)"
      ],
      "execution_count": null,
      "outputs": [
        {
          "output_type": "stream",
          "text": [
            "<zip object at 0x7f6108588908>\n",
            "[('k1', 'v1'), ('k2', 'v2'), ('k3', 'v3')]\n",
            "k1 v1\n",
            "k2 v2\n",
            "k3 v3\n",
            "[('k1', 'v1'), ('k2', 'v2'), ('k3', 'v3')]\n"
          ],
          "name": "stdout"
        }
      ]
    },
    {
      "cell_type": "code",
      "metadata": {
        "id": "n6oWR5-QfxDT",
        "outputId": "a9459bca-8cd8-460e-ba26-e8f60e97880c",
        "colab": {
          "base_uri": "https://localhost:8080/",
          "height": 107
        }
      },
      "source": [
        "# 요소가 3개일 때의 zip\n",
        "\n",
        "l1 = ['a', 'b', 'c', 'd']\n",
        "l2 = [1, 2, 3, 4]\n",
        "l3 = [10.0, 20.0, 30.0, 40.0]\n",
        "\n",
        "print(list(zip(l1, l2, l3)))\n",
        "\n",
        "# 언패킹\n",
        "for i, j, k in zip(l1, l2, l3):\n",
        "    print(i, j+k)"
      ],
      "execution_count": null,
      "outputs": [
        {
          "output_type": "stream",
          "text": [
            "[('a', 1, 10.0), ('b', 2, 20.0), ('c', 3, 30.0), ('d', 4, 40.0)]\n",
            "a 11.0\n",
            "b 22.0\n",
            "c 33.0\n",
            "d 44.0\n"
          ],
          "name": "stdout"
        }
      ]
    },
    {
      "cell_type": "markdown",
      "metadata": {
        "id": "PPtgcSgagVGI"
      },
      "source": [
        "<연습문제 9>\n",
        "\n",
        "1. word = [“school”, “game”, “piano”, “science”, “hotel”, “mountn”] 중 글자수가 6글자 이상인 문자를 모아 새로운 리스트를 생성하세요(리스트 컴프리핸션을 사용해주세요)\n",
        "\n",
        "2. word = [“school”, “game”, “piano”, “science”, “hotel”, “mountian”] 리스트의 글자수가 들어가있는 새로운 리스트를 생성하세요\n",
        "(리스트 컴프리핸션을 사용해주세요)\n",
        "\n"
      ]
    },
    {
      "cell_type": "code",
      "metadata": {
        "id": "dGs19XvqgUVd",
        "outputId": "0492dd6f-0e2c-4231-9a9f-28fec638c445",
        "colab": {
          "base_uri": "https://localhost:8080/",
          "height": 71
        }
      },
      "source": [
        "word = ['school', 'game', 'piano', 'science', 'hotel', 'mountain']\n",
        "\n",
        "# 1번\n",
        "ans_1 = [w for w in word if len(word) >= 6]\n",
        "print(ans_1)\n",
        "\n",
        "# 2번\n",
        "ans_2 = [len(w) for w in word]\n",
        "print(ans_2)\n",
        "\n",
        "# 번외\n",
        "ans_3 = [(w, len(w)) for w in word]\n",
        "print(ans_3)"
      ],
      "execution_count": null,
      "outputs": [
        {
          "output_type": "stream",
          "text": [
            "['school', 'game', 'piano', 'science', 'hotel', 'mountain']\n",
            "[6, 4, 5, 7, 5, 8]\n",
            "[('school', 6), ('game', 4), ('piano', 5), ('science', 7), ('hotel', 5), ('mountain', 8)]\n"
          ],
          "name": "stdout"
        }
      ]
    },
    {
      "cell_type": "markdown",
      "metadata": {
        "id": "K_2e45TBkO_2"
      },
      "source": [
        "<연습문제 9-2>\n",
        "\n",
        " a = [[10, 20], [30, 40], [50, 60]]\n",
        "\n",
        " b = [[2, 3], [4, 5], [6, 7]]\n",
        "\n",
        " 2X3 리스트 a, b를 사용자로부터 입력받아 두 값을 곱해 새로운 리스트 C 를 만드세요\n",
        "\n",
        "\n"
      ]
    },
    {
      "cell_type": "code",
      "metadata": {
        "id": "x5Sfdz2DkYyo",
        "outputId": "3229c4e1-1c23-4e58-df72-0ebfa63fcdf2",
        "colab": {
          "base_uri": "https://localhost:8080/",
          "height": 53
        }
      },
      "source": [
        "a = [[10, 20], [30, 40], [50, 60]]\n",
        "b = [[2, 3], [4, 5], [6, 7]]\n",
        "\n",
        "# 리스트 컴프리헨션\n",
        "c = [[m*n for m, n in zip(i, j)] for i, j in zip(a, b)]\n",
        "print(c)\n",
        "\n",
        "for i, j in zip(a, b):\n",
        "    for m, n in zip(i, j):\n",
        "        print(m * n, end = ' ')"
      ],
      "execution_count": null,
      "outputs": [
        {
          "output_type": "stream",
          "text": [
            "[[20, 60], [120, 200], [300, 420]]\n",
            "20 60 120 200 300 420 "
          ],
          "name": "stdout"
        }
      ]
    },
    {
      "cell_type": "code",
      "metadata": {
        "id": "0NNawjLjkMzP",
        "outputId": "0a8f8a4f-2312-43af-f32b-d0637a7dae14",
        "colab": {
          "base_uri": "https://localhost:8080/",
          "height": 35
        }
      },
      "source": [
        "# 강사님 정답\n",
        "\n",
        "row_list = []\n",
        "\n",
        "for [num1, num2], [num3, num4] in zip(a, b):\n",
        "    row_list.append([num1*num3, num2*num4])\n",
        "\n",
        "print(row_list)"
      ],
      "execution_count": null,
      "outputs": [
        {
          "output_type": "stream",
          "text": [
            "[[20, 60], [120, 200], [300, 420]]\n"
          ],
          "name": "stdout"
        }
      ]
    }
  ]
}