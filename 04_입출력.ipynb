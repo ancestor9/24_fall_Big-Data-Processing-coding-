{
  "nbformat": 4,
  "nbformat_minor": 0,
  "metadata": {
    "colab": {
      "provenance": [],
      "include_colab_link": true
    },
    "kernelspec": {
      "name": "python3",
      "display_name": "Python 3"
    }
  },
  "cells": [
    {
      "cell_type": "markdown",
      "metadata": {
        "id": "view-in-github",
        "colab_type": "text"
      },
      "source": [
        "<a href=\"https://colab.research.google.com/github/ancestor9/24_fall_Big-Data-Processing-coding-/blob/main/04_%EC%9E%85%EC%B6%9C%EB%A0%A5.ipynb\" target=\"_parent\"><img src=\"https://colab.research.google.com/assets/colab-badge.svg\" alt=\"Open In Colab\"/></a>"
      ]
    },
    {
      "cell_type": "code",
      "metadata": {
        "id": "_MrjSaUUwPfi",
        "outputId": "0a3a2d02-9a67-4a0e-c082-45cb5a92c0bb",
        "colab": {
          "base_uri": "https://localhost:8080/",
          "height": 127
        }
      },
      "source": [
        "from google.colab import drive\n",
        "drive.mount('/content/drive')"
      ],
      "execution_count": null,
      "outputs": [
        {
          "output_type": "stream",
          "text": [
            "Go to this URL in a browser: https://accounts.google.com/o/oauth2/auth?client_id=947318989803-6bn6qk8qdgf4n4g3pfee6491hc0brc4i.apps.googleusercontent.com&redirect_uri=urn%3aietf%3awg%3aoauth%3a2.0%3aoob&response_type=code&scope=email%20https%3a%2f%2fwww.googleapis.com%2fauth%2fdocs.test%20https%3a%2f%2fwww.googleapis.com%2fauth%2fdrive%20https%3a%2f%2fwww.googleapis.com%2fauth%2fdrive.photos.readonly%20https%3a%2f%2fwww.googleapis.com%2fauth%2fpeopleapi.readonly\n",
            "\n",
            "Enter your authorization code:\n",
            "··········\n",
            "Mounted at /content/drive\n"
          ],
          "name": "stdout"
        }
      ]
    },
    {
      "cell_type": "markdown",
      "metadata": {
        "id": "WVw5F7rcvAHN"
      },
      "source": [
        " ## 파일의 입출력\n"
      ]
    },
    {
      "cell_type": "markdown",
      "metadata": {
        "id": "66LODwNswJ67"
      },
      "source": [
        "* 파이썬에서 파일의 입출력을 위해서는 `open` 함수를 이용한다. 인자로 파일의 경로, 파일 입출력 모드를 갖는다.\n",
        "\n",
        "* 파일 입출력 모드\n",
        "    - `r` : 읽기 모드.\n",
        "        - `rt` : 읽기 모드로 열기.\n",
        "        - `r+` : 읽기 모드로 열기 + 쓰기도 가능.\n",
        "    - `w` : 쓰기 모드.     \n",
        "        - `wt` : 쓰기 모드로 열기\n",
        "        - `w+` : 쓰기 모드로 열기 + 읽기도 가능\n",
        "    - `a` : 덮어쓰기 모드.\n",
        "    - `x` : 실행 모드.\n",
        "\n",
        "* **반드시** `.close()`를 사용하여 닫아주어야 한다.\n",
        "\n"
      ]
    },
    {
      "cell_type": "code",
      "metadata": {
        "id": "0zdti6dUw0Vh"
      },
      "source": [
        "path = \"/content/drive/My Drive/멀티캠퍼스/[혁신성장] 인공지능 자연어처리 기반\""
      ],
      "execution_count": null,
      "outputs": []
    },
    {
      "cell_type": "code",
      "metadata": {
        "id": "1J540iwUu_tj"
      },
      "source": [
        "# 쓰기 모드\n",
        "file = open(f\"{path}/sample_file.txt\", 'w')\n",
        "file.write('Sample Text for Class\\n')\n",
        "file.write('피곤하다.....\\n')\n",
        "file.close() # 닫아주어야 한다."
      ],
      "execution_count": null,
      "outputs": []
    },
    {
      "cell_type": "code",
      "metadata": {
        "id": "dO8iHuQRxAXh",
        "outputId": "fe803791-da3c-4bfa-9831-42bb2beba44f",
        "colab": {
          "base_uri": "https://localhost:8080/",
          "height": 71
        }
      },
      "source": [
        "# 읽기 모드\n",
        "f = open(f\"{path}/sample_file.txt\", 'r')\n",
        "content = f.read()\n",
        "print(content)\n",
        "f.close()"
      ],
      "execution_count": null,
      "outputs": [
        {
          "output_type": "stream",
          "text": [
            "Sample Text for Class\n",
            "피곤하다.....\n",
            "\n"
          ],
          "name": "stdout"
        }
      ]
    },
    {
      "cell_type": "markdown",
      "metadata": {
        "id": "yOr2IvaPyyO9"
      },
      "source": [
        "* `.open()`을 이용하면, 알아서 닫아진다."
      ]
    },
    {
      "cell_type": "code",
      "metadata": {
        "id": "uI7xEad0yueb"
      },
      "source": [
        "# 쓰기 모드\n",
        "with open(f\"{path}/text1.txt\", 'w') as f:\n",
        "    f.write('2nd File')"
      ],
      "execution_count": null,
      "outputs": []
    },
    {
      "cell_type": "code",
      "metadata": {
        "id": "8Ul90P1AzflZ",
        "outputId": "0f38aa96-656c-4fcd-af65-2f972f4996e4",
        "colab": {
          "base_uri": "https://localhost:8080/",
          "height": 35
        }
      },
      "source": [
        "# 읽기 모드\n",
        "with open(f\"{path}/text1.txt\") as f:\n",
        "    text = f.read()\n",
        "\n",
        "print(text)"
      ],
      "execution_count": null,
      "outputs": [
        {
          "output_type": "stream",
          "text": [
            "2nd File\n"
          ],
          "name": "stdout"
        }
      ]
    },
    {
      "cell_type": "markdown",
      "metadata": {
        "id": "SOQY1KQRy-1A"
      },
      "source": [
        "* 바이너리 모드 : 음성, 영상, 이미지 등\n",
        "    - `wb`\n",
        "    - `rb`\n"
      ]
    },
    {
      "cell_type": "markdown",
      "metadata": {
        "id": "9IQBeQIk060v"
      },
      "source": [
        "## 파일 입출력 - 실습"
      ]
    },
    {
      "cell_type": "markdown",
      "metadata": {
        "id": "l5sXxMQS2M64"
      },
      "source": [
        "* `w` vs. `a`"
      ]
    },
    {
      "cell_type": "code",
      "metadata": {
        "id": "HhMrSc_T08gI",
        "outputId": "4a195fd6-1ac3-4172-e888-6cfb18d7079a",
        "colab": {
          "base_uri": "https://localhost:8080/",
          "height": 71
        }
      },
      "source": [
        "# 파일 입력\n",
        "\n",
        "with open(f\"{path}/Jungkook.txt\", 'w') as f: # 파일이 쓰여짐.\n",
        "    f.write('Jungkook 1st file')\n",
        "    f.write('It is first file!!!!!!')\n",
        "\n",
        "# 파일 출력\n",
        "with open(f\"{path}/Jungkook.txt\", 'r') as f:\n",
        "    jungkook_1 = f.read()\n",
        "\n",
        "print(jungkook_1)\n",
        "print(\"=====================================\")\n",
        "\n",
        "# 파일 새로 입력\n",
        "with open(f\"{path}/Jungkook.txt\", 'w') as f: # 파일이 새로 쓰여짐.\n",
        "    f.write('Jungkook 2nd file')\n",
        "    f.write('It is second file!!!!!!')\n",
        "\n",
        "# 파일 출력\n",
        "with open(f\"{path}/Jungkook.txt\", 'r') as f:\n",
        "    jungkook_2 = f.read()\n",
        "\n",
        "print(jungkook_2)"
      ],
      "execution_count": null,
      "outputs": [
        {
          "output_type": "stream",
          "text": [
            "Jungkook 1st fileIt is first file!!!!!!\n",
            "=====================================\n",
            "Jungkook 2nd fileIt is second file!!!!!!\n"
          ],
          "name": "stdout"
        }
      ]
    },
    {
      "cell_type": "code",
      "metadata": {
        "id": "YhbT4Ezx2MIq",
        "outputId": "53e53d14-8bff-4ec0-c2c7-d24184f5accc",
        "colab": {
          "base_uri": "https://localhost:8080/",
          "height": 71
        }
      },
      "source": [
        "# 파일 입력\n",
        "\n",
        "with open(f\"{path}/Jungkook2.txt\", 'a') as f: # 파일이 쓰여짐.\n",
        "    f.write('Jungkook 1st file')\n",
        "    f.write('It is first file!!!!!!')\n",
        "\n",
        "# 파일 출력\n",
        "with open(f\"{path}/Jungkook2.txt\", 'r') as f:\n",
        "    jungkook_1 = f.read()\n",
        "\n",
        "print(jungkook_1)\n",
        "print(\"=====================================\")\n",
        "\n",
        "# 파일 새로 입력\n",
        "with open(f\"{path}/Jungkook2.txt\", 'a') as f: # 파일이 새로 쓰여짐.\n",
        "    f.write('Jungkook 2nd file')\n",
        "    f.write('It is second file!!!!!!')\n",
        "\n",
        "# 파일 출력\n",
        "with open(f\"{path}/Jungkook2.txt\", 'r') as f:\n",
        "    jungkook_2 = f.read()\n",
        "\n",
        "print(jungkook_2)"
      ],
      "execution_count": null,
      "outputs": [
        {
          "output_type": "stream",
          "text": [
            "Jungkook 2nd fileIt is second file!!!!!!Jungkook 1st fileIt is first file!!!!!!\n",
            "=====================================\n",
            "Jungkook 2nd fileIt is second file!!!!!!Jungkook 1st fileIt is first file!!!!!!Jungkook 2nd fileIt is second file!!!!!!\n"
          ],
          "name": "stdout"
        }
      ]
    },
    {
      "cell_type": "markdown",
      "metadata": {
        "id": "-6i-Dp6-2bEB"
      },
      "source": [
        "* `read` vs `readline` vs `readlines`"
      ]
    },
    {
      "cell_type": "code",
      "metadata": {
        "id": "YIz7GvBj0dYr",
        "outputId": "0129d8aa-c881-4049-af34-f1520f54c4fc",
        "colab": {
          "base_uri": "https://localhost:8080/",
          "height": 125
        }
      },
      "source": [
        "# 읽기 차이\n",
        "with open(f\"{path}/sample_file.txt\", 'r') as myFile:\n",
        "    text = myFile.read()\n",
        "\n",
        "with open(f\"{path}/sample_file.txt\", 'r') as myFile:\n",
        "    text_1 = myFile.readline()\n",
        "\n",
        "# content들이 line 단위로 들어옴.\n",
        "with open(f\"{path}/sample_file.txt\", 'r') as myFile:\n",
        "    text_2 = myFile.readlines()\n",
        "\n",
        "print(text)\n",
        "print(text_1)\n",
        "print(text_2)"
      ],
      "execution_count": null,
      "outputs": [
        {
          "output_type": "stream",
          "text": [
            "Sample Text for Class\n",
            "피곤하다.....\n",
            "\n",
            "Sample Text for Class\n",
            "\n",
            "['Sample Text for Class\\n', '피곤하다.....\\n']\n"
          ],
          "name": "stdout"
        }
      ]
    }
  ]
}