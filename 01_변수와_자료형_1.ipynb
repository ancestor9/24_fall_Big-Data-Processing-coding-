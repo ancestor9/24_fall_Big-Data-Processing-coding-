{
  "cells": [
    {
      "cell_type": "markdown",
      "metadata": {
        "id": "view-in-github",
        "colab_type": "text"
      },
      "source": [
        "<a href=\"https://colab.research.google.com/github/ancestor9/24_fall_Big-Data-Processing-coding-/blob/main/01_%EB%B3%80%EC%88%98%EC%99%80_%EC%9E%90%EB%A3%8C%ED%98%95_1.ipynb\" target=\"_parent\"><img src=\"https://colab.research.google.com/assets/colab-badge.svg\" alt=\"Open In Colab\"/></a>"
      ]
    },
    {
      "cell_type": "markdown",
      "metadata": {
        "id": "S0nOh9A4kS1F"
      },
      "source": [
        "# 제목 1."
      ]
    },
    {
      "cell_type": "markdown",
      "metadata": {
        "id": "EtCKTASXkS1K"
      },
      "source": [
        "## 제목 2."
      ]
    },
    {
      "cell_type": "markdown",
      "metadata": {
        "id": "ZhAy_8u8kS1K"
      },
      "source": [
        "Type *Markdown* and LaTex: $\\alpha^2$"
      ]
    },
    {
      "cell_type": "markdown",
      "metadata": {
        "id": "GpRUePjpkS1L"
      },
      "source": [
        "# 0. Jupyter Notebook 사용법\n",
        "\n",
        "* `ln()` : 실행 순서.\n",
        "    - line number. 파이썬 코드가 실행된 순서. 셀의 순서가 아니라 실행 순서에 따라 파이썬 코드가 인식.\n",
        "    - `*` : line number가 안 찍히고 계속 실행 중. `Interrupt`로 멈춰야 함. 그래도 안 멈추면 `Restart Kernel`.\n",
        "        - `input()` 중복 실행.\n",
        "        - 무한 루프.\n",
        "\n",
        "* 실행\n",
        "    - `shift + enter` : 실행 후 셀이 넘어 감.\n",
        "    - `ctrl + enter` : 실행 후 셀이 멈춰 있음.\n",
        "\n",
        "* 셀\n",
        "    - `a` : 위에 셀 추가. `b` : 아래 셀 추가.\n",
        "    - `dd` : 삭제.\n",
        "    - `z` : 실행 취소.\n",
        "    - `m` : 마크다운으로 변경.\n",
        "\n",
        "* 주석 처리\n",
        "    - `#` : 한 줄 주석.\n",
        "    - `'''` : 여러 줄 주석.\n",
        "* 출력하지 않더라도 마지막은 항상 출력(exho).\n"
      ]
    },
    {
      "cell_type": "markdown",
      "metadata": {
        "id": "GL_6YM0pkS1M"
      },
      "source": [
        "# 1. Python 기초"
      ]
    },
    {
      "cell_type": "markdown",
      "metadata": {
        "id": "eLynV1PKkS1M"
      },
      "source": [
        "* `input()` : 값을 입력받아 변수에 저장. 입력받는 값은 문자열."
      ]
    },
    {
      "cell_type": "code",
      "execution_count": null,
      "metadata": {
        "id": "hecWBrU4kS1M",
        "outputId": "2fa33db8-bbe3-45b7-dbaa-8d1042f79c13",
        "colab": {
          "base_uri": "https://localhost:8080/"
        }
      },
      "outputs": [
        {
          "output_type": "stream",
          "name": "stdout",
          "text": [
            "입력 숫자: 10\n",
            "10\n"
          ]
        }
      ],
      "source": [
        "# 숫자 입력받은 후 출력.\n",
        "a = input(\"입력 숫자: \") # 입력\n",
        "print(a) # 출력"
      ]
    },
    {
      "cell_type": "markdown",
      "metadata": {
        "id": "uE0YHh2YkS1O"
      },
      "source": [
        "## 변수"
      ]
    },
    {
      "cell_type": "code",
      "execution_count": null,
      "metadata": {
        "id": "4XgK3xc4kS1O"
      },
      "outputs": [],
      "source": [
        "# 변수 선언\n",
        "X = 10"
      ]
    },
    {
      "cell_type": "code",
      "execution_count": null,
      "metadata": {
        "scrolled": true,
        "id": "em24XbV-kS1O",
        "outputId": "620c2517-3b52-404d-f50d-93c0a62bdbda",
        "colab": {
          "base_uri": "https://localhost:8080/"
        }
      },
      "outputs": [
        {
          "output_type": "execute_result",
          "data": {
            "text/plain": [
              "5"
            ]
          },
          "metadata": {},
          "execution_count": 3
        }
      ],
      "source": [
        "# 변수 변경\n",
        "X = 5\n",
        "X"
      ]
    },
    {
      "cell_type": "code",
      "execution_count": null,
      "metadata": {
        "id": "blJy4JDAkS1P"
      },
      "outputs": [],
      "source": [
        "# 한 번에 여러 변수 선언\n",
        "x, y, z = 1, 2, 3"
      ]
    },
    {
      "cell_type": "code",
      "execution_count": null,
      "metadata": {
        "scrolled": true,
        "id": "07DVETptkS1P",
        "outputId": "a1f3715b-d700-4d52-9a00-d6d5dccbf2d5",
        "colab": {
          "base_uri": "https://localhost:8080/"
        }
      },
      "outputs": [
        {
          "output_type": "execute_result",
          "data": {
            "text/plain": [
              "1"
            ]
          },
          "metadata": {},
          "execution_count": 5
        }
      ],
      "source": [
        "x"
      ]
    },
    {
      "cell_type": "code",
      "execution_count": null,
      "metadata": {
        "scrolled": true,
        "id": "WE31b_bTkS1P",
        "outputId": "252880e7-8e12-4e1f-c95d-633deb9f0ea9",
        "colab": {
          "base_uri": "https://localhost:8080/"
        }
      },
      "outputs": [
        {
          "output_type": "execute_result",
          "data": {
            "text/plain": [
              "2"
            ]
          },
          "metadata": {},
          "execution_count": 6
        }
      ],
      "source": [
        "y"
      ]
    },
    {
      "cell_type": "code",
      "execution_count": null,
      "metadata": {
        "scrolled": false,
        "id": "N9OGP01MkS1Q",
        "outputId": "dd12779b-2d28-431e-ab00-12e42c76465c",
        "colab": {
          "base_uri": "https://localhost:8080/"
        }
      },
      "outputs": [
        {
          "output_type": "execute_result",
          "data": {
            "text/plain": [
              "3"
            ]
          },
          "metadata": {},
          "execution_count": 7
        }
      ],
      "source": [
        "z"
      ]
    },
    {
      "cell_type": "markdown",
      "metadata": {
        "id": "btY7EBwCkS1Q"
      },
      "source": [
        "## 자료형\n",
        "\n",
        "파이썬이 제공하는 기본(원시) 자료형은 8가지가 있다. 자료형을 조합하거나, 새로운 자료형을 만들 수 있다.\n",
        "\n",
        "* `int`\n",
        "* `float`\n",
        "* `bool`\n",
        "* `str`\n",
        "* `list`\n",
        "* `tuple`\n",
        "* `set`\n",
        "* `dict`"
      ]
    },
    {
      "cell_type": "markdown",
      "metadata": {
        "id": "aD7_iClCkS1Q"
      },
      "source": [
        "### 1) 숫자 자료형"
      ]
    },
    {
      "cell_type": "code",
      "execution_count": null,
      "metadata": {
        "id": "KKDbc1cjkS1Q",
        "outputId": "736762c6-e51e-41b9-ff1c-b989a0dc377d",
        "colab": {
          "base_uri": "https://localhost:8080/"
        }
      },
      "outputs": [
        {
          "output_type": "stream",
          "name": "stdout",
          "text": [
            "3\n",
            "<class 'int'>\n"
          ]
        }
      ],
      "source": [
        "# int\n",
        "print(3)\n",
        "print(type(3))"
      ]
    },
    {
      "cell_type": "code",
      "execution_count": null,
      "metadata": {
        "scrolled": true,
        "id": "u5uUL2KEkS1Q",
        "outputId": "87f5f419-aea6-4fd8-925a-91d087c70a1d",
        "colab": {
          "base_uri": "https://localhost:8080/"
        }
      },
      "outputs": [
        {
          "output_type": "stream",
          "name": "stdout",
          "text": [
            "3.0\n",
            "<class 'float'>\n"
          ]
        }
      ],
      "source": [
        "# float\n",
        "print(3.0)\n",
        "print(type(3.0))"
      ]
    },
    {
      "cell_type": "code",
      "execution_count": null,
      "metadata": {
        "scrolled": false,
        "id": "ZFgZnf-KkS1Q",
        "outputId": "b109bc77-e034-4036-ce3f-c157f9188bf9",
        "colab": {
          "base_uri": "https://localhost:8080/"
        }
      },
      "outputs": [
        {
          "output_type": "stream",
          "name": "stdout",
          "text": [
            "9\n",
            "3\n",
            "18\n",
            "2.0\n",
            "216\n",
            "2\n",
            "0\n"
          ]
        }
      ],
      "source": [
        "# 정수의 연산\n",
        "a, b = 6, 3\n",
        "print(a + b)\n",
        "print(a - b)\n",
        "print(a * b)\n",
        "print(a / b) # 나누기: 실수.\n",
        "print(a**b) # power\n",
        "print(a//b) # 몫 연산 : 실수 부분 버림.\n",
        "print(a % b) # 나머지(modula) 연산."
      ]
    },
    {
      "cell_type": "code",
      "execution_count": null,
      "metadata": {
        "scrolled": false,
        "id": "Rb1qSWOpkS1R",
        "outputId": "4825810c-7958-4c4d-ea2e-e7188228c1a3",
        "colab": {
          "base_uri": "https://localhost:8080/"
        }
      },
      "outputs": [
        {
          "output_type": "stream",
          "name": "stdout",
          "text": [
            "14.0\n",
            "6.0\n",
            "40.0\n",
            "2.5\n",
            "10000.0\n",
            "2.0\n",
            "2.0\n"
          ]
        }
      ],
      "source": [
        "# 실수의 연산\n",
        "c = 10.0\n",
        "d = 4.0\n",
        "print(c + d)\n",
        "print(c - d)\n",
        "print(c * d)\n",
        "print(c / d) # 나누기: 실수\n",
        "print(c**d) # power\n",
        "print(c//d)\n",
        "print(c % d)"
      ]
    },
    {
      "cell_type": "markdown",
      "metadata": {
        "id": "Qcp73pkzkS1R"
      },
      "source": [
        "#### Cast : 형변환(Type Change)\n",
        "\n",
        "* 묵시적 형변환 : `int`, `float` 간의 연산 과정에서처럼 컴퓨터가 내부적으로 변환.\n",
        "* 명시적 형변환 : 자료형을 명시적으로 언급해서 변환. 자료형과 자료형 변환 함수는 동일하다."
      ]
    },
    {
      "cell_type": "markdown",
      "metadata": {
        "id": "zm9JP9EwkS1R"
      },
      "source": [
        "<연습문제 1>\n",
        "\n",
        "a=7, b=3.0으로 초기화한 후, a를 b로 나누었을 때 몫과 나머지를 각각 c와 d라는 변수에 초기화한 후 출력하라.\n",
        "그리고 e라는 변수에 a의 b제곱을 초기화하고 출력하라."
      ]
    },
    {
      "cell_type": "code",
      "execution_count": null,
      "metadata": {
        "scrolled": true,
        "id": "QStEsgv_kS1R",
        "outputId": "e35f9db4-94f1-4f36-c6c5-c095abfa962d",
        "colab": {
          "base_uri": "https://localhost:8080/"
        }
      },
      "outputs": [
        {
          "output_type": "stream",
          "name": "stdout",
          "text": [
            "2.0\n",
            "1.0\n",
            "343.0\n"
          ]
        }
      ],
      "source": [
        "# 정수와 실수의 연산\n",
        "a, b = 7, 3.0\n",
        "c, d = a//b, a%b\n",
        "print(c) # a : 묵시적 형변환\n",
        "print(d)\n",
        "e = a**b\n",
        "print(e)"
      ]
    },
    {
      "cell_type": "markdown",
      "metadata": {
        "id": "rrSuSVWOkS1R"
      },
      "source": [
        "#### Cast : 형변환(Type Change)\n",
        "\n",
        "* 묵시적 형변환 : `int`, `float` 간의 연산 과정에서처럼 컴퓨터가 내부적으로 변환.\n",
        "* 명시적 형변환 : 자료형을 명시적으로 언급해서 변환."
      ]
    },
    {
      "cell_type": "markdown",
      "metadata": {
        "id": "5XComaXBkS1R"
      },
      "source": [
        "<연습문제 2>\n",
        "\n",
        "변수를 학생의 이름으로 하여 반 평균을 정수로 출력하라.\n",
        "\n",
        "| Name | Score |\n",
        "| --- | --- |\n",
        "| Mike | 80 |\n",
        "| Judy | 75 |\n",
        "| Sera | 100 |"
      ]
    },
    {
      "cell_type": "code",
      "execution_count": null,
      "metadata": {
        "id": "yFpoUg-LkS1R",
        "outputId": "cf63c380-f349-4e07-83a3-2b4766e7888d",
        "colab": {
          "base_uri": "https://localhost:8080/"
        }
      },
      "outputs": [
        {
          "output_type": "stream",
          "name": "stdout",
          "text": [
            "85\n"
          ]
        }
      ],
      "source": [
        "mike, judy, sera = 80, 75, 100\n",
        "avg = (mike + judy + sera) / 3\n",
        "print(int(avg)) # 명시적 형변환"
      ]
    },
    {
      "cell_type": "markdown",
      "metadata": {
        "id": "uyNh3TInkS1S"
      },
      "source": [
        "### 2) boolean 자료형(True & False)\n",
        "* 논리 자료형. 숫자에서는 0만 `False`.\n",
        "* boolean의 형변환 : 값이 있으면 `True`, 없으면 `False`.\n",
        "* 비교연산 : `>`, `>=`, `<`, `<=`, `==`, `!=`. 연산 결과 `boolean`.\n",
        "* 논리연산 : `and`, `or`, `not`."
      ]
    },
    {
      "cell_type": "code",
      "execution_count": null,
      "metadata": {
        "id": "Zu2OmtXZkS1S",
        "outputId": "a6e2a74b-fcbc-444e-e6b2-cd53bf52bcc4"
      },
      "outputs": [
        {
          "name": "stdout",
          "output_type": "stream",
          "text": [
            "True\n",
            "<class 'bool'>\n",
            "False\n",
            "False\n",
            "True\n",
            "True\n",
            "False\n"
          ]
        }
      ],
      "source": [
        "# bool 자료형\n",
        "a = True\n",
        "b = False\n",
        "print(a)\n",
        "print(type(a))\n",
        "print(a and b) # and 연산\n",
        "print(a or b) # or 연산\n",
        "print(not a) # not 연산"
      ]
    },
    {
      "cell_type": "code",
      "execution_count": null,
      "metadata": {
        "id": "6ZPOIFG-kS1S",
        "outputId": "e97f5b8e-3f1e-47cd-a7b3-bb7c9a8fdb5e"
      },
      "outputs": [
        {
          "data": {
            "text/plain": [
              "85.0"
            ]
          },
          "execution_count": 17,
          "metadata": {},
          "output_type": "execute_result"
        }
      ],
      "source": [
        "255/3"
      ]
    },
    {
      "cell_type": "code",
      "execution_count": null,
      "metadata": {
        "id": "nWW3c_HZkS1S",
        "outputId": "c8949e0f-7223-4a20-9893-ab3de50f1150"
      },
      "outputs": [
        {
          "name": "stdout",
          "output_type": "stream",
          "text": [
            "True\n",
            "False\n",
            "True\n",
            "True\n"
          ]
        }
      ],
      "source": [
        "# 숫자의 bool 자료형으로의 변환\n",
        "print(bool(1))\n",
        "print(bool(0))\n",
        "print(bool(500))\n",
        "print(bool(1000.0))"
      ]
    },
    {
      "cell_type": "code",
      "execution_count": null,
      "metadata": {
        "id": "aFLDLblFkS1S",
        "outputId": "825e4560-6488-466a-c9f0-4d8f775f41d0"
      },
      "outputs": [
        {
          "name": "stdout",
          "output_type": "stream",
          "text": [
            "False\n",
            "True\n",
            "False\n",
            "True\n",
            "False\n",
            "True\n"
          ]
        }
      ],
      "source": [
        "# boolean의 형 변환\n",
        "print(bool(0)) # 값이 없다.\n",
        "print(bool(-10)) # 값이 있다.\n",
        "print(bool(\"\")) # 문자열이 없다.\n",
        "print(bool(\"hello world\")) # 문자열이 있다.\n",
        "print(bool([])) # 리스트가 비어 있다.\n",
        "print(bool([1, 2, 3])) # 리스트가 있다."
      ]
    },
    {
      "cell_type": "code",
      "execution_count": null,
      "metadata": {
        "scrolled": false,
        "id": "HPGfn2wlkS1S",
        "outputId": "f69fa445-b04a-4321-8dd7-0d0fab7e49dc"
      },
      "outputs": [
        {
          "name": "stdout",
          "output_type": "stream",
          "text": [
            "True\n",
            "False\n",
            "True\n"
          ]
        }
      ],
      "source": [
        "# 비교연산\n",
        "print(1 == 1) # 같나요?\n",
        "print(1 != 1) # 다른가요?\n",
        "print(2 > 1) # 큰가요?"
      ]
    },
    {
      "cell_type": "markdown",
      "metadata": {
        "id": "g9YHyUVGkS1T"
      },
      "source": [
        "<연습문제 3>\n",
        "\n",
        "사용자로부터 점수를 3개 입력받아 모든 점수가 65점보다 클 경우 True, 아니면 False를 출력하세요."
      ]
    },
    {
      "cell_type": "code",
      "execution_count": null,
      "metadata": {
        "id": "QIw-4eEBkS1T",
        "outputId": "fce3aa9b-cd59-4752-8f5f-577495ac661b"
      },
      "outputs": [
        {
          "name": "stdout",
          "output_type": "stream",
          "text": [
            "숫자 입력 : 77 66 88\n",
            "True\n"
          ]
        }
      ],
      "source": [
        "a, b, c = map(int, input(\"숫자 입력 : \").split())\n",
        "print(a > 65 and b > 65 and c > 65)"
      ]
    },
    {
      "cell_type": "code",
      "execution_count": null,
      "metadata": {
        "scrolled": true,
        "id": "LlCBEQjrkS1T",
        "outputId": "b86c63ba-86cb-4413-b838-09561f7b8270"
      },
      "outputs": [
        {
          "name": "stdout",
          "output_type": "stream",
          "text": [
            "점수 입력 1: 70\n",
            "점수 입력 2: 60\n",
            "점수 입력 3: 90\n"
          ]
        }
      ],
      "source": [
        "# 기본 내용으로만 해결\n",
        "a = input(\"점수 입력 1: \")\n",
        "b = input(\"점수 입력 2: \")\n",
        "c = input(\"점수 입력 3: \")"
      ]
    },
    {
      "cell_type": "code",
      "execution_count": null,
      "metadata": {
        "id": "WgoKHR6vkS1T",
        "outputId": "f27c7870-a060-4387-bb73-f28b9f55088b"
      },
      "outputs": [
        {
          "name": "stdout",
          "output_type": "stream",
          "text": [
            "False\n"
          ]
        }
      ],
      "source": [
        "print(int(a)>65 and int(b)>65 and int(c)>65)"
      ]
    },
    {
      "cell_type": "markdown",
      "metadata": {
        "id": "Vs60Vf2okS1T"
      },
      "source": [
        "#### None : 비어있는 변수\n",
        "\n",
        "타입이 없는 게 타입이다."
      ]
    },
    {
      "cell_type": "code",
      "execution_count": null,
      "metadata": {
        "id": "T118W7oSkS1U",
        "outputId": "b7074381-3ff7-4e7b-a1a6-7dc656418de9"
      },
      "outputs": [
        {
          "name": "stdout",
          "output_type": "stream",
          "text": [
            "None\n",
            "<class 'NoneType'>\n"
          ]
        }
      ],
      "source": [
        "# None 자료형\n",
        "print(None)\n",
        "print(type(None))"
      ]
    },
    {
      "cell_type": "code",
      "execution_count": null,
      "metadata": {
        "id": "RHxABNgnkS1U",
        "outputId": "404c524f-4c24-4ce6-c89b-281566699de3"
      },
      "outputs": [
        {
          "name": "stdout",
          "output_type": "stream",
          "text": [
            "False\n"
          ]
        }
      ],
      "source": [
        "# None 자료형의 bool 변환\n",
        "print(bool(None))"
      ]
    },
    {
      "cell_type": "code",
      "execution_count": null,
      "metadata": {
        "id": "CTjZWK2tkS1Z",
        "outputId": "b404cb25-ef4e-4173-bf64-27128dfd8415"
      },
      "outputs": [
        {
          "ename": "TypeError",
          "evalue": "int() argument must be a string, a bytes-like object or a number, not 'NoneType'",
          "output_type": "error",
          "traceback": [
            "\u001b[1;31m---------------------------------------------------------------------------\u001b[0m",
            "\u001b[1;31mTypeError\u001b[0m                                 Traceback (most recent call last)",
            "\u001b[1;32m<ipython-input-45-cb776f959f4f>\u001b[0m in \u001b[0;36m<module>\u001b[1;34m\u001b[0m\n\u001b[0;32m      1\u001b[0m \u001b[1;31m# None 자료형의 int 변환\u001b[0m\u001b[1;33m\u001b[0m\u001b[1;33m\u001b[0m\u001b[1;33m\u001b[0m\u001b[0m\n\u001b[1;32m----> 2\u001b[1;33m \u001b[0mprint\u001b[0m\u001b[1;33m(\u001b[0m\u001b[0mint\u001b[0m\u001b[1;33m(\u001b[0m\u001b[1;32mNone\u001b[0m\u001b[1;33m)\u001b[0m\u001b[1;33m)\u001b[0m\u001b[1;33m\u001b[0m\u001b[1;33m\u001b[0m\u001b[0m\n\u001b[0m",
            "\u001b[1;31mTypeError\u001b[0m: int() argument must be a string, a bytes-like object or a number, not 'NoneType'"
          ]
        }
      ],
      "source": [
        "# None 자료형의 int 변환 : 불가능.\n",
        "print(int(None))"
      ]
    },
    {
      "cell_type": "markdown",
      "metadata": {
        "id": "3w3euomPkS1a"
      },
      "source": [
        "### 3) 문자열 자료형(str)"
      ]
    },
    {
      "cell_type": "code",
      "execution_count": null,
      "metadata": {
        "scrolled": true,
        "id": "he-geWaNkS1a",
        "outputId": "7239c007-9649-4e30-b310-03c0eacb751e"
      },
      "outputs": [
        {
          "name": "stdout",
          "output_type": "stream",
          "text": [
            "Hello, World\n",
            "나는 생각한다.\n",
            "고로 존재한다.\n",
            "-데카르트\n"
          ]
        }
      ],
      "source": [
        "# 문자열 선언 : 큰따옴표, 작은따옴표 동일.\n",
        "quote = \"Hello, World\" # 한 줄로 선언.\n",
        "print(quote)\n",
        "introduce = \"\"\"나는 생각한다.\n",
        "고로 존재한다.\n",
        "- 데카르트\"\"\" # 여러 줄 선언 : 개행 가능.\n",
        "print(introduce)"
      ]
    },
    {
      "cell_type": "code",
      "execution_count": null,
      "metadata": {
        "id": "2G_jn3UukS1a",
        "outputId": "22c9a2d4-6c9d-41ca-9ff0-3bc9861edf08"
      },
      "outputs": [
        {
          "name": "stdout",
          "output_type": "stream",
          "text": [
            "나는 생각한다.\n",
            "고로 존재한다.\n",
            "- 데카르트\n"
          ]
        }
      ],
      "source": [
        "saying = '''나는 생각한다.\n",
        "고로 존재한다.\n",
        "- 데카르트'''\n",
        "print(saying)"
      ]
    },
    {
      "cell_type": "code",
      "execution_count": null,
      "metadata": {
        "id": "lxwhtpvQkS1b",
        "outputId": "3a7daab3-62ea-45f1-b502-5b5615bbbaca"
      },
      "outputs": [
        {
          "name": "stdout",
          "output_type": "stream",
          "text": [
            "내 이름은 '홍길동'입니다.\n",
            "너의 이름은 \"무엇\"인가요?\n"
          ]
        }
      ],
      "source": [
        "# 문자열 안에 따옴표 사용\n",
        "name = \"내 이름은 '홍길동'입니다.\"\n",
        "print(name)\n",
        "your_name = '너의 이름은 \"무엇\"인가요?'\n",
        "print(your_name)"
      ]
    },
    {
      "cell_type": "code",
      "execution_count": null,
      "metadata": {
        "id": "ZrJ0-A7WkS1b",
        "outputId": "8db600cd-29a1-4b54-947e-81559d5c91f3"
      },
      "outputs": [
        {
          "name": "stdout",
          "output_type": "stream",
          "text": [
            "사과배\n",
            "사과사과사과\n",
            "사과사과사과배배배\n",
            "사과배사과배사과배\n"
          ]
        }
      ],
      "source": [
        "# 문자열 연산\n",
        "str1 = '사과'\n",
        "str2 = '배'\n",
        "print(str1 + str2) # 문자열 덧셈 : 문자열 연결.\n",
        "print(str1*3) # 문자열 곱셈 : 문자열 반복.\n",
        "print(str1*3 + str2*3)\n",
        "print((str1 + str2)*3)"
      ]
    },
    {
      "cell_type": "markdown",
      "metadata": {
        "id": "ZMv9-EookS1b"
      },
      "source": [
        "#### 이스케이프 코드\n",
        "\n",
        "특별한 문자를 표현하기 위해 백슬래시(`\\`)와 함께 표현하는 문자.\n",
        "\n",
        "* `\\` : 다음 나오는 문자를 문자로 취급.\n",
        "* `\\n` : 개행.\n",
        "* `\\t` : 탭.\n",
        "* `\\\\` : 역슬래시."
      ]
    },
    {
      "cell_type": "code",
      "execution_count": null,
      "metadata": {
        "id": "LW9tS8ZFkS1b",
        "outputId": "b2094ec1-f5f5-4578-eb48-b64061eabe67"
      },
      "outputs": [
        {
          "name": "stdout",
          "output_type": "stream",
          "text": [
            "안녕하세요. 제 이름은 \"홍길동\"입니다.\n"
          ]
        }
      ],
      "source": [
        "myName = \"안녕하세요. 제 이름은 \\\"홍길동\\\"입니다.\"\n",
        "print(myName)"
      ]
    },
    {
      "cell_type": "code",
      "execution_count": null,
      "metadata": {
        "id": "sYCs_K0ekS1b",
        "outputId": "60b9573d-2b3a-40d4-bccf-8713b0f3e224"
      },
      "outputs": [
        {
          "name": "stdout",
          "output_type": "stream",
          "text": [
            "안녕하세요. 제 이름은 \n",
            "홍길동\n",
            "입니다.\n"
          ]
        }
      ],
      "source": [
        "myName = \"안녕하세요. 제 이름은 \\n홍길동\\n입니다.\"\n",
        "print(myName)"
      ]
    },
    {
      "cell_type": "code",
      "execution_count": null,
      "metadata": {
        "id": "Cfz0dYBzkS1c",
        "outputId": "fe7dbd20-ad95-4418-b5c9-a4b064651234"
      },
      "outputs": [
        {
          "name": "stdout",
          "output_type": "stream",
          "text": [
            "안녕하세요. 제 이름은 \t홍길동\t입니다.\n"
          ]
        }
      ],
      "source": [
        "myName = \"안녕하세요. 제 이름은 \\t홍길동\\t입니다.\"\n",
        "print(myName)"
      ]
    },
    {
      "cell_type": "code",
      "execution_count": null,
      "metadata": {
        "id": "JTfPwqFTkS1c",
        "outputId": "f1696f17-3f77-4955-ced5-3d1a86396be3"
      },
      "outputs": [
        {
          "name": "stdout",
          "output_type": "stream",
          "text": [
            "안녕하세요. 제 이름은 \\홍길동\\입니다.\n"
          ]
        }
      ],
      "source": [
        "myName = \"안녕하세요. 제 이름은 \\\\홍길동\\\\입니다.\"\n",
        "print(myName)"
      ]
    },
    {
      "cell_type": "markdown",
      "metadata": {
        "id": "0epckyZ0kS1c"
      },
      "source": [
        "#### 인덱싱 및 슬라이싱\n",
        " 문자열의 순서를 기반으로 문자열을 찾거나(인덱싱), 자름(슬라이싱). 첫 문자의 인덱스가 **0부터 시작**함에 주의한다.\n",
        "* step이 `-1`이면 마지막부터 거꾸로 1칸씩 간다. 비슷하게 `-2`라면 마지막부터 거꾸로 2칸씩 간다."
      ]
    },
    {
      "cell_type": "code",
      "execution_count": null,
      "metadata": {
        "scrolled": true,
        "id": "9tWttLwhkS1c",
        "outputId": "aef72584-e571-4d42-957a-b825a91856e0"
      },
      "outputs": [
        {
          "name": "stdout",
          "output_type": "stream",
          "text": [
            "H\n",
            "s\n",
            ".\n",
            "l\n",
            "i  o.Ia  \n"
          ]
        }
      ],
      "source": [
        "# 문자열 인덱싱\n",
        "str1 = \"He is a boy. I am a girl.\"\n",
        "\n",
        "print(str1[0]) # 첫 번째 인덱스.\n",
        "print(str1[4])\n",
        "print(str1[-1]) # 마지막.\n",
        "print(str1[-2]) # 마지막에서 두 번째.\n",
        "print(str1[3:20:2]) # 3번째부터 10번째 미만, 2개씩 건너 뛰면서."
      ]
    },
    {
      "cell_type": "code",
      "execution_count": null,
      "metadata": {
        "id": "LcARFysekS1c",
        "outputId": "57e643b1-38e5-4b83-e862-2203bfe5291a"
      },
      "outputs": [
        {
          "name": "stdout",
          "output_type": "stream",
          "text": [
            "장. \n",
            "장. \n",
            "장. 오늘 개강했습니다! 열심히 살자!\n",
            "혁신성장. \n",
            "장오개습!심살\n",
            "장오개습!심살\n",
            "혁성.오 강습다 심 자\n",
            "!자살 히심열 !다니습했강개 늘오 .장성신혁\n",
            "!살히열!니했개늘 장신\n"
          ]
        }
      ],
      "source": [
        "# 문자열 슬라이싱\n",
        "str2 = \"혁신성장. 오늘 개강했습니다! 열심히 살자!\"\n",
        "\n",
        "print(str2[3:6]) # 3번째 이상 6번째 미만.\n",
        "print(str2[3:6:1]) # 간격 default : 1.\n",
        "print(str2[3:]) # 3번째부터 마지막까지.\n",
        "print(str2[:6]) # 처음부터 6번째 미만.\n",
        "print(str2[3:-1:3]) # 3번째부터 마지막까지 3개씩 건너뛰면서.\n",
        "print(str2[3::3]) # 위와 동일.\n",
        "print(str2[::2]) # 2 간격으로 모두 다 인덱싱.\n",
        "print(str2[::-1]) # 처음부터 끝까지 거꾸로 인덱싱.\n",
        "print(str2[::-2]) # 끝에서부터 2칸씩(거꾸로) 이동하며 인덱싱."
      ]
    },
    {
      "cell_type": "markdown",
      "metadata": {
        "id": "PJJ73V7DkS1c"
      },
      "source": [
        "#### 문자열 포맷팅\n",
        "1) 서식지정자(`%`)\n",
        "   * `%s`\n",
        "        - `%(공백level)s` : 공백 추가.\n",
        "        - `%s %s` : 여러 개의 추가 문자.\n",
        "   * `%d`\n",
        "   * `%f` : 실수\n",
        "        - `%.(숫자)f` : 소수점 이하 자리수 지정.\n",
        "        \n",
        "2) format 함수 : `.format()`\n",
        "   * {0:(숫자)<(숫자))} : 공백 추가\n",
        "\n",
        "3) f-string : `f\"{변수} {변수}\"`. 3.6 버전 이상에서만 가능."
      ]
    },
    {
      "cell_type": "code",
      "execution_count": null,
      "metadata": {
        "id": "1KDOssHxkS1d",
        "outputId": "6ac2998c-6378-42fe-e120-dd9f11f4324f"
      },
      "outputs": [
        {
          "name": "stdout",
          "output_type": "stream",
          "text": [
            "%s 학부모님 안녕하세요?\n",
            "홍길동 학부모님 안녕하세요?\n",
            "<class 'int'> 12 학부모님 안녕하세요? <class 'str'>\n"
          ]
        }
      ],
      "source": [
        "# 문자열 서식지정자\n",
        "notice = \"%s 학부모님 안녕하세요?\"\n",
        "name = '홍길동'\n",
        "age = 12\n",
        "\n",
        "print(notice)\n",
        "print(notice % name) # 서식문자 자리에 변수가 할당된다.\n",
        "print(type(age), notice % age, type(notice % age)) # 서식문자 자동 형변환."
      ]
    },
    {
      "cell_type": "code",
      "execution_count": null,
      "metadata": {
        "id": "EwlF1ls6kS1d",
        "outputId": "b47347ca-0b2e-40e3-a260-c8bf99438f56"
      },
      "outputs": [
        {
          "name": "stdout",
          "output_type": "stream",
          "text": [
            "안녕하세요,        홍길동 학부모님?\n",
            "안녕하세요, 홍길동        학부모님?\n"
          ]
        }
      ],
      "source": [
        "# 문자열 서식지정자 공백 추가\n",
        "notice_with_space_left = \"안녕하세요, %10s 학부모님?\" # 공백 10, 왼쪽에 둔다. 문자 오른쪽 정렬.\n",
        "notice_with_space_right = \"안녕하세요, %-10s 학부모님?\" # 공백이 오른쪽에 들어간다. 문자 왼쪽 정렬.\n",
        "name = \"홍길동\"\n",
        "print(notice_with_space_left % name)\n",
        "print(notice_with_space_right % name)"
      ]
    },
    {
      "cell_type": "code",
      "execution_count": null,
      "metadata": {
        "id": "2fWOy9sAkS1d",
        "outputId": "20918049-c08b-4353-97dc-99710834f716"
      },
      "outputs": [
        {
          "name": "stdout",
          "output_type": "stream",
          "text": [
            "점수는 85점입니다.\n",
            "<class 'str'> 점수는 85점입니다.\n",
            "안녕하세요. 저는 30점입니다.\n",
            "안녕하세요. 저는 30.000000점입니다.\n",
            "안녕하세요. 저는 30.000점입니다.\n"
          ]
        }
      ],
      "source": [
        "# 기타 서식지정자\n",
        "score = \"점수는 %d점입니다.\"\n",
        "num = 85\n",
        "\n",
        "print(score % num)\n",
        "print(type(name), score % num) # 서식문자 내 자동 형변환\n",
        "print(\"안녕하세요. 저는 %d점입니다.\" % 30) # 정수\n",
        "print(\"안녕하세요. 저는 %f점입니다.\" % 30) # 실수 : 소수점 표시 제한 없음.\n",
        "print(\"안녕하세요. 저는 %.3f점입니다.\" % 30) # 실수 : 소수점 아래 3자리까지만 표시."
      ]
    },
    {
      "cell_type": "code",
      "execution_count": null,
      "metadata": {
        "id": "3gzBQCdlkS1d",
        "outputId": "8901603a-fe52-4f00-d502-a1c8fe7b3980"
      },
      "outputs": [
        {
          "name": "stdout",
          "output_type": "stream",
          "text": [
            "안녕하세요. 홍길동입니다.\n",
            "홍길동 학생의 점수는 80점입니다.\n"
          ]
        }
      ],
      "source": [
        "# format 함수 : 중괄호 내의 값을 대체함.\n",
        "introduce = \"안녕하세요. {}입니다.\".format(\"홍길동\")\n",
        "print(introduce)\n",
        "print(\"{} 학생의 점수는 {}점입니다.\".format(\"홍길동\", 80)) # 여러 개 포맷팅."
      ]
    },
    {
      "cell_type": "code",
      "execution_count": null,
      "metadata": {
        "id": "j_ZYBLIHkS1d",
        "outputId": "64a2f165-10d9-4fa4-d50b-aeb8cff741b2"
      },
      "outputs": [
        {
          "name": "stdout",
          "output_type": "stream",
          "text": [
            "양현종 선수의 보직은 left-hand pitcher이고, 기록은 3.0입니다.\n",
            "양현종 선수의 보직은 left-hand pitcher이고, 기록은 3.0입니다.\n"
          ]
        }
      ],
      "source": [
        "# format 함수 : 변수로 포맷팅.\n",
        "name = \"양현종\"\n",
        "job = \"left-hand pitcher\"\n",
        "era = 3.00\n",
        "print(\"{} 선수의 보직은 {}이고, 기록은 {}입니다.\".format(name, job, era))\n",
        "print(\"{name} 선수의 보직은 {job}이고, 기록은 {num}입니다.\".format(name=name, job=job, num=era)) # 변수 이름에 할당."
      ]
    },
    {
      "cell_type": "code",
      "execution_count": null,
      "metadata": {
        "id": "dXpsB-Q7kS1d",
        "outputId": "54b42328-932e-445a-8962-1d7bddcdef13"
      },
      "outputs": [
        {
          "name": "stdout",
          "output_type": "stream",
          "text": [
            "황대인 선수의 보직은 infielder입니다.\n",
            "황대인 선수의 보직은 infielder입니다.\n"
          ]
        }
      ],
      "source": [
        "# format 함수 : 순서대로 매칭.\n",
        "name = \"황대인\"\n",
        "job = \"infielder\"\n",
        "print(\"{0} 선수의 보직은 {1}입니다.\".format(name, job))\n",
        "print(\"{1} 선수의 보직은 {0}입니다.\".format(job, name)) # 순서에 주의"
      ]
    },
    {
      "cell_type": "code",
      "execution_count": null,
      "metadata": {
        "id": "zSdg6bxHkS1e",
        "outputId": "02c53cb7-7636-4e7d-f2c3-bca11a527ef4"
      },
      "outputs": [
        {
          "name": "stdout",
          "output_type": "stream",
          "text": [
            "전상현 선수의 보직은 right-hand pitcher입니다.\n"
          ]
        }
      ],
      "source": [
        "# f-string\n",
        "name = \"전상현\"\n",
        "job = \"right-hand pitcher\"\n",
        "print(f\"{name} 선수의 보직은 {job}입니다.\")"
      ]
    },
    {
      "cell_type": "markdown",
      "metadata": {
        "id": "dyBBufE7kS1e"
      },
      "source": [
        "<연습문제 4>\n",
        "\n",
        "a=\"20190505chicken19000\"는 잘못 쓰여진 변수이다. 2019는 year이라는 변수에, 0505는 day라는 변수에, chicken은 menu라는 변수에, 19000을 money라는 변수에 **인덱싱**을 사용하여 각각 저장하고, 출력하시오."
      ]
    },
    {
      "cell_type": "code",
      "execution_count": null,
      "metadata": {
        "id": "9gR06n7skS1e",
        "outputId": "92d06f38-cc46-45ae-bdab-f7ac3e339881"
      },
      "outputs": [
        {
          "name": "stdout",
          "output_type": "stream",
          "text": [
            "2019\n",
            "0505\n",
            "chicken\n",
            "19000\n"
          ]
        }
      ],
      "source": [
        "a = \"20190505chicken19000\"\n",
        "year, day, menu, money = a[:4], a[4:8], a[8:15], a[15:]\n",
        "print(year)\n",
        "print(day)\n",
        "print(menu)\n",
        "print(money)"
      ]
    },
    {
      "cell_type": "markdown",
      "metadata": {
        "id": "thhL30fokS1e"
      },
      "source": [
        "<연습문제 5>\n",
        "\n",
        "a=\"90:30:80\"이고, `:`를 기준으로 각각 수학점수, 영어점수, 과학점수이다. **문자열 인덱싱**을 이용해 각 점수를 각각 math, english, science 변수에 저장하고, average란 변수에 평균값을 저장하고 출력하시오. 이 때, 출력의 형태는 \"평균 점수는 ~~입니다.\"로 하시오."
      ]
    },
    {
      "cell_type": "code",
      "execution_count": null,
      "metadata": {
        "id": "puYbeADFkS1e",
        "outputId": "cecfaa01-809a-47e3-d2b7-909ff591c701"
      },
      "outputs": [
        {
          "name": "stdout",
          "output_type": "stream",
          "text": [
            "평균 점수는 66.666667입니다.\n",
            "평균 점수는 66입니다.\n"
          ]
        }
      ],
      "source": [
        "a = \"90:30:80\"\n",
        "math, english, science = a[:2], a[3:5], a[6:]\n",
        "# math, english, science = map(int, (a[:2], a[3:5], a[6:]))\n",
        "average = (int(math) + int(english) + int(science)) / 3\n",
        "print(\"평균 점수는 %f입니다.\" % average)\n",
        "print(\"평균 점수는 %d입니다.\" % average) # 참고 : 암묵적 형 변환."
      ]
    },
    {
      "cell_type": "code",
      "execution_count": null,
      "metadata": {
        "scrolled": false,
        "id": "dQhuHIH6kS1e",
        "outputId": "43c836de-5a01-467e-94b3-48cf885d2d3d"
      },
      "outputs": [
        {
          "name": "stdout",
          "output_type": "stream",
          "text": [
            "56\n",
            "22\n",
            "2\n",
            "  어제 KIA TIGERS 선발 투수 이민우 선수가 호투했다. 그러나 팀은 패배했다. A      \n",
            "  어제 kia tigers 선발 투수 이민우 선수가 호투했다. 그러나 팀은 패배했다. a      \n",
            "  어제 ki흑 ㅜ TIGers 선발 투수 이민우 선수가 호투했다. 그러나 팀은 패배했다. 흑 ㅜ      \n",
            "  어제 kia TIGers 선발 투수 이민우 선수가 호투했다. 하지만 팀은 패배했다. a      \n",
            "어제 kia TIGers 선발 투수 이민우 선수가 호투했다. 그러나 팀은 패배했다. a      \n",
            "  어제 kia TIGers 선발 투수 이민우 선수가 호투했다. 그러나 팀은 패배했다. a\n",
            "어제 kia TIGers 선발 투수 이민우 선수가 호투했다. 그러나 팀은 패배했다. a\n",
            "['어제', 'kia', 'TIGers', '선발', '투수', '이민우', '선수가', '호투했다.', '그러나', '팀은', '패배했다.', 'a']\n",
            "['  어제 kia TIGers ', ' 투수 이민우 선수가 호투했다. 그러나 팀은 패배했다. a      ']\n",
            "어제kiaTIGers선발투수이민우선수가호투했다.그러나팀은패배했다.a\n",
            "어제 kia TIGers 선발 투수 이민우 선수가 호투했다. 그러나 팀은 패배했다. a\n",
            "어제/kia/TIGers/선발/투수/이민우/선수가/호투했다./그러나/팀은/패배했다./a\n"
          ]
        }
      ],
      "source": [
        "# 문자열 함수\n",
        "baseball = \"  어제 kia TIGers 선발 투수 이민우 선수가 호투했다. 그러나 팀은 패배했다. a      \"\n",
        "\n",
        "print(len(baseball)) # 문자열 길이\n",
        "print(baseball.index(\"이\")) # 찾으려는 문자열의 첫 번째 위치.\n",
        "print(baseball.count(\"a\")) # 문자열 내 찾으려는 문자의 개수 반환.\n",
        "print(baseball.upper()) # 문자열 내 영문자를 대문자로 바꾼다.\n",
        "print(baseball.lower()) # 소문자.\n",
        "\n",
        "# replace\n",
        "print(baseball.replace(\"a\", \"흑 ㅜ\")) # 문자열 바꾸기\n",
        "print(baseball.replace(\"그러나\", \"하지만\"))\n",
        "\n",
        "# strip\n",
        "print(baseball.lstrip()) # 왼쪽 공백 제거\n",
        "print(baseball.rstrip()) # 오른쪽 공백 제거\n",
        "print(baseball.strip()) # 양쪽 공백 제거\n",
        "\n",
        "# split\n",
        "print(baseball.split()) # 문자열 분리 : default 공백. 리스트 반환.\n",
        "print(baseball.split(\"선발\")) # 문자열 분리 : 기준 문자.\n",
        "\n",
        "# join : 리스트 내 문자열들을 기준 문자를 넣어 합친다.\n",
        "print(\"\".join(baseball.split()))\n",
        "print(\" \".join(baseball.split()))\n",
        "print(\"/\".join(baseball.split()))"
      ]
    },
    {
      "cell_type": "markdown",
      "metadata": {
        "id": "RTjUBRU2kS1e"
      },
      "source": [
        "<연습문제 6>\n",
        "\n",
        "a=\" 90:30:80  \"이고, `:`을 기준으로 각각 수학점수, 영어점수, 과학점수이다. 문자열 함수를 이용해 공백을 제거하고, 각 점수를 math, english, science 변수에 저장한 후, average란 평균값에 저장하고 출력하시오. 이 때, 출력의 형태는 \"평균 점수는 ~~입니다.\"로 하시오."
      ]
    },
    {
      "cell_type": "code",
      "execution_count": null,
      "metadata": {
        "id": "x2dC2HdCkS1f",
        "outputId": "857c0f27-9a6e-4ff1-b843-a5c71ac0e0fe"
      },
      "outputs": [
        {
          "name": "stdout",
          "output_type": "stream",
          "text": [
            "평균 점수는 66.66666666666667입니다.\n",
            "평균 점수는 66.67입니다.\n"
          ]
        }
      ],
      "source": [
        "a=\" 90:30:80  \"\n",
        "math, english, science = a.strip().split(\":\")\n",
        "average = (int(math) + int(english) + int(science)) / 3\n",
        "# math, english, science = map(int, a.strip().split(\":\"))\n",
        "# average = (math + english +science) / 3\n",
        "print(\"평균 점수는 {}입니다.\".format(average))\n",
        "print(\"평균 점수는 %.2f입니다.\" % average) # 소수점 아래 2자리까지."
      ]
    }
  ],
  "metadata": {
    "kernelspec": {
      "display_name": "Python 3",
      "language": "python",
      "name": "python3"
    },
    "language_info": {
      "codemirror_mode": {
        "name": "ipython",
        "version": 3
      },
      "file_extension": ".py",
      "mimetype": "text/x-python",
      "name": "python",
      "nbconvert_exporter": "python",
      "pygments_lexer": "ipython3",
      "version": "3.7.7"
    },
    "colab": {
      "provenance": [],
      "include_colab_link": true
    }
  },
  "nbformat": 4,
  "nbformat_minor": 0
}