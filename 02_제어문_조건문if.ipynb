{
  "cells": [
    {
      "cell_type": "markdown",
      "metadata": {
        "id": "view-in-github",
        "colab_type": "text"
      },
      "source": [
        "<a href=\"https://colab.research.google.com/github/ancestor9/24_fall_Big-Data-Processing-coding-/blob/main/02_%EC%A0%9C%EC%96%B4%EB%AC%B8_%EC%A1%B0%EA%B1%B4%EB%AC%B8if.ipynb\" target=\"_parent\"><img src=\"https://colab.research.google.com/assets/colab-badge.svg\" alt=\"Open In Colab\"/></a>"
      ]
    },
    {
      "cell_type": "markdown",
      "metadata": {
        "id": "e7qHMsqv6Z0p"
      },
      "source": [
        "**[참고]** 들여쓰기란?\n",
        "\n",
        "\n",
        " 파이썬에서 블록을 구분하는 단위. 블록이란 하나의 '절(clause)'을 의미한다. 관용적으로 4칸(tab)을 사용하나, 2칸도 사용할 수 있다.\n",
        "\n",
        " 같은 코드 블럭 내에서는 **반드시** 들여쓰기 수준이 같아야 한다. 코드의 가독성을 위해, 들여쓰기에 주의해야 한다."
      ]
    },
    {
      "cell_type": "markdown",
      "metadata": {
        "id": "speQCaZW6Z0r"
      },
      "source": [
        "# 조건문\n",
        "\n",
        "\n",
        "## if : *만약 ~라면*  **코드를 실행하라**\n",
        "\n",
        "\n",
        "\n",
        "코드의 흐름을 분기(*진행 흐름을 나눈다*)할 때 사용한다. 조건을 만족할 때 코드를 실행한다."
      ]
    },
    {
      "cell_type": "markdown",
      "metadata": {
        "id": "fNSsj8gc6Z0s"
      },
      "source": [
        "* 작성 방법 : 콜론(`:`)으로 블록 구분.\n",
        "    - 들여쓰기 관용적으로 4칸. 2칸 가능.\n",
        "    - 같은 코드 블럭 내에서는 들여쓰기 수준이 같아야 함."
      ]
    },
    {
      "cell_type": "code",
      "execution_count": null,
      "metadata": {
        "id": "Aw7_sKo_6Z0s",
        "outputId": "ae3a4867-0bfd-47b5-d8e9-d22dbae73c79"
      },
      "outputs": [
        {
          "ename": "IndentationError",
          "evalue": "unexpected indent (<ipython-input-3-5327249e8ba7>, line 16)",
          "output_type": "error",
          "traceback": [
            "\u001b[1;36m  File \u001b[1;32m\"<ipython-input-3-5327249e8ba7>\"\u001b[1;36m, line \u001b[1;32m16\u001b[0m\n\u001b[1;33m    print(\"a는 10이라구요!\")\u001b[0m\n\u001b[1;37m    ^\u001b[0m\n\u001b[1;31mIndentationError\u001b[0m\u001b[1;31m:\u001b[0m unexpected indent\n"
          ]
        }
      ],
      "source": [
        "a = 10\n",
        "\n",
        "# 2칸 들여쓰기\n",
        "if a == 10:\n",
        "  print(\"a는 10입니다.\")\n",
        "  print(\"a는 10이라구요!\")\n",
        "\n",
        "# 4칸 들여쓰기\n",
        "if a == 10:\n",
        "    print(\"a는 10입니다.\")\n",
        "    print(\"a는 10이라구요!\")\n",
        "\n",
        "# 들여쓰기 수준이 맞지 않는 경우\n",
        "if a == 10:\n",
        "  print(\"a는 10입니다.\")\n",
        "    print(\"a는 10이라구요!\")"
      ]
    },
    {
      "cell_type": "markdown",
      "metadata": {
        "id": "nWROMmtY6Z0s"
      },
      "source": [
        "## 사용법"
      ]
    },
    {
      "cell_type": "markdown",
      "metadata": {
        "id": "wUn5Aqyt6Z0s"
      },
      "source": [
        "### 1. if ~ elif ~ else ~\n",
        "\n",
        " Boolean으로 변환했을 때, True면 실행하고, False면 실행하지 않는다."
      ]
    },
    {
      "cell_type": "markdown",
      "metadata": {
        "id": "2rfjKPa26Z0s"
      },
      "source": [
        "* if문이 `True`면 실행하고, `False`면 실행하지 않는다."
      ]
    },
    {
      "cell_type": "code",
      "execution_count": null,
      "metadata": {
        "id": "lzC1myrv6Z0t",
        "outputId": "bb4c90d1-6e14-4f6f-c354-0ad8d6de5ef5"
      },
      "outputs": [
        {
          "name": "stdout",
          "output_type": "stream",
          "text": [
            "a는 5입니다.\n"
          ]
        }
      ],
      "source": [
        "a = 5\n",
        "\n",
        "if a == 10: # False : 실행되지 않음.\n",
        "    print(\"a는 10입니다.\")\n",
        "\n",
        "if a == 5: # True : 실행됨.\n",
        "    print(\"a는 5입니다.\")"
      ]
    },
    {
      "cell_type": "code",
      "execution_count": null,
      "metadata": {
        "id": "WM8y5uPv6Z0t",
        "outputId": "bcf8d870-07fe-446a-9e6d-264c43e44462"
      },
      "outputs": [
        {
          "name": "stdout",
          "output_type": "stream",
          "text": [
            "a<100\n",
            "a=10, b=5\n",
            "a!=b\n",
            "a가 10보다 크거나 b가 양수입니다.\n"
          ]
        }
      ],
      "source": [
        "a, b = 10, 5\n",
        "\n",
        "if a < 100:\n",
        "    print(\"a<100\")\n",
        "\n",
        "if a == 10 and b == 5:\n",
        "    print(\"a=10, b=5\")\n",
        "\n",
        "if a == b: # 실행되지 않는다.\n",
        "    print(\"a=b\")\n",
        "\n",
        "if a != b:\n",
        "    print(\"a!=b\")\n",
        "\n",
        "if a > 10 or b > 0:\n",
        "    print(\"a가 10보다 크거나 b가 양수입니다.\")"
      ]
    },
    {
      "cell_type": "markdown",
      "metadata": {
        "id": "nYIZNkVU6Z0t"
      },
      "source": [
        "#### 하나의 조건에 and, or 함께 쓰일 경우\n",
        "\n",
        "괄호를 사용해 **우선순위**를 잘 명시하자."
      ]
    },
    {
      "cell_type": "code",
      "execution_count": null,
      "metadata": {
        "id": "TU0v7RjL6Z0t",
        "outputId": "5d839cb2-53a2-4203-924f-c679941ffaac"
      },
      "outputs": [
        {
          "name": "stdout",
          "output_type": "stream",
          "text": [
            "good\n"
          ]
        }
      ],
      "source": [
        "# 하나의 조건에서 and와 or가 함께 쓰일 경우\n",
        "\n",
        "a, b, c = 1, 10, 100\n",
        "\n",
        "if a==b or b!=c and a==1: # False or True and True\n",
        "# if a==b or (b!=c and a1==1)과 같은 의미.\n",
        "    print(\"good\") # and를 묶는 것 같다."
      ]
    },
    {
      "cell_type": "markdown",
      "metadata": {
        "id": "m_56i04a6Z0t"
      },
      "source": [
        "* (선택) 다른 경우를 나타냄으로써 다양한 조건을 삽입하고 싶을 때, `elif`문을 사용한다.\n",
        "* 만약 `elif`를 사용했다면, `if`문을 검토한 후, 차례로 다음의 `elif`문을 검토한다."
      ]
    },
    {
      "cell_type": "code",
      "execution_count": null,
      "metadata": {
        "id": "tkzwO_qA6Z0t",
        "outputId": "559620b8-c8dc-4aa2-8f68-733abfa48549"
      },
      "outputs": [
        {
          "name": "stdout",
          "output_type": "stream",
          "text": [
            "a는 5입니다.\n"
          ]
        }
      ],
      "source": [
        "a = 5\n",
        "if a == 10:\n",
        "    print(\"a는 10입니다.\")\n",
        "elif a == 5: # elif문 실행\n",
        "    print(\"a는 5입니다.\")"
      ]
    },
    {
      "cell_type": "markdown",
      "metadata": {
        "id": "KBRUzVn26Z0t"
      },
      "source": [
        "* (선택) 아무런 조건도 만족하지 않을 때 `else`문을 실행한다.\n",
        "* 만약 `else`를 사용했다면, `if`문을 검토한 후, (만약 있다면 `elif`문을 검토한 뒤에) `else`문을 검토한다.\n",
        "* `if`와 `elif`, `else`문의 순서가 논리 상 중요하다."
      ]
    },
    {
      "cell_type": "code",
      "execution_count": null,
      "metadata": {
        "id": "TdBfyAsa6Z0u",
        "outputId": "52f3c5af-9294-4ff4-864b-52a94bc04b3d"
      },
      "outputs": [
        {
          "name": "stdout",
          "output_type": "stream",
          "text": [
            "a는 5입니다.\n"
          ]
        }
      ],
      "source": [
        "a = 5\n",
        "if a == 10:\n",
        "    print(\"a는 10입니다.\")\n",
        "elif a == 7:\n",
        "    print(\"a는 7입니다.\")\n",
        "else: # 아무런 조건도 만족하지 않았으므로, else문 실행.\n",
        "    print(\"a는 5입니다.\")"
      ]
    },
    {
      "cell_type": "markdown",
      "metadata": {
        "id": "BIln619z6Z0u"
      },
      "source": [
        "* 조건문을 중첩할 수 있다."
      ]
    },
    {
      "cell_type": "code",
      "execution_count": null,
      "metadata": {
        "id": "a2QJKrJi6Z0u",
        "outputId": "322d315e-e802-4075-f915-210772d85e42"
      },
      "outputs": [
        {
          "name": "stdout",
          "output_type": "stream",
          "text": [
            "a는 10 이상 20 이하\n"
          ]
        }
      ],
      "source": [
        "a = 15\n",
        "if a >= 10:\n",
        "    if a <= 20: # 실행된다.\n",
        "        print(\"a는 10 이상 20 이하\")\n",
        "    else:\n",
        "        print(\"a는 20 초과\")"
      ]
    },
    {
      "cell_type": "code",
      "execution_count": null,
      "metadata": {
        "id": "ucc3tiXT6Z0u",
        "outputId": "a8a354d7-85f2-4104-86f1-5239b058f196"
      },
      "outputs": [
        {
          "name": "stdout",
          "output_type": "stream",
          "text": [
            "b는 30 초과\n"
          ]
        }
      ],
      "source": [
        "b = 40\n",
        "if b >= 10:\n",
        "    if b <= 20:\n",
        "        print(\"b는 10 이상 20 이하\")\n",
        "    elif b > 30: # 실행된다.\n",
        "        print(\"b는 30 초과\")"
      ]
    },
    {
      "cell_type": "markdown",
      "metadata": {
        "id": "VeVcCi-56Z0u"
      },
      "source": [
        "<연습문제 1>\n",
        "\n",
        " 사용자로부터 점수를 3개 입력 받아, 모든 점수가 65점보다 클 경우 합격, 아닐 겨우 불합격을 출력하세요.\n",
        "\n",
        " 단, 0~100이 아닌 다른 숫자가 입력된 경우, \"잘못된 점수가 입력되었습니다.\"를 출력하세요."
      ]
    },
    {
      "cell_type": "markdown",
      "metadata": {
        "id": "WMYfTpCY6Z0u"
      },
      "source": [
        "* 가장 범위가 작은 조건부터 if문을 사용한다.\n",
        "* `단` 이후가 더 강한 제약이므로, 먼저 체크한다."
      ]
    },
    {
      "cell_type": "code",
      "execution_count": null,
      "metadata": {
        "id": "6FlFhZL16Z0u",
        "outputId": "48d0b853-0828-433f-8126-18f05618386d"
      },
      "outputs": [
        {
          "name": "stdout",
          "output_type": "stream",
          "text": [
            "점수 입력: 30000000 90 35\n",
            "잘못된 점수가 입력되었습니다.\n"
          ]
        }
      ],
      "source": [
        "a, b, c = map(int, input(\"점수 입력: \").split())\n",
        "\n",
        "if (a not in range(101)) or (b not in range(101)) or (c not in range(101)):\n",
        "    print(\"잘못된 점수가 입력되었습니다.\")\n",
        "else:\n",
        "    if a>65 and b>65 and c>65:\n",
        "        print(\"합격\")\n",
        "    else:\n",
        "        print(\"불합격\")"
      ]
    },
    {
      "cell_type": "code",
      "execution_count": null,
      "metadata": {
        "id": "nTz76ItR6Z0u",
        "outputId": "ee7f961d-a082-4a32-d540-370cef5f709e"
      },
      "outputs": [
        {
          "name": "stdout",
          "output_type": "stream",
          "text": [
            "점수 입력: 300000 90 50\n",
            "잘못된 점수가 입력되었습니다.\n"
          ]
        }
      ],
      "source": [
        "a, b, c = map(int, input(\"점수 입력: \").split())\n",
        "\n",
        "if (a in range(101)) and (b in range(101)) and (c in range(101)):\n",
        "    if a>65 and b>65 and c>65:\n",
        "        print(\"합격\")\n",
        "    else:\n",
        "        print(\"불합격\")\n",
        "else:\n",
        "    print(\"잘못된 점수가 입력되었습니다.\")"
      ]
    },
    {
      "cell_type": "markdown",
      "metadata": {
        "id": "GRAbr-En6Z0v"
      },
      "source": [
        "<연습문제 2>\n",
        "\n",
        "홀수, 짝수 판별기를 작성하여라."
      ]
    },
    {
      "cell_type": "code",
      "execution_count": null,
      "metadata": {
        "id": "gUGYfA-w6Z0v",
        "outputId": "10e69720-e4db-4b59-94b7-826a96d4a2fb"
      },
      "outputs": [
        {
          "name": "stdout",
          "output_type": "stream",
          "text": [
            "정수를 입력해 주세요: 43\n",
            "입력하신 43는 홀수입니다.\n"
          ]
        }
      ],
      "source": [
        "a = int(input(\"정수를 입력해 주세요: \"))\n",
        "\n",
        "if not a % 2: # 나머지가 1이면 boolean값 변환했을 때 False이다.\n",
        "    print(f\"입력하신 {a}는 짝수입니다.\")\n",
        "else:\n",
        "    print(f\"입력하신 {a}는 홀수입니다.\")\n",
        "\n",
        "# if a % 2 == 0:\n",
        "#     print(f\"입력하신 {a}는 짝수입니다.\")\n",
        "# else:\n",
        "#     print(f\"입력하신 {a}는 홀수입니다.\")"
      ]
    },
    {
      "cell_type": "code",
      "execution_count": null,
      "metadata": {
        "id": "ONLEeWOz6Z0v"
      },
      "outputs": [],
      "source": []
    },
    {
      "cell_type": "markdown",
      "metadata": {
        "id": "grzh7PPt6Z0v"
      },
      "source": [
        "### 2. pass\n",
        "\n",
        " pass문은 아무 것도 하지 않는다.\n",
        "\n",
        " 문법적으로 문장이 필요하지만, 프로그램에서 특별히 할 일이 없을 때 사용할 수 있다.\n",
        "\n",
        "---\n",
        "**일반적으로 프로그래밍 설계단에서 추상적으로 논리구조를 구축할 때 사용한다.**"
      ]
    },
    {
      "cell_type": "code",
      "execution_count": null,
      "metadata": {
        "id": "jiSFa90r6Z0v",
        "outputId": "db896978-eefd-4f10-961a-9ba06eb9c0a7"
      },
      "outputs": [
        {
          "name": "stdout",
          "output_type": "stream",
          "text": [
            "패스워드 입력: \n",
            "반드시 패스워드를 입력해야 합니다.\n"
          ]
        }
      ],
      "source": [
        "# 사용 예시 : 해쉬 알고리즘.\n",
        "\n",
        "password = input(\"패스워드 입력: \")\n",
        "\n",
        "if password: # 패스워드 입력되면 해쉬 알고리즘에 의해 처리.\n",
        "    # password = hash_algorithm(암호화 과정) : 아직 정의 X.\n",
        "    pass\n",
        "else:\n",
        "    print(\"반드시 패스워드를 입력해야 합니다.\")"
      ]
    },
    {
      "cell_type": "code",
      "execution_count": null,
      "metadata": {
        "id": "DUM3xUFR6Z0v"
      },
      "outputs": [],
      "source": []
    },
    {
      "cell_type": "code",
      "execution_count": null,
      "metadata": {
        "id": "2ISXMyto6Z0v"
      },
      "outputs": [],
      "source": []
    }
  ],
  "metadata": {
    "kernelspec": {
      "display_name": "Python 3",
      "language": "python",
      "name": "python3"
    },
    "language_info": {
      "codemirror_mode": {
        "name": "ipython",
        "version": 3
      },
      "file_extension": ".py",
      "mimetype": "text/x-python",
      "name": "python",
      "nbconvert_exporter": "python",
      "pygments_lexer": "ipython3",
      "version": "3.7.7"
    },
    "colab": {
      "provenance": [],
      "include_colab_link": true
    }
  },
  "nbformat": 4,
  "nbformat_minor": 0
}