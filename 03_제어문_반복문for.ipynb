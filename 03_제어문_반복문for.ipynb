{
  "nbformat": 4,
  "nbformat_minor": 0,
  "metadata": {
    "kernelspec": {
      "display_name": "Python 3",
      "language": "python",
      "name": "python3"
    },
    "language_info": {
      "codemirror_mode": {
        "name": "ipython",
        "version": 3
      },
      "file_extension": ".py",
      "mimetype": "text/x-python",
      "name": "python",
      "nbconvert_exporter": "python",
      "pygments_lexer": "ipython3",
      "version": "3.7.7"
    },
    "colab": {
      "provenance": [],
      "include_colab_link": true
    }
  },
  "cells": [
    {
      "cell_type": "markdown",
      "metadata": {
        "id": "view-in-github",
        "colab_type": "text"
      },
      "source": [
        "<a href=\"https://colab.research.google.com/github/ancestor9/24_fall_Big-Data-Processing-coding-/blob/main/03_%EC%A0%9C%EC%96%B4%EB%AC%B8_%EB%B0%98%EB%B3%B5%EB%AC%B8for.ipynb\" target=\"_parent\"><img src=\"https://colab.research.google.com/assets/colab-badge.svg\" alt=\"Open In Colab\"/></a>"
      ]
    },
    {
      "cell_type": "markdown",
      "metadata": {
        "id": "ys43LokQ5Y9C"
      },
      "source": [
        "# 반복문\n",
        "\n",
        "\n",
        "## for : *지정된 범위만큼*  **코드를 실행하라**\n",
        "\n",
        "\n",
        " 반복 횟수가 정해져 있을 때, 코드를 반복하기 위해 사용한다."
      ]
    },
    {
      "cell_type": "markdown",
      "metadata": {
        "id": "gVEEKwfX5Y9D"
      },
      "source": [
        "* 반복문이 1회 실행될 때마다, 지정된 변수에 반복 가능한 객체의 요소를 할당한다.\n",
        "* 이 경우, 반복 가능한 객체의 길이만큼 반복문이 실행된다."
      ]
    },
    {
      "cell_type": "code",
      "metadata": {
        "id": "9vXhrSk-5Y9E",
        "outputId": "8f84b243-0560-4905-ff0b-c062de1f53b1"
      },
      "source": [
        "# 리스트 내 요소\n",
        "l1 = ['a', 'b', 'c', 'd']\n",
        "\n",
        "for i in l1:\n",
        "    print(i)"
      ],
      "execution_count": null,
      "outputs": [
        {
          "output_type": "stream",
          "text": [
            "a\n",
            "b\n",
            "c\n",
            "d\n"
          ],
          "name": "stdout"
        }
      ]
    },
    {
      "cell_type": "markdown",
      "metadata": {
        "id": "Oea6OX0C5Y9J"
      },
      "source": [
        "<연습문제 1>\n",
        "\n",
        "1. `for문`을 사용해서 1부터 100까지 숫자를 더하고 이를 출력하시오.\n",
        "2. `for문`과 `if문`을 사용해서 1부터 100까지의 짝수의 합을 출력하시오."
      ]
    },
    {
      "cell_type": "code",
      "metadata": {
        "id": "lqge37Ry5Y9K",
        "outputId": "870548df-7968-4d32-e63c-f627faf4627a"
      },
      "source": [
        "# 1번\n",
        "\n",
        "s = 0\n",
        "for n in range(1, 101):\n",
        "    s += n\n",
        "print(s)"
      ],
      "execution_count": null,
      "outputs": [
        {
          "output_type": "stream",
          "text": [
            "5050\n"
          ],
          "name": "stdout"
        }
      ]
    },
    {
      "cell_type": "code",
      "metadata": {
        "id": "bPmmu3p95Y9P",
        "outputId": "66298719-32f8-474f-fb5c-94079aa8a6e4"
      },
      "source": [
        "# 2번\n",
        "\n",
        "s_even = 0\n",
        "\n",
        "# if문 사용\n",
        "for n in range(1, 101):\n",
        "    if not n % 2:\n",
        "        s_even += n\n",
        "print(s_even)"
      ],
      "execution_count": null,
      "outputs": [
        {
          "output_type": "stream",
          "text": [
            "2550\n"
          ],
          "name": "stdout"
        }
      ]
    },
    {
      "cell_type": "code",
      "metadata": {
        "id": "x4ihaglK5Y9S",
        "outputId": "24068b25-b7d9-4e42-9ec7-84b1a528ee1f"
      },
      "source": [
        "s_even = 0\n",
        "\n",
        "# if문 없이 사용\n",
        "for n in range(2, 101, 2):\n",
        "    s_even += n\n",
        "print(s_even)"
      ],
      "execution_count": null,
      "outputs": [
        {
          "output_type": "stream",
          "text": [
            "2550\n"
          ],
          "name": "stdout"
        }
      ]
    },
    {
      "cell_type": "markdown",
      "metadata": {
        "id": "jO9qZTi15Y9X"
      },
      "source": [
        "**[참고]** 이터레이터?\n",
        "\n",
        " 반복 가능한 객체. `dir`을 통해 확인할 때, **이터레이터는 `__iter__()` 메소드를 가진다**. 반복해야 할 때, 이터레이터의 `__iter__()` 메소드가 호출된다.\n",
        "\n",
        ""
      ]
    },
    {
      "cell_type": "code",
      "metadata": {
        "id": "IM7JYI6E5Y9X",
        "outputId": "e1d7ad77-29e6-4c78-a4c2-fd3e5b462797"
      },
      "source": [
        "# 이터레이터 예시 : 리스트\n",
        "myList = [1, 2, 3, 4, 5]\n",
        "dir(myList)"
      ],
      "execution_count": null,
      "outputs": [
        {
          "output_type": "execute_result",
          "data": {
            "text/plain": [
              "['__add__',\n",
              " '__class__',\n",
              " '__contains__',\n",
              " '__delattr__',\n",
              " '__delitem__',\n",
              " '__dir__',\n",
              " '__doc__',\n",
              " '__eq__',\n",
              " '__format__',\n",
              " '__ge__',\n",
              " '__getattribute__',\n",
              " '__getitem__',\n",
              " '__gt__',\n",
              " '__hash__',\n",
              " '__iadd__',\n",
              " '__imul__',\n",
              " '__init__',\n",
              " '__init_subclass__',\n",
              " '__iter__',\n",
              " '__le__',\n",
              " '__len__',\n",
              " '__lt__',\n",
              " '__mul__',\n",
              " '__ne__',\n",
              " '__new__',\n",
              " '__reduce__',\n",
              " '__reduce_ex__',\n",
              " '__repr__',\n",
              " '__reversed__',\n",
              " '__rmul__',\n",
              " '__setattr__',\n",
              " '__setitem__',\n",
              " '__sizeof__',\n",
              " '__str__',\n",
              " '__subclasshook__',\n",
              " 'append',\n",
              " 'clear',\n",
              " 'copy',\n",
              " 'count',\n",
              " 'extend',\n",
              " 'index',\n",
              " 'insert',\n",
              " 'pop',\n",
              " 'remove',\n",
              " 'reverse',\n",
              " 'sort']"
            ]
          },
          "metadata": {
            "tags": []
          },
          "execution_count": 56
        }
      ]
    },
    {
      "cell_type": "code",
      "metadata": {
        "scrolled": false,
        "id": "009NJy355Y9c",
        "outputId": "942a6cd0-8723-4a95-d20b-33d5653d4086"
      },
      "source": [
        "# 이터레이터가 아닌 예 : 정수\n",
        "num = 3\n",
        "dir(num)"
      ],
      "execution_count": null,
      "outputs": [
        {
          "output_type": "execute_result",
          "data": {
            "text/plain": [
              "['__abs__',\n",
              " '__add__',\n",
              " '__and__',\n",
              " '__bool__',\n",
              " '__ceil__',\n",
              " '__class__',\n",
              " '__delattr__',\n",
              " '__dir__',\n",
              " '__divmod__',\n",
              " '__doc__',\n",
              " '__eq__',\n",
              " '__float__',\n",
              " '__floor__',\n",
              " '__floordiv__',\n",
              " '__format__',\n",
              " '__ge__',\n",
              " '__getattribute__',\n",
              " '__getnewargs__',\n",
              " '__gt__',\n",
              " '__hash__',\n",
              " '__index__',\n",
              " '__init__',\n",
              " '__init_subclass__',\n",
              " '__int__',\n",
              " '__invert__',\n",
              " '__le__',\n",
              " '__lshift__',\n",
              " '__lt__',\n",
              " '__mod__',\n",
              " '__mul__',\n",
              " '__ne__',\n",
              " '__neg__',\n",
              " '__new__',\n",
              " '__or__',\n",
              " '__pos__',\n",
              " '__pow__',\n",
              " '__radd__',\n",
              " '__rand__',\n",
              " '__rdivmod__',\n",
              " '__reduce__',\n",
              " '__reduce_ex__',\n",
              " '__repr__',\n",
              " '__rfloordiv__',\n",
              " '__rlshift__',\n",
              " '__rmod__',\n",
              " '__rmul__',\n",
              " '__ror__',\n",
              " '__round__',\n",
              " '__rpow__',\n",
              " '__rrshift__',\n",
              " '__rshift__',\n",
              " '__rsub__',\n",
              " '__rtruediv__',\n",
              " '__rxor__',\n",
              " '__setattr__',\n",
              " '__sizeof__',\n",
              " '__str__',\n",
              " '__sub__',\n",
              " '__subclasshook__',\n",
              " '__truediv__',\n",
              " '__trunc__',\n",
              " '__xor__',\n",
              " 'bit_length',\n",
              " 'conjugate',\n",
              " 'denominator',\n",
              " 'from_bytes',\n",
              " 'imag',\n",
              " 'numerator',\n",
              " 'real',\n",
              " 'to_bytes']"
            ]
          },
          "metadata": {
            "tags": []
          },
          "execution_count": 57
        }
      ]
    },
    {
      "cell_type": "markdown",
      "metadata": {
        "id": "cESw7wx35Y9f"
      },
      "source": [
        "<연습문제 1>\n",
        "\n",
        "1. 사용자로부터 정수를 입력받아, 해당 정수만큼 \"안녕\"을 출력하세요.\n",
        "2. 사용자로부터 정수를 입력받아, 입력된 정수 만큼 별을 출력하세요."
      ]
    },
    {
      "cell_type": "code",
      "metadata": {
        "id": "OjDELshT5Y9g",
        "outputId": "0cd28ae9-513b-43e9-e93d-c0cffd2038c8"
      },
      "source": [
        "print('안녕\\n'*int(input()), end=\"\")"
      ],
      "execution_count": null,
      "outputs": [
        {
          "output_type": "stream",
          "text": [
            "5\n",
            "안녕\n",
            "안녕\n",
            "안녕\n",
            "안녕\n",
            "안녕\n"
          ],
          "name": "stdout"
        }
      ]
    },
    {
      "cell_type": "code",
      "metadata": {
        "id": "4L0kO9Jt5Y9j",
        "outputId": "3d74af16-7705-4d9d-9831-01958ab5514f"
      },
      "source": [
        "for i in range(int(input())):\n",
        "    print(\"*\"*(i+1))"
      ],
      "execution_count": null,
      "outputs": [
        {
          "output_type": "stream",
          "text": [
            "9\n",
            "*\n",
            "**\n",
            "***\n",
            "****\n",
            "*****\n",
            "******\n",
            "*******\n",
            "********\n",
            "*********\n"
          ],
          "name": "stdout"
        }
      ]
    },
    {
      "cell_type": "code",
      "metadata": {
        "scrolled": true,
        "id": "XMY4q1Ob5Y9l",
        "outputId": "6164c653-e638-4d1d-fada-90270aa1b33b"
      },
      "source": [
        "# 참고\n",
        "print(\"*\"*(i+1) for i in range(int(input()))"
      ],
      "execution_count": null,
      "outputs": [
        {
          "output_type": "stream",
          "text": [
            "22\n",
            "<generator object <genexpr> at 0x0000012875EC7EC8>\n"
          ],
          "name": "stdout"
        }
      ]
    },
    {
      "cell_type": "markdown",
      "metadata": {
        "id": "K-lk31pK5Y9o"
      },
      "source": [
        "### enumerate\n",
        "\n",
        " 반복문 사용하여 반복 가능한 객체 내 인덱스와 값에 접근한다. 튜플이 반환되는데, 튜플의 첫 번째 요소가 인덱스, 두 번째 요소가 해당 요소의 값이다."
      ]
    },
    {
      "cell_type": "code",
      "metadata": {
        "scrolled": false,
        "id": "JZKikgFW5Y9p",
        "outputId": "0a164499-c359-4f64-fe3f-2a9ca3ce102b"
      },
      "source": [
        "# enumerate 사용\n",
        "\n",
        "tigers = ['최원준', '김선빈', '황대인', '나주환', '전상현', '양현종', '나지완', '박찬호', '한승택']\n",
        "for j in enumerate(tigers): # 튜플이 반환된다.\n",
        "    print(j)"
      ],
      "execution_count": null,
      "outputs": [
        {
          "output_type": "stream",
          "text": [
            "(0, '최원준')\n",
            "(1, '김선빈')\n",
            "(2, '황대인')\n",
            "(3, '나주환')\n",
            "(4, '전상현')\n",
            "(5, '양현종')\n",
            "(6, '나지완')\n",
            "(7, '박찬호')\n",
            "(8, '한승택')\n"
          ],
          "name": "stdout"
        }
      ]
    },
    {
      "cell_type": "markdown",
      "metadata": {
        "id": "KWyT-pMU5Y9r"
      },
      "source": [
        "### unpack\n",
        "\n",
        " 요소 개수를 맞춰주어야 한다."
      ]
    },
    {
      "cell_type": "code",
      "metadata": {
        "id": "vnnTeH945Y9s",
        "outputId": "659d3dc8-1500-425c-e2d3-50b0b77f4eda"
      },
      "source": [
        "# 다차원 리스트 unpack\n",
        "myList = [[1,2,3], [4,5,6], [7,8,9]]\n",
        "\n",
        "for i, j, k in myList:\n",
        "    print(i, j, k)"
      ],
      "execution_count": null,
      "outputs": [
        {
          "output_type": "stream",
          "text": [
            "1 2 3\n",
            "4 5 6\n",
            "7 8 9\n"
          ],
          "name": "stdout"
        }
      ]
    },
    {
      "cell_type": "code",
      "metadata": {
        "id": "n6_OOpN85Y9v",
        "outputId": "66f1034e-1e37-4773-f82c-7bc62050fb83"
      },
      "source": [
        "# 위의 경우에 unpack하면?\n",
        "for i, j, k in tigers:\n",
        "    print(i, j, k)\n",
        "\n",
        "for i, j in tigers: # 개수 안 맞니까 오류 난다.\n",
        "    print(i, j)"
      ],
      "execution_count": null,
      "outputs": [
        {
          "output_type": "stream",
          "text": [
            "최 원 준\n",
            "김 선 빈\n",
            "황 대 인\n",
            "나 주 환\n",
            "전 상 현\n",
            "양 현 종\n",
            "나 지 완\n",
            "박 찬 호\n",
            "한 승 택\n"
          ],
          "name": "stdout"
        },
        {
          "output_type": "error",
          "ename": "ValueError",
          "evalue": "too many values to unpack (expected 2)",
          "traceback": [
            "\u001b[1;31m---------------------------------------------------------------------------\u001b[0m",
            "\u001b[1;31mValueError\u001b[0m                                Traceback (most recent call last)",
            "\u001b[1;32m<ipython-input-31-79aea0f2a01f>\u001b[0m in \u001b[0;36m<module>\u001b[1;34m\u001b[0m\n\u001b[0;32m      3\u001b[0m     \u001b[0mprint\u001b[0m\u001b[1;33m(\u001b[0m\u001b[0mi\u001b[0m\u001b[1;33m,\u001b[0m \u001b[0mj\u001b[0m\u001b[1;33m,\u001b[0m \u001b[0mk\u001b[0m\u001b[1;33m)\u001b[0m\u001b[1;33m\u001b[0m\u001b[1;33m\u001b[0m\u001b[0m\n\u001b[0;32m      4\u001b[0m \u001b[1;33m\u001b[0m\u001b[0m\n\u001b[1;32m----> 5\u001b[1;33m \u001b[1;32mfor\u001b[0m \u001b[0mi\u001b[0m\u001b[1;33m,\u001b[0m \u001b[0mj\u001b[0m \u001b[1;32min\u001b[0m \u001b[0mtigers\u001b[0m\u001b[1;33m:\u001b[0m \u001b[1;31m# 개수 안 맞니까 오류 난다.\u001b[0m\u001b[1;33m\u001b[0m\u001b[1;33m\u001b[0m\u001b[0m\n\u001b[0m\u001b[0;32m      6\u001b[0m     \u001b[0mprint\u001b[0m\u001b[1;33m(\u001b[0m\u001b[0mi\u001b[0m\u001b[1;33m,\u001b[0m \u001b[0mj\u001b[0m\u001b[1;33m)\u001b[0m\u001b[1;33m\u001b[0m\u001b[1;33m\u001b[0m\u001b[0m\n",
            "\u001b[1;31mValueError\u001b[0m: too many values to unpack (expected 2)"
          ]
        }
      ]
    },
    {
      "cell_type": "markdown",
      "metadata": {
        "id": "o9ORpLQ55Y9x"
      },
      "source": [
        "### for문의 중첩\n",
        "\n",
        " 내부 루프는 밖의 루프가 끝날 때마다 초기화된다. 마찬가지로, 안쪽 루프가 끝나야 바깥쪽 루프가 진행한다."
      ]
    },
    {
      "cell_type": "code",
      "metadata": {
        "scrolled": true,
        "id": "0T4UfeXP5Y9y",
        "outputId": "358e33bb-4018-4bc3-fe77-19043630766c"
      },
      "source": [
        "for i in range(5):\n",
        "    print(f\"================{i}번째 i루프=================\")\n",
        "    for j in range(8):\n",
        "        print(f\"{j}번째 j루프\")"
      ],
      "execution_count": null,
      "outputs": [
        {
          "output_type": "stream",
          "text": [
            "================0번째 i루프=================\n",
            "0번째 j루프\n",
            "1번째 j루프\n",
            "2번째 j루프\n",
            "3번째 j루프\n",
            "4번째 j루프\n",
            "5번째 j루프\n",
            "6번째 j루프\n",
            "7번째 j루프\n",
            "================1번째 i루프=================\n",
            "0번째 j루프\n",
            "1번째 j루프\n",
            "2번째 j루프\n",
            "3번째 j루프\n",
            "4번째 j루프\n",
            "5번째 j루프\n",
            "6번째 j루프\n",
            "7번째 j루프\n",
            "================2번째 i루프=================\n",
            "0번째 j루프\n",
            "1번째 j루프\n",
            "2번째 j루프\n",
            "3번째 j루프\n",
            "4번째 j루프\n",
            "5번째 j루프\n",
            "6번째 j루프\n",
            "7번째 j루프\n",
            "================3번째 i루프=================\n",
            "0번째 j루프\n",
            "1번째 j루프\n",
            "2번째 j루프\n",
            "3번째 j루프\n",
            "4번째 j루프\n",
            "5번째 j루프\n",
            "6번째 j루프\n",
            "7번째 j루프\n",
            "================4번째 i루프=================\n",
            "0번째 j루프\n",
            "1번째 j루프\n",
            "2번째 j루프\n",
            "3번째 j루프\n",
            "4번째 j루프\n",
            "5번째 j루프\n",
            "6번째 j루프\n",
            "7번째 j루프\n"
          ],
          "name": "stdout"
        }
      ]
    },
    {
      "cell_type": "markdown",
      "metadata": {
        "id": "Jh0AH6s35Y90"
      },
      "source": [
        "<연습문제 2>\n",
        "\n",
        "1. x = [3, 6, 9, 20, -7, 5] 의 값의 모든 요소에 10을 곱한뒤 출력하세요.\n",
        "    - 심화 : 출력과 리스트 x 의 값에도 모두 10을 곱해주세요.\n",
        "2. y = {“math”: 70, “science”: 80, “english”: 20} 의 값의 모든 요소에 10을 더한뒤 출력하세요.\n",
        "    - 심화 : 출력과 딕셔너리 y 의 값에도 모두 10을 더해주세요.\n",
        "3. 숫자를 입력받고 입력받은 정수의 구구단을 출력하세요."
      ]
    },
    {
      "cell_type": "code",
      "metadata": {
        "id": "505wUhEe5Y90",
        "outputId": "e8d1868d-dffd-4b7d-b268-a2affd04a622"
      },
      "source": [
        "# 1번\n",
        "x = [3, 6, 9, 20, -7, 5]\n",
        "\n",
        "for i in range(len(x)):\n",
        "    print(x[i])\n",
        "    x[i] *= 10\n",
        "\n",
        "print(x)"
      ],
      "execution_count": null,
      "outputs": [
        {
          "output_type": "stream",
          "text": [
            "3\n",
            "6\n",
            "9\n",
            "20\n",
            "-7\n",
            "5\n",
            "[30, 60, 90, 200, -70, 50]\n"
          ],
          "name": "stdout"
        }
      ]
    },
    {
      "cell_type": "code",
      "metadata": {
        "scrolled": false,
        "id": "ex4H15Ll5Y95",
        "outputId": "855c6918-c751-4730-a0e0-ec651fe25ab4"
      },
      "source": [
        "# 2번\n",
        "y = {'math': 70, 'science': 80, 'english': 20}\n",
        "\n",
        "for k in y.keys():\n",
        "    print(y[k])\n",
        "    y[k] += 10\n",
        "\n",
        "print(y)"
      ],
      "execution_count": null,
      "outputs": [
        {
          "output_type": "stream",
          "text": [
            "70\n",
            "80\n",
            "20\n",
            "{'math': 80, 'science': 90, 'english': 30}\n"
          ],
          "name": "stdout"
        }
      ]
    },
    {
      "cell_type": "markdown",
      "metadata": {
        "id": "0AHKRe135Y97"
      },
      "source": [
        "딕셔너리에서는 **키**의 값이 반복된다!"
      ]
    },
    {
      "cell_type": "code",
      "metadata": {
        "id": "7x8_yKan5Y97",
        "outputId": "16aa10a0-ddb2-49fd-aeba-ff877ae7287e"
      },
      "source": [
        "# 딕셔너리의 반복\n",
        "\n",
        "for k in y:\n",
        "    print(k)"
      ],
      "execution_count": null,
      "outputs": [
        {
          "output_type": "stream",
          "text": [
            "math\n",
            "science\n",
            "english\n"
          ],
          "name": "stdout"
        }
      ]
    },
    {
      "cell_type": "code",
      "metadata": {
        "scrolled": false,
        "id": "o6uwjVa05Y9-",
        "outputId": "08aef361-d060-4e88-ba06-8b39359f13ae"
      },
      "source": [
        "# 3번\n",
        "n = int(input())\n",
        "print(f\"{n}단\")\n",
        "\n",
        "for i in range(1, n+1):\n",
        "    print(f\"{n} X {i} = {n*i}\")"
      ],
      "execution_count": null,
      "outputs": [
        {
          "output_type": "stream",
          "text": [
            "19\n",
            "19단\n",
            "19 X 1 = 19\n",
            "19 X 2 = 38\n",
            "19 X 3 = 57\n",
            "19 X 4 = 76\n",
            "19 X 5 = 95\n",
            "19 X 6 = 114\n",
            "19 X 7 = 133\n",
            "19 X 8 = 152\n",
            "19 X 9 = 171\n",
            "19 X 10 = 190\n",
            "19 X 11 = 209\n",
            "19 X 12 = 228\n",
            "19 X 13 = 247\n",
            "19 X 14 = 266\n",
            "19 X 15 = 285\n",
            "19 X 16 = 304\n",
            "19 X 17 = 323\n",
            "19 X 18 = 342\n",
            "19 X 19 = 361\n"
          ],
          "name": "stdout"
        }
      ]
    },
    {
      "cell_type": "markdown",
      "metadata": {
        "id": "r62mbMLx5Y-A"
      },
      "source": [
        "<연습문제 3>\n",
        "\n",
        "1. word = [“school”, “game”, “piano”, “science”, “hotel”, “mountian”] 중 글자수가 6글자 이상인 문자를 모아 새로운 리스트를 생성하세요\n",
        "\n",
        "2. 구구단을 1단부터 9단까지 출력하세요"
      ]
    },
    {
      "cell_type": "code",
      "metadata": {
        "id": "oeBVdTD_5Y-A",
        "outputId": "03474bde-cff6-4cbb-88b8-5f50e8ca3d10"
      },
      "source": [
        "# 1번\n",
        "word = ['school', 'game', 'piano', 'science', 'hotel', 'mountain']\n",
        "print([w for w in word if len(w) >= 6])"
      ],
      "execution_count": null,
      "outputs": [
        {
          "output_type": "stream",
          "text": [
            "['school', 'science', 'mountain']\n"
          ],
          "name": "stdout"
        }
      ]
    },
    {
      "cell_type": "markdown",
      "metadata": {
        "id": "uZgoaIyc5Y-D"
      },
      "source": [
        "**질문**\n",
        "\n",
        "`remove` 사용하니까 piano가 들어 있다."
      ]
    },
    {
      "cell_type": "code",
      "metadata": {
        "id": "EzZ4EgCQ5Y-D",
        "outputId": "6eaf48ce-058e-461c-ddcf-02cf9ea20d6e"
      },
      "source": [
        "# remove 사용할 때의 문제\n",
        "for i in word:\n",
        "    if len(i) < 6:\n",
        "        word.remove(i)\n",
        "print(word)"
      ],
      "execution_count": null,
      "outputs": [
        {
          "output_type": "stream",
          "text": [
            "['school', 'piano', 'science', 'mountain']\n"
          ],
          "name": "stdout"
        }
      ]
    },
    {
      "cell_type": "code",
      "metadata": {
        "id": "iTvKawJK5Y-G",
        "outputId": "3c160c59-ea13-41d2-aa2d-cd29c91eac54"
      },
      "source": [
        "# 반복을 도는 기준이 바뀌어 버린다.\n",
        "# 디버깅\n",
        "word = ['school', 'game', 'piano', 'science', 'hotel', 'mountain']\n",
        "for i in word:\n",
        "    print(word)\n",
        "    print(f\"{i}를 체크합니다. 현재 인덱스 : {word.index(i)}\")\n",
        "    if len(i) < 6:\n",
        "        print(f\"{i}를 제거합니다.\")\n",
        "        word.remove(i)\n",
        "\n",
        "print(f\"최종 결과: {word}\")\n",
        "# school, game 체크 후 piano 체크해야 하는데 바로 science로 넘어감."
      ],
      "execution_count": null,
      "outputs": [
        {
          "output_type": "stream",
          "text": [
            "['school', 'game', 'piano', 'science', 'hotel', 'mountain']\n",
            "school를 체크합니다. 현재 인덱스 : 0\n",
            "['school', 'game', 'piano', 'science', 'hotel', 'mountain']\n",
            "game를 체크합니다. 현재 인덱스 : 1\n",
            "game를 제거합니다.\n",
            "['school', 'piano', 'science', 'hotel', 'mountain']\n",
            "science를 체크합니다. 현재 인덱스 : 2\n",
            "['school', 'piano', 'science', 'hotel', 'mountain']\n",
            "hotel를 체크합니다. 현재 인덱스 : 3\n",
            "hotel를 제거합니다.\n",
            "최종 결과: ['school', 'piano', 'science', 'mountain']\n"
          ],
          "name": "stdout"
        }
      ]
    },
    {
      "cell_type": "code",
      "metadata": {
        "id": "qp1h6hQy5Y-I",
        "outputId": "46e41398-43ed-429e-a1a6-3a51e9c89074"
      },
      "source": [
        "# 2번\n",
        "for i in range(1, 10):\n",
        "    print(f\"=========={n}단=========\")\n",
        "    for j in range(1, 10):\n",
        "        print(f\"{i} X {j} = {i*j}\")"
      ],
      "execution_count": null,
      "outputs": [
        {
          "output_type": "stream",
          "text": [
            "==========19단=========\n",
            "1 X 1 = 1\n",
            "1 X 2 = 2\n",
            "1 X 3 = 3\n",
            "1 X 4 = 4\n",
            "1 X 5 = 5\n",
            "1 X 6 = 6\n",
            "1 X 7 = 7\n",
            "1 X 8 = 8\n",
            "1 X 9 = 9\n",
            "==========19단=========\n",
            "2 X 1 = 2\n",
            "2 X 2 = 4\n",
            "2 X 3 = 6\n",
            "2 X 4 = 8\n",
            "2 X 5 = 10\n",
            "2 X 6 = 12\n",
            "2 X 7 = 14\n",
            "2 X 8 = 16\n",
            "2 X 9 = 18\n",
            "==========19단=========\n",
            "3 X 1 = 3\n",
            "3 X 2 = 6\n",
            "3 X 3 = 9\n",
            "3 X 4 = 12\n",
            "3 X 5 = 15\n",
            "3 X 6 = 18\n",
            "3 X 7 = 21\n",
            "3 X 8 = 24\n",
            "3 X 9 = 27\n",
            "==========19단=========\n",
            "4 X 1 = 4\n",
            "4 X 2 = 8\n",
            "4 X 3 = 12\n",
            "4 X 4 = 16\n",
            "4 X 5 = 20\n",
            "4 X 6 = 24\n",
            "4 X 7 = 28\n",
            "4 X 8 = 32\n",
            "4 X 9 = 36\n",
            "==========19단=========\n",
            "5 X 1 = 5\n",
            "5 X 2 = 10\n",
            "5 X 3 = 15\n",
            "5 X 4 = 20\n",
            "5 X 5 = 25\n",
            "5 X 6 = 30\n",
            "5 X 7 = 35\n",
            "5 X 8 = 40\n",
            "5 X 9 = 45\n",
            "==========19단=========\n",
            "6 X 1 = 6\n",
            "6 X 2 = 12\n",
            "6 X 3 = 18\n",
            "6 X 4 = 24\n",
            "6 X 5 = 30\n",
            "6 X 6 = 36\n",
            "6 X 7 = 42\n",
            "6 X 8 = 48\n",
            "6 X 9 = 54\n",
            "==========19단=========\n",
            "7 X 1 = 7\n",
            "7 X 2 = 14\n",
            "7 X 3 = 21\n",
            "7 X 4 = 28\n",
            "7 X 5 = 35\n",
            "7 X 6 = 42\n",
            "7 X 7 = 49\n",
            "7 X 8 = 56\n",
            "7 X 9 = 63\n",
            "==========19단=========\n",
            "8 X 1 = 8\n",
            "8 X 2 = 16\n",
            "8 X 3 = 24\n",
            "8 X 4 = 32\n",
            "8 X 5 = 40\n",
            "8 X 6 = 48\n",
            "8 X 7 = 56\n",
            "8 X 8 = 64\n",
            "8 X 9 = 72\n",
            "==========19단=========\n",
            "9 X 1 = 9\n",
            "9 X 2 = 18\n",
            "9 X 3 = 27\n",
            "9 X 4 = 36\n",
            "9 X 5 = 45\n",
            "9 X 6 = 54\n",
            "9 X 7 = 63\n",
            "9 X 8 = 72\n",
            "9 X 9 = 81\n"
          ],
          "name": "stdout"
        }
      ]
    },
    {
      "cell_type": "markdown",
      "metadata": {
        "id": "iWazow_-5Y-L"
      },
      "source": [
        "<연습문제 4>\n",
        "\n",
        "1-100 까지 숫자중 3과 5의 공배수일경우 “3과 5의 공배수, 나머지 숫자중 3의 배수일경우 “3의배수\", 나머지 숫자중 5의배수일경우 “5의배수\", 모두 해당되지 않을경우 그냥숫자를 출력하세요.\n",
        "\n",
        "심화 : 1-입력한숫자까지의 숫자중\n"
      ]
    },
    {
      "cell_type": "code",
      "metadata": {
        "scrolled": false,
        "id": "TUcLCOLu5Y-L",
        "outputId": "810e6748-1197-45ab-8524-0d63837d85b9"
      },
      "source": [
        "for num in range(1, int(input())+1):\n",
        "    if num % 15 == 0:\n",
        "        print(\"3과 5의 공배수\")\n",
        "    elif num % 3 == 0:\n",
        "        print(\"3의 배수\")\n",
        "    elif num % 5 == 0:\n",
        "        print(\"5의 배수\")\n",
        "    else:\n",
        "        print(num, \"그냥 숫자\")"
      ],
      "execution_count": null,
      "outputs": [
        {
          "output_type": "stream",
          "text": [
            "100\n",
            "1 그냥 숫자\n",
            "2 그냥 숫자\n",
            "3의 배수\n",
            "4 그냥 숫자\n",
            "5의 배수\n",
            "3의 배수\n",
            "7 그냥 숫자\n",
            "8 그냥 숫자\n",
            "3의 배수\n",
            "5의 배수\n",
            "11 그냥 숫자\n",
            "3의 배수\n",
            "13 그냥 숫자\n",
            "14 그냥 숫자\n",
            "3과 5의 공배수\n",
            "16 그냥 숫자\n",
            "17 그냥 숫자\n",
            "3의 배수\n",
            "19 그냥 숫자\n",
            "5의 배수\n",
            "3의 배수\n",
            "22 그냥 숫자\n",
            "23 그냥 숫자\n",
            "3의 배수\n",
            "5의 배수\n",
            "26 그냥 숫자\n",
            "3의 배수\n",
            "28 그냥 숫자\n",
            "29 그냥 숫자\n",
            "3과 5의 공배수\n",
            "31 그냥 숫자\n",
            "32 그냥 숫자\n",
            "3의 배수\n",
            "34 그냥 숫자\n",
            "5의 배수\n",
            "3의 배수\n",
            "37 그냥 숫자\n",
            "38 그냥 숫자\n",
            "3의 배수\n",
            "5의 배수\n",
            "41 그냥 숫자\n",
            "3의 배수\n",
            "43 그냥 숫자\n",
            "44 그냥 숫자\n",
            "3과 5의 공배수\n",
            "46 그냥 숫자\n",
            "47 그냥 숫자\n",
            "3의 배수\n",
            "49 그냥 숫자\n",
            "5의 배수\n",
            "3의 배수\n",
            "52 그냥 숫자\n",
            "53 그냥 숫자\n",
            "3의 배수\n",
            "5의 배수\n",
            "56 그냥 숫자\n",
            "3의 배수\n",
            "58 그냥 숫자\n",
            "59 그냥 숫자\n",
            "3과 5의 공배수\n",
            "61 그냥 숫자\n",
            "62 그냥 숫자\n",
            "3의 배수\n",
            "64 그냥 숫자\n",
            "5의 배수\n",
            "3의 배수\n",
            "67 그냥 숫자\n",
            "68 그냥 숫자\n",
            "3의 배수\n",
            "5의 배수\n",
            "71 그냥 숫자\n",
            "3의 배수\n",
            "73 그냥 숫자\n",
            "74 그냥 숫자\n",
            "3과 5의 공배수\n",
            "76 그냥 숫자\n",
            "77 그냥 숫자\n",
            "3의 배수\n",
            "79 그냥 숫자\n",
            "5의 배수\n",
            "3의 배수\n",
            "82 그냥 숫자\n",
            "83 그냥 숫자\n",
            "3의 배수\n",
            "5의 배수\n",
            "86 그냥 숫자\n",
            "3의 배수\n",
            "88 그냥 숫자\n",
            "89 그냥 숫자\n",
            "3과 5의 공배수\n",
            "91 그냥 숫자\n",
            "92 그냥 숫자\n",
            "3의 배수\n",
            "94 그냥 숫자\n",
            "5의 배수\n",
            "3의 배수\n",
            "97 그냥 숫자\n",
            "98 그냥 숫자\n",
            "3의 배수\n",
            "5의 배수\n"
          ],
          "name": "stdout"
        }
      ]
    },
    {
      "cell_type": "markdown",
      "metadata": {
        "id": "VW25vGwD5Y-N"
      },
      "source": [
        "입력한 숫자까지, n과 m의 공배수를 구하도록."
      ]
    },
    {
      "cell_type": "code",
      "metadata": {
        "id": "XO_4ag3m5Y-O"
      },
      "source": [
        "# 최대공약수 구하는 함수\n",
        "def GCD(x, y):\n",
        "    if x < y:\n",
        "        x, y = y, x\n",
        "    while y:\n",
        "        x, y = y, x % y\n",
        "    return x"
      ],
      "execution_count": null,
      "outputs": []
    },
    {
      "cell_type": "code",
      "metadata": {
        "scrolled": false,
        "id": "JtS7oJk85Y-R",
        "outputId": "323cfe5a-690c-47fd-c142-2913aa6349c7"
      },
      "source": [
        "m, n, x = map(int, input().split()) # m, n은 어떤 배수를 계산할지, x는 입력받은 숫자까지\n",
        "\n",
        "for num in range(1, x+1):\n",
        "    if num % ((m*n) // GCD(m, n)) == 0: # 최소공배수\n",
        "        print(f\"{num} : {m}과 {n}의 공배수\")\n",
        "    elif num % m == 0:\n",
        "        print(f\"{num} : {m}의 배수\")\n",
        "    elif num % n == 0:\n",
        "        print(f\"{num} : {n}의 배수\")\n",
        "    else:\n",
        "        print(num)"
      ],
      "execution_count": null,
      "outputs": [
        {
          "output_type": "stream",
          "text": [
            "4 7 200\n",
            "1\n",
            "2\n",
            "3\n",
            "4 : 4의 배수\n",
            "5\n",
            "6\n",
            "7 : 7의 배수\n",
            "8 : 4의 배수\n",
            "9\n",
            "10\n",
            "11\n",
            "12 : 4의 배수\n",
            "13\n",
            "14 : 7의 배수\n",
            "15\n",
            "16 : 4의 배수\n",
            "17\n",
            "18\n",
            "19\n",
            "20 : 4의 배수\n",
            "21 : 7의 배수\n",
            "22\n",
            "23\n",
            "24 : 4의 배수\n",
            "25\n",
            "26\n",
            "27\n",
            "28 : 4과 7의 공배수\n",
            "29\n",
            "30\n",
            "31\n",
            "32 : 4의 배수\n",
            "33\n",
            "34\n",
            "35 : 7의 배수\n",
            "36 : 4의 배수\n",
            "37\n",
            "38\n",
            "39\n",
            "40 : 4의 배수\n",
            "41\n",
            "42 : 7의 배수\n",
            "43\n",
            "44 : 4의 배수\n",
            "45\n",
            "46\n",
            "47\n",
            "48 : 4의 배수\n",
            "49 : 7의 배수\n",
            "50\n",
            "51\n",
            "52 : 4의 배수\n",
            "53\n",
            "54\n",
            "55\n",
            "56 : 4과 7의 공배수\n",
            "57\n",
            "58\n",
            "59\n",
            "60 : 4의 배수\n",
            "61\n",
            "62\n",
            "63 : 7의 배수\n",
            "64 : 4의 배수\n",
            "65\n",
            "66\n",
            "67\n",
            "68 : 4의 배수\n",
            "69\n",
            "70 : 7의 배수\n",
            "71\n",
            "72 : 4의 배수\n",
            "73\n",
            "74\n",
            "75\n",
            "76 : 4의 배수\n",
            "77 : 7의 배수\n",
            "78\n",
            "79\n",
            "80 : 4의 배수\n",
            "81\n",
            "82\n",
            "83\n",
            "84 : 4과 7의 공배수\n",
            "85\n",
            "86\n",
            "87\n",
            "88 : 4의 배수\n",
            "89\n",
            "90\n",
            "91 : 7의 배수\n",
            "92 : 4의 배수\n",
            "93\n",
            "94\n",
            "95\n",
            "96 : 4의 배수\n",
            "97\n",
            "98 : 7의 배수\n",
            "99\n",
            "100 : 4의 배수\n",
            "101\n",
            "102\n",
            "103\n",
            "104 : 4의 배수\n",
            "105 : 7의 배수\n",
            "106\n",
            "107\n",
            "108 : 4의 배수\n",
            "109\n",
            "110\n",
            "111\n",
            "112 : 4과 7의 공배수\n",
            "113\n",
            "114\n",
            "115\n",
            "116 : 4의 배수\n",
            "117\n",
            "118\n",
            "119 : 7의 배수\n",
            "120 : 4의 배수\n",
            "121\n",
            "122\n",
            "123\n",
            "124 : 4의 배수\n",
            "125\n",
            "126 : 7의 배수\n",
            "127\n",
            "128 : 4의 배수\n",
            "129\n",
            "130\n",
            "131\n",
            "132 : 4의 배수\n",
            "133 : 7의 배수\n",
            "134\n",
            "135\n",
            "136 : 4의 배수\n",
            "137\n",
            "138\n",
            "139\n",
            "140 : 4과 7의 공배수\n",
            "141\n",
            "142\n",
            "143\n",
            "144 : 4의 배수\n",
            "145\n",
            "146\n",
            "147 : 7의 배수\n",
            "148 : 4의 배수\n",
            "149\n",
            "150\n",
            "151\n",
            "152 : 4의 배수\n",
            "153\n",
            "154 : 7의 배수\n",
            "155\n",
            "156 : 4의 배수\n",
            "157\n",
            "158\n",
            "159\n",
            "160 : 4의 배수\n",
            "161 : 7의 배수\n",
            "162\n",
            "163\n",
            "164 : 4의 배수\n",
            "165\n",
            "166\n",
            "167\n",
            "168 : 4과 7의 공배수\n",
            "169\n",
            "170\n",
            "171\n",
            "172 : 4의 배수\n",
            "173\n",
            "174\n",
            "175 : 7의 배수\n",
            "176 : 4의 배수\n",
            "177\n",
            "178\n",
            "179\n",
            "180 : 4의 배수\n",
            "181\n",
            "182 : 7의 배수\n",
            "183\n",
            "184 : 4의 배수\n",
            "185\n",
            "186\n",
            "187\n",
            "188 : 4의 배수\n",
            "189 : 7의 배수\n",
            "190\n",
            "191\n",
            "192 : 4의 배수\n",
            "193\n",
            "194\n",
            "195\n",
            "196 : 4과 7의 공배수\n",
            "197\n",
            "198\n",
            "199\n",
            "200 : 4의 배수\n"
          ],
          "name": "stdout"
        }
      ]
    },
    {
      "cell_type": "markdown",
      "metadata": {
        "id": "_NFu9cjZ5Y-U"
      },
      "source": [
        "**[참고]** 함수\n",
        "\n",
        "- 수학 : `f(x) = 3x + 3`은, `x`가 들어가면 `f(1)`값이 리턴.\n",
        "    * `x` : parameter argument.\n",
        "    * `f()` : return.\n",
        "    * parameter 인자를 받아서 수식, 논리 구조를 수행한 후 값을 리턴한다.\n",
        "    \n",
        "- 컴퓨터 : 호출. 호출해야 하므로 괄호`()`를 쓴다. 함수를 호출하면 반드시 리턴값이 있다."
      ]
    },
    {
      "cell_type": "markdown",
      "metadata": {
        "id": "yaUyT8WT5Y-U"
      },
      "source": [
        " 예로, `print()`가 있다. 이 함수는 `parameter argument`로 들어오는 값을 출력하는 기능을 한다. 리턴값은 `None`이다. 어떠한 값이든 입력을 받아 값을 돌려주기 전에 콘솔에다 찍어 주는 것이다. 따라서 반환된 값을 출력하면 `None`이 나온다.\n"
      ]
    },
    {
      "cell_type": "code",
      "metadata": {
        "scrolled": true,
        "id": "3dGvRCWI5Y-V",
        "outputId": "31f85164-d4aa-453a-f5fa-e6dcf1c71601"
      },
      "source": [
        "# print 함수\n",
        "c = print(100) # 값을 반환하기 전에 콘솔에 찍는다. 리턴값을 c에 저장한다.\n",
        "print(c) # 반환되는 값은 None이다."
      ],
      "execution_count": null,
      "outputs": [
        {
          "output_type": "stream",
          "text": [
            "100\n",
            "None\n"
          ],
          "name": "stdout"
        }
      ]
    }
  ]
}