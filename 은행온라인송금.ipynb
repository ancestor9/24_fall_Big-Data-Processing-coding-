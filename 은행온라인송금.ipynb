{
  "nbformat": 4,
  "nbformat_minor": 0,
  "metadata": {
    "colab": {
      "provenance": [],
      "authorship_tag": "ABX9TyN8nxMKITyHWKq/VgT6g6Hh",
      "include_colab_link": true
    },
    "kernelspec": {
      "name": "python3",
      "display_name": "Python 3"
    },
    "language_info": {
      "name": "python"
    }
  },
  "cells": [
    {
      "cell_type": "markdown",
      "metadata": {
        "id": "view-in-github",
        "colab_type": "text"
      },
      "source": [
        "<a href=\"https://colab.research.google.com/github/ancestor9/24_fall_Big-Data-Processing-coding-/blob/main/%EC%9D%80%ED%96%89%EC%98%A8%EB%9D%BC%EC%9D%B8%EC%86%A1%EA%B8%88.ipynb\" target=\"_parent\"><img src=\"https://colab.research.google.com/assets/colab-badge.svg\" alt=\"Open In Colab\"/></a>"
      ]
    },
    {
      "cell_type": "code",
      "execution_count": null,
      "metadata": {
        "colab": {
          "base_uri": "https://localhost:8080/"
        },
        "id": "D8gzzWICbn2S",
        "outputId": "011026b1-3650-416f-b9ce-53cd763467a5"
      },
      "outputs": [
        {
          "output_type": "stream",
          "name": "stdout",
          "text": [
            "홍길동님의 잔액: 10000원\n",
            "이순신님의 잔액: 5000원\n",
            "홍길동님이 이순신님에게 3000원을 송금했습니다.\n",
            "홍길동님의 잔액: 7000원\n",
            "이순신님의 잔액: 8000원\n"
          ]
        }
      ],
      "source": [
        "# BankAccount 클래스 정의\n",
        "class BankAccount:\n",
        "    def __init__(self, owner, balance=0):\n",
        "        self.owner = owner\n",
        "        self.balance = balance\n",
        "\n",
        "    # 잔액 확인 메소드\n",
        "    def check_balance(self):\n",
        "        print(f\"{self.owner}님의 잔액: {self.balance}원\")\n",
        "\n",
        "    # 입금 메소드\n",
        "    def deposit(self, amount):\n",
        "        self.balance += amount\n",
        "        print(f\"{self.owner}님이 {amount}원을 입금했습니다.\")\n",
        "\n",
        "    # 출금 메소드\n",
        "    def withdraw(self, amount):\n",
        "        if self.balance >= amount:\n",
        "            self.balance -= amount\n",
        "            print(f\"{self.owner}님이 {amount}원을 출금했습니다.\")\n",
        "        else:\n",
        "            print(f\"{self.owner}님 잔액이 부족합니다.\")\n",
        "\n",
        "    # 송금 메소드\n",
        "    def transfer(self, other_account, amount):\n",
        "        if self.balance >= amount:\n",
        "            self.balance -= amount\n",
        "            other_account.balance += amount\n",
        "            print(f\"{self.owner}님이 {other_account.owner}님에게 {amount}원을 송금했습니다.\")\n",
        "        else:\n",
        "            print(f\"{self.owner}님 잔액이 부족하여 송금할 수 없습니다.\")\n",
        "\n",
        "# 두 명의 은행 계좌 생성\n",
        "account1 = BankAccount(\"홍길동\", 10000)\n",
        "account2 = BankAccount(\"이순신\", 5000)\n",
        "\n",
        "# 잔액 확인\n",
        "account1.check_balance()\n",
        "account2.check_balance()\n",
        "\n",
        "# 홍길동이 이순신에게 3000원 송금\n",
        "account1.transfer(account2, 3000)\n",
        "\n",
        "# 송금 후 잔액 확인\n",
        "account1.check_balance()\n",
        "account2.check_balance()\n"
      ]
    },
    {
      "cell_type": "code",
      "source": [
        "! pip install -q gradio\n",
        "import gradio as gr\n",
        "\n",
        "# BankAccount 클래스 정의\n",
        "class BankAccount:\n",
        "    def __init__(self, owner, balance=0):\n",
        "        self.owner = owner\n",
        "        self.balance = balance\n",
        "\n",
        "    # 잔액 확인 메소드\n",
        "    def check_balance(self):\n",
        "        return f\"{self.owner}님의 잔액: {self.balance}원\"\n",
        "\n",
        "    # 입금 메소드\n",
        "    def deposit(self, amount):\n",
        "        self.balance += amount\n",
        "        return f\"{self.owner}님이 {amount}원을 입금했습니다.\"\n",
        "\n",
        "    # 출금 메소드\n",
        "    def withdraw(self, amount):\n",
        "        if self.balance >= amount:\n",
        "            self.balance -= amount\n",
        "            return f\"{self.owner}님이 {amount}원을 출금했습니다.\"\n",
        "        else:\n",
        "            return f\"{self.owner}님 잔액이 부족합니다.\"\n",
        "\n",
        "    # 송금 메소드\n",
        "    def transfer(self, other_account, amount):\n",
        "        if self.balance >= amount:\n",
        "            self.balance -= amount\n",
        "            other_account.balance += amount\n",
        "            return f\"{self.owner}님이 {other_account.owner}님에게 {amount}원을 송금했습니다.\"\n",
        "        else:\n",
        "            return f\"{self.owner}님 잔액이 부족하여 송금할 수 없습니다.\"\n",
        "\n",
        "# 두 명의 은행 계좌 생성\n",
        "account1 = BankAccount(\"홍길동\", 10000)\n",
        "account2 = BankAccount(\"이순신\", 5000)\n",
        "\n",
        "# 송금 함수\n",
        "def transfer_money(amount):\n",
        "    try:\n",
        "        amount = int(amount)\n",
        "    except ValueError:\n",
        "        return \"송금 금액은 숫자여야 합니다.\"\n",
        "\n",
        "    result = account1.transfer(account2, amount)\n",
        "    account1_balance = account1.check_balance()\n",
        "    account2_balance = account2.check_balance()\n",
        "\n",
        "    return f\"{result}\\n\\n홍길동 잔액: {account1_balance}\\n이순신 잔액: {account2_balance}\"\n",
        "\n",
        "# Gradio UI 구성\n",
        "with gr.Blocks() as demo:\n",
        "    gr.Markdown(\"### 송금 시스템\")\n",
        "    amount_input = gr.Number(label=\"송금할 금액 입력\")\n",
        "    output = gr.Textbox(label=\"결과\")\n",
        "    send_button = gr.Button(\"송금하기\")\n",
        "    send_button.click(transfer_money, inputs=[amount_input], outputs=[output])\n",
        "\n",
        "# UI 실행\n",
        "demo.launch()\n"
      ],
      "metadata": {
        "colab": {
          "base_uri": "https://localhost:8080/",
          "height": 872
        },
        "id": "f-BnqR_tbovW",
        "outputId": "aa1c14a9-081a-4815-d9e2-b0e07585d8bd"
      },
      "execution_count": null,
      "outputs": [
        {
          "output_type": "stream",
          "name": "stdout",
          "text": [
            "\u001b[2K     \u001b[90m━━━━━━━━━━━━━━━━━━━━━━━━━━━━━━━━━━━━━━━━\u001b[0m \u001b[32m50.4/50.4 kB\u001b[0m \u001b[31m2.4 MB/s\u001b[0m eta \u001b[36m0:00:00\u001b[0m\n",
            "\u001b[2K   \u001b[90m━━━━━━━━━━━━━━━━━━━━━━━━━━━━━━━━━━━━━━━━\u001b[0m \u001b[32m18.1/18.1 MB\u001b[0m \u001b[31m66.5 MB/s\u001b[0m eta \u001b[36m0:00:00\u001b[0m\n",
            "\u001b[2K   \u001b[90m━━━━━━━━━━━━━━━━━━━━━━━━━━━━━━━━━━━━━━━━\u001b[0m \u001b[32m318.7/318.7 kB\u001b[0m \u001b[31m21.7 MB/s\u001b[0m eta \u001b[36m0:00:00\u001b[0m\n",
            "\u001b[2K   \u001b[90m━━━━━━━━━━━━━━━━━━━━━━━━━━━━━━━━━━━━━━━━\u001b[0m \u001b[32m94.0/94.0 kB\u001b[0m \u001b[31m7.4 MB/s\u001b[0m eta \u001b[36m0:00:00\u001b[0m\n",
            "\u001b[2K   \u001b[90m━━━━━━━━━━━━━━━━━━━━━━━━━━━━━━━━━━━━━━━━\u001b[0m \u001b[32m76.4/76.4 kB\u001b[0m \u001b[31m5.8 MB/s\u001b[0m eta \u001b[36m0:00:00\u001b[0m\n",
            "\u001b[2K   \u001b[90m━━━━━━━━━━━━━━━━━━━━━━━━━━━━━━━━━━━━━━━━\u001b[0m \u001b[32m77.9/77.9 kB\u001b[0m \u001b[31m6.1 MB/s\u001b[0m eta \u001b[36m0:00:00\u001b[0m\n",
            "\u001b[2K   \u001b[90m━━━━━━━━━━━━━━━━━━━━━━━━━━━━━━━━━━━━━━━━\u001b[0m \u001b[32m141.9/141.9 kB\u001b[0m \u001b[31m11.1 MB/s\u001b[0m eta \u001b[36m0:00:00\u001b[0m\n",
            "\u001b[2K   \u001b[90m━━━━━━━━━━━━━━━━━━━━━━━━━━━━━━━━━━━━━━━━\u001b[0m \u001b[32m10.3/10.3 MB\u001b[0m \u001b[31m73.6 MB/s\u001b[0m eta \u001b[36m0:00:00\u001b[0m\n",
            "\u001b[2K   \u001b[90m━━━━━━━━━━━━━━━━━━━━━━━━━━━━━━━━━━━━━━━━\u001b[0m \u001b[32m62.8/62.8 kB\u001b[0m \u001b[31m5.1 MB/s\u001b[0m eta \u001b[36m0:00:00\u001b[0m\n",
            "\u001b[2K   \u001b[90m━━━━━━━━━━━━━━━━━━━━━━━━━━━━━━━━━━━━━━━━\u001b[0m \u001b[32m58.3/58.3 kB\u001b[0m \u001b[31m4.2 MB/s\u001b[0m eta \u001b[36m0:00:00\u001b[0m\n",
            "\u001b[2K   \u001b[90m━━━━━━━━━━━━━━━━━━━━━━━━━━━━━━━━━━━━━━━━\u001b[0m \u001b[32m71.4/71.4 kB\u001b[0m \u001b[31m5.4 MB/s\u001b[0m eta \u001b[36m0:00:00\u001b[0m\n",
            "\u001b[2K   \u001b[90m━━━━━━━━━━━━━━━━━━━━━━━━━━━━━━━━━━━━━━━━\u001b[0m \u001b[32m130.2/130.2 kB\u001b[0m \u001b[31m10.5 MB/s\u001b[0m eta \u001b[36m0:00:00\u001b[0m\n",
            "\u001b[?25hSetting queue=True in a Colab notebook requires sharing enabled. Setting `share=True` (you can turn this off by setting `share=False` in `launch()` explicitly).\n",
            "\n",
            "Colab notebook detected. To show errors in colab notebook, set debug=True in launch()\n",
            "Running on public URL: https://bc2a61d9dbb200bd4d.gradio.live\n",
            "\n",
            "This share link expires in 72 hours. For free permanent hosting and GPU upgrades, run `gradio deploy` from Terminal to deploy to Spaces (https://huggingface.co/spaces)\n"
          ]
        },
        {
          "output_type": "display_data",
          "data": {
            "text/plain": [
              "<IPython.core.display.HTML object>"
            ],
            "text/html": [
              "<div><iframe src=\"https://bc2a61d9dbb200bd4d.gradio.live\" width=\"100%\" height=\"500\" allow=\"autoplay; camera; microphone; clipboard-read; clipboard-write;\" frameborder=\"0\" allowfullscreen></iframe></div>"
            ]
          },
          "metadata": {}
        },
        {
          "output_type": "execute_result",
          "data": {
            "text/plain": []
          },
          "metadata": {},
          "execution_count": 3
        }
      ]
    },
    {
      "cell_type": "code",
      "source": [],
      "metadata": {
        "id": "OJBcZZYHb4Y0"
      },
      "execution_count": null,
      "outputs": []
    }
  ]
}