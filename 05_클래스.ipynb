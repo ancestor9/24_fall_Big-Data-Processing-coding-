{
  "cells": [
    {
      "cell_type": "markdown",
      "metadata": {
        "id": "view-in-github",
        "colab_type": "text"
      },
      "source": [
        "<a href=\"https://colab.research.google.com/github/ancestor9/24_fall_Big-Data-Processing-coding-/blob/main/05_%ED%81%B4%EB%9E%98%EC%8A%A4.ipynb\" target=\"_parent\"><img src=\"https://colab.research.google.com/assets/colab-badge.svg\" alt=\"Open In Colab\"/></a>"
      ]
    },
    {
      "cell_type": "markdown",
      "metadata": {
        "id": "Au5XyKoe68ev"
      },
      "source": [
        "# 클래스"
      ]
    },
    {
      "cell_type": "markdown",
      "metadata": {
        "id": "Xt6C2MbH68e0"
      },
      "source": [
        "클래스가 왜 필요한지 알아보자. 다음은 클래스가 없을 때 기능을 구현하는 방법이다."
      ]
    },
    {
      "cell_type": "markdown",
      "metadata": {
        "id": "tUhacNmN68e2"
      },
      "source": [
        "* 함수 없이 기능 구현"
      ]
    },
    {
      "cell_type": "code",
      "execution_count": null,
      "metadata": {
        "id": "S1AOdDmJ68e5",
        "outputId": "9fff8b92-34f4-4a60-8877-6eceea1bc43c"
      },
      "outputs": [
        {
          "name": "stdout",
          "output_type": "stream",
          "text": [
            "Ruby is Barking!\n",
            "Bob is Barking!\n"
          ]
        }
      ],
      "source": [
        "# 두 마리의 강아지 생성\n",
        "\n",
        "dog1 = {\n",
        "    'name': 'Ruby',\n",
        "    'age': 1,\n",
        "    'hp': 100\n",
        "}\n",
        "\n",
        "dog2 = {\n",
        "    'name': 'Bob',\n",
        "    'age': 3,\n",
        "    'hp': 200\n",
        "}\n",
        "\n",
        "\n",
        "# 함수가 없을 때 강아지가 짖는 동작 표현\n",
        "print(\"{0} is Barking!\".format(dog1['name']))\n",
        "print(\"{0} is Barking!\".format(dog2['name']))"
      ]
    },
    {
      "cell_type": "markdown",
      "metadata": {
        "id": "w_Zs77jR68e-"
      },
      "source": [
        "* 함수를 통한 기능 구현"
      ]
    },
    {
      "cell_type": "code",
      "execution_count": null,
      "metadata": {
        "id": "QMam3OHJ68e-",
        "outputId": "29abbb07-aa94-4598-b0a5-3d32a4feebba"
      },
      "outputs": [
        {
          "name": "stdout",
          "output_type": "stream",
          "text": [
            "Ruby is Barking!\n",
            "Bob is Barking!\n"
          ]
        }
      ],
      "source": [
        "def dog_cry(dog):\n",
        "    print(\"{0} is Barking!\".format(dog['name']))\n",
        "\n",
        "dog_cry(dog1)\n",
        "dog_cry(dog2)"
      ]
    },
    {
      "cell_type": "markdown",
      "metadata": {
        "id": "PkbGNgNK68fA"
      },
      "source": [
        "* 함수 기능을 활용해 또 다른 기능 구현"
      ]
    },
    {
      "cell_type": "code",
      "execution_count": null,
      "metadata": {
        "id": "4gUBGzmP68fB",
        "outputId": "63db63b5-943e-4e7c-8152-210742406c85"
      },
      "outputs": [
        {
          "name": "stdout",
          "output_type": "stream",
          "text": [
            "미미 Meow...\n",
            "bob is Barking!\n",
            "예삐 is Barking!\n",
            "bob의 hp: 100\n",
            "예삐의 hp: 100\n"
          ]
        }
      ],
      "source": [
        "def cat_meow(cat):\n",
        "    print(\"%s Meow...\" % cat['name'])\n",
        "\n",
        "def dog_walk(dog):\n",
        "    dog['hp'] -= 10\n",
        "\n",
        "# 여러 동물 변수 생성\n",
        "cat1 = {\n",
        "    'name': '미미',\n",
        "    'age': 3,\n",
        "    'hp':100\n",
        "}\n",
        "\n",
        "dog1 = {\n",
        "    'name': 'bob',\n",
        "    'age': 1,\n",
        "    'hp': 100\n",
        "}\n",
        "\n",
        "dog2 = {\n",
        "    'name': '예삐',\n",
        "    'age': 3,\n",
        "    'hp': 100\n",
        "}\n",
        "\n",
        "dogs = {\n",
        "    'name': ['예삐', 'bob'],\n",
        "    'age': [3, 1],\n",
        "    'hp': [100, 100]\n",
        "}\n",
        "\n",
        "dogs = [{\n",
        "    'name': 'bob',\n",
        "    'age': 1,\n",
        "    'hp': 100},\n",
        "    {\n",
        "    'name': '예삐',\n",
        "    'age': 3,\n",
        "    'hp': 100\n",
        "    }]\n",
        "\n",
        "# 기능 구현\n",
        "cat_meow(cat1)\n",
        "dog_cry(dog1)\n",
        "dog_cry(dog2)\n",
        "dog_walk(dog2)\n",
        "for dog in dogs:\n",
        "    print(f\"{dog['name']}의 hp: {dog['hp']}\")"
      ]
    },
    {
      "cell_type": "code",
      "execution_count": null,
      "metadata": {
        "id": "VJfScccO68fD"
      },
      "outputs": [],
      "source": []
    },
    {
      "cell_type": "markdown",
      "metadata": {
        "id": "DG3hsVqb68fE"
      },
      "source": [
        " 이렇게 일일이 변수를 생성하고, 기능을 만들어서 구현하려면 너무 귀찮고 힘들다. 그래서 클래스가 필요하다."
      ]
    },
    {
      "cell_type": "markdown",
      "metadata": {
        "id": "ICQ6n3zq68fG"
      },
      "source": [
        "* `class ClassName(object)` 혹은 `class ClassName()`으로 클래스명을 정의한다.\n",
        "\n",
        "* 생성자 : `def __init__()`\n",
        "    - 인스턴스 생성 시 반드시 호출되는 메소드.\n",
        "    - 첫 번째 인자는 반드시 `self`. 만들어지는 인스턴스 자신을 의미."
      ]
    },
    {
      "cell_type": "code",
      "execution_count": null,
      "metadata": {
        "id": "vkntfR5068fH"
      },
      "outputs": [],
      "source": [
        "# 클래스 생성\n",
        "class Dog:\n",
        "    def __init__(self, name, color):\n",
        "        self.hungry = 0 # 인스턴스 속성\n",
        "        self.name = name\n",
        "        self.color = color\n",
        "\n",
        "    def eat(self): # 행동\n",
        "        self.hungry -= 10\n",
        "        print(f\"밥을 먹었습니다. {self.name}의 배고픔이 {self.hungry}(으)로 감소했습니다.\")\n",
        "\n",
        "    def walk(self): # 산책\n",
        "        self.hungry += 10\n",
        "        print(f\"산책했습니다. {self.name}의 배고픔이 {self.hungry}(으)로 증가했습니다.\")"
      ]
    },
    {
      "cell_type": "code",
      "execution_count": null,
      "metadata": {
        "id": "TvOnV3tS68fH",
        "outputId": "0541f015-5b75-4093-c387-48926bb537bd"
      },
      "outputs": [
        {
          "name": "stdout",
          "output_type": "stream",
          "text": [
            "type of choco: <class '__main__.Dog'>\n",
            "choco black 0\n",
            "jjong white 0\n"
          ]
        }
      ],
      "source": [
        "# Dog 클래스로부터 인스턴스 생성\n",
        "choco = Dog(\"choco\", \"black\")\n",
        "jjong = Dog('jjong', 'white')\n",
        "\n",
        "# Dog 객체임을 확인\n",
        "print(f\"type of choco: {type(choco)}\")\n",
        "\n",
        "# 각 인스턴스의 속성 확인\n",
        "print(choco.name, choco.color, choco.hungry)\n",
        "print(jjong.name, jjong.color, jjong.hungry)"
      ]
    },
    {
      "cell_type": "code",
      "execution_count": null,
      "metadata": {
        "id": "ykCfpQi368fI",
        "outputId": "51170fee-acb2-45f1-e684-0b40f82a3935"
      },
      "outputs": [
        {
          "name": "stdout",
          "output_type": "stream",
          "text": [
            "산책했습니다. choco의 배고픔이 10(으)로 증가했습니다.\n",
            "산책했습니다. choco의 배고픔이 20(으)로 증가했습니다.\n",
            "산책했습니다. choco의 배고픔이 30(으)로 증가했습니다.\n",
            "밥을 먹었습니다. choco의 배고픔이 20(으)로 감소했습니다.\n"
          ]
        }
      ],
      "source": [
        "# 각 인스턴스의 메서드 호출\n",
        "choco.walk()\n",
        "choco.walk()\n",
        "choco.walk()\n",
        "choco.eat()"
      ]
    },
    {
      "cell_type": "code",
      "execution_count": null,
      "metadata": {
        "id": "uu2wGply68fJ",
        "outputId": "9798ce16-900c-458d-d1ab-b359203c905a"
      },
      "outputs": [
        {
          "data": {
            "text/plain": [
              "20"
            ]
          },
          "execution_count": 8,
          "metadata": {},
          "output_type": "execute_result"
        }
      ],
      "source": [
        "# 메서드 호출 후 인스턴스 속성 변화\n",
        "choco.hungry"
      ]
    },
    {
      "cell_type": "code",
      "execution_count": null,
      "metadata": {
        "id": "xxljQ88h68fK",
        "outputId": "73364d3d-6769-4d52-f4ca-5fbddb900b8d"
      },
      "outputs": [
        {
          "ename": "AttributeError",
          "evalue": "'Dog' object has no attribute 'bark'",
          "output_type": "error",
          "traceback": [
            "\u001b[1;31m---------------------------------------------------------------------------\u001b[0m",
            "\u001b[1;31mAttributeError\u001b[0m                            Traceback (most recent call last)",
            "\u001b[1;32m<ipython-input-9-41ad7bcd5c1e>\u001b[0m in \u001b[0;36m<module>\u001b[1;34m\u001b[0m\n\u001b[0;32m      1\u001b[0m \u001b[1;31m# 정의하지 않은 메서드 호출 시\u001b[0m\u001b[1;33m\u001b[0m\u001b[1;33m\u001b[0m\u001b[1;33m\u001b[0m\u001b[0m\n\u001b[1;32m----> 2\u001b[1;33m \u001b[0mchoco\u001b[0m\u001b[1;33m.\u001b[0m\u001b[0mbark\u001b[0m\u001b[1;33m(\u001b[0m\u001b[1;33m)\u001b[0m\u001b[1;33m\u001b[0m\u001b[1;33m\u001b[0m\u001b[0m\n\u001b[0m",
            "\u001b[1;31mAttributeError\u001b[0m: 'Dog' object has no attribute 'bark'"
          ]
        }
      ],
      "source": [
        "# 정의하지 않은 메서드 호출 시\n",
        "choco.bark()"
      ]
    },
    {
      "cell_type": "markdown",
      "metadata": {
        "id": "-sAqHq-W68fL"
      },
      "source": [
        "private 속성을 갖는 클래스를 설계하자. 이제 private 속성에는 접근할 수 없다."
      ]
    },
    {
      "cell_type": "code",
      "execution_count": null,
      "metadata": {
        "id": "5in_9tfe68fM"
      },
      "outputs": [],
      "source": [
        "# 클래스 생성\n",
        "class Dog:\n",
        "    def __init__(self, name, color):\n",
        "        self.__hungry = 0 # 인스턴스 속성: private\n",
        "        self.name = name # 인스턴스 속성: public\n",
        "        self.color = color\n",
        "        self.angry = 0\n",
        "\n",
        "    def eat(self): # 행동\n",
        "        self.__hungry -= 10\n",
        "        print(f\"밥을 먹었습니다. {self.name}의 배고픔이 {self.__hungry}(으)로 감소했습니다.\")\n",
        "\n",
        "    def walk(self): # 산책\n",
        "        self.__hungry += 10\n",
        "        print(f\"산책했습니다. {self.name}의 배고픔이 {self.__hungry}(으)로 증가했습니다.\")\n",
        "\n",
        "    def bark(self):\n",
        "        self.__hungry += 5\n",
        "        self.angry += 3\n",
        "        print(f\"짖었습니다. {self.name}의 배고픔이 {self.__hungry}(으)로 증가하고, 화남이 {self.angry}(으)로 증가했습니다.\")"
      ]
    },
    {
      "cell_type": "code",
      "execution_count": null,
      "metadata": {
        "id": "Ohv06nCa68fM",
        "outputId": "92469bec-73e5-4c34-f44d-56adbb68be95"
      },
      "outputs": [
        {
          "name": "stdout",
          "output_type": "stream",
          "text": [
            "산책했습니다. choco의 배고픔이 10(으)로 증가했습니다.\n",
            "짖었습니다. choco의 배고픔이 15(으)로 증가하고, 화남이 3(으)로 증가했습니다.\n",
            "산책했습니다. choco의 배고픔이 25(으)로 증가했습니다.\n"
          ]
        },
        {
          "ename": "AttributeError",
          "evalue": "'Dog' object has no attribute 'hungry'",
          "output_type": "error",
          "traceback": [
            "\u001b[1;31m---------------------------------------------------------------------------\u001b[0m",
            "\u001b[1;31mAttributeError\u001b[0m                            Traceback (most recent call last)",
            "\u001b[1;32m<ipython-input-11-8e178154eee4>\u001b[0m in \u001b[0;36m<module>\u001b[1;34m\u001b[0m\n\u001b[0;32m      3\u001b[0m \u001b[0mchoco\u001b[0m\u001b[1;33m.\u001b[0m\u001b[0mbark\u001b[0m\u001b[1;33m(\u001b[0m\u001b[1;33m)\u001b[0m\u001b[1;33m\u001b[0m\u001b[1;33m\u001b[0m\u001b[0m\n\u001b[0;32m      4\u001b[0m \u001b[0mchoco\u001b[0m\u001b[1;33m.\u001b[0m\u001b[0mwalk\u001b[0m\u001b[1;33m(\u001b[0m\u001b[1;33m)\u001b[0m\u001b[1;33m\u001b[0m\u001b[1;33m\u001b[0m\u001b[0m\n\u001b[1;32m----> 5\u001b[1;33m \u001b[0mprint\u001b[0m\u001b[1;33m(\u001b[0m\u001b[0mchoco\u001b[0m\u001b[1;33m.\u001b[0m\u001b[0mhungry\u001b[0m\u001b[1;33m)\u001b[0m \u001b[1;31m# 속성 접근 불가\u001b[0m\u001b[1;33m\u001b[0m\u001b[1;33m\u001b[0m\u001b[0m\n\u001b[0m",
            "\u001b[1;31mAttributeError\u001b[0m: 'Dog' object has no attribute 'hungry'"
          ]
        }
      ],
      "source": [
        "choco = Dog(\"choco\", \"black\")\n",
        "choco.walk()\n",
        "choco.bark()\n",
        "choco.walk()\n",
        "print(choco.hungry) # 속성 접근 불가"
      ]
    },
    {
      "cell_type": "code",
      "execution_count": null,
      "metadata": {
        "id": "WOANqY6U68fO"
      },
      "outputs": [],
      "source": [
        "# 클래스 생성\n",
        "class Dog:\n",
        "    def __init__(self, name, color):\n",
        "        self.__hungry = 0 # 인스턴스 속성: private\n",
        "        self.name = name # 인스턴스 속성: public\n",
        "        self.color = color\n",
        "        self.angry = 0\n",
        "\n",
        "    def eat(self): # 행동\n",
        "        self.__hungry -= 10\n",
        "        print(f\"밥을 먹었습니다. {self.name}의 배고픔이 {self.__hungry}(으)로 감소했습니다.\")\n",
        "\n",
        "    def walk(self): # 산책\n",
        "        self.__hungry += 10\n",
        "        print(f\"산책했습니다. {self.name}의 배고픔이 {self.__hungry}(으)로 증가했습니다.\")\n",
        "\n",
        "    def bark(self):\n",
        "        self.__hungry += 5\n",
        "        self.angry += 3\n",
        "        print(f\"짖었습니다. {self.name}의 배고픔이 {self.__hungry}(으)로 증가하고, 화남이 {self.angry}(으)로 증가했습니다.\")\n",
        "\n",
        "    def how_hungry(self):\n",
        "        return self.__hungry\n",
        "\n",
        "    def set_hungry(self, hungry):\n",
        "        self.__hungry = hungry"
      ]
    },
    {
      "cell_type": "code",
      "execution_count": null,
      "metadata": {
        "id": "XTMYlxuq68fP",
        "outputId": "3bb288d0-573f-4a29-b094-d87e6a33f0d0"
      },
      "outputs": [
        {
          "name": "stdout",
          "output_type": "stream",
          "text": [
            "짖었습니다. Ruby의 배고픔이 5(으)로 증가하고, 화남이 3(으)로 증가했습니다.\n",
            "짖었습니다. Ruby의 배고픔이 10(으)로 증가하고, 화남이 6(으)로 증가했습니다.\n",
            "짖었습니다. Ruby의 배고픔이 15(으)로 증가하고, 화남이 9(으)로 증가했습니다.\n"
          ]
        }
      ],
      "source": [
        "ruby = Dog(\"Ruby\", \"white\")\n",
        "ruby.bark()\n",
        "ruby.bark()\n",
        "ruby.bark()"
      ]
    },
    {
      "cell_type": "code",
      "execution_count": null,
      "metadata": {
        "id": "xJIegEVf68fP",
        "outputId": "1e9a9374-3bbb-4bea-b796-b90707799c3f"
      },
      "outputs": [
        {
          "name": "stdout",
          "output_type": "stream",
          "text": [
            "15\n"
          ]
        },
        {
          "ename": "AttributeError",
          "evalue": "'Dog' object has no attribute 'hungry'",
          "output_type": "error",
          "traceback": [
            "\u001b[1;31m---------------------------------------------------------------------------\u001b[0m",
            "\u001b[1;31mAttributeError\u001b[0m                            Traceback (most recent call last)",
            "\u001b[1;32m<ipython-input-14-5cdc317b6800>\u001b[0m in \u001b[0;36m<module>\u001b[1;34m\u001b[0m\n\u001b[0;32m      1\u001b[0m \u001b[0mprint\u001b[0m\u001b[1;33m(\u001b[0m\u001b[0mruby\u001b[0m\u001b[1;33m.\u001b[0m\u001b[0mhow_hungry\u001b[0m\u001b[1;33m(\u001b[0m\u001b[1;33m)\u001b[0m\u001b[1;33m)\u001b[0m\u001b[1;33m\u001b[0m\u001b[1;33m\u001b[0m\u001b[0m\n\u001b[1;32m----> 2\u001b[1;33m \u001b[0mruby\u001b[0m\u001b[1;33m.\u001b[0m\u001b[0mhungry\u001b[0m\u001b[1;33m\u001b[0m\u001b[1;33m\u001b[0m\u001b[0m\n\u001b[0m",
            "\u001b[1;31mAttributeError\u001b[0m: 'Dog' object has no attribute 'hungry'"
          ]
        }
      ],
      "source": [
        "print(ruby.how_hungry())\n",
        "ruby.hungry"
      ]
    },
    {
      "cell_type": "code",
      "execution_count": null,
      "metadata": {
        "id": "cvrC1Oc-68fQ",
        "outputId": "c6fb9a34-edc8-4125-d2a6-3e8cdc565a1a"
      },
      "outputs": [
        {
          "name": "stdout",
          "output_type": "stream",
          "text": [
            "산책했습니다. Ruby의 배고픔이 11(으)로 증가했습니다.\n",
            "짖었습니다. Ruby의 배고픔이 16(으)로 증가하고, 화남이 12(으)로 증가했습니다.\n"
          ]
        },
        {
          "data": {
            "text/plain": [
              "16"
            ]
          },
          "execution_count": 15,
          "metadata": {},
          "output_type": "execute_result"
        }
      ],
      "source": [
        "ruby.set_hungry(1) # 배고픔 지수 재설정\n",
        "ruby.walk()\n",
        "ruby.bark()\n",
        "ruby.how_hungry()"
      ]
    },
    {
      "cell_type": "markdown",
      "metadata": {
        "id": "6bWIArf968fQ"
      },
      "source": [
        "# 클래스 속성"
      ]
    },
    {
      "cell_type": "code",
      "execution_count": null,
      "metadata": {
        "id": "qGf5sDCi68fQ"
      },
      "outputs": [],
      "source": [
        "class Dog:\n",
        "    count = 0 # 클래스 속성\n",
        "\n",
        "    def __init__(self, name, color): # 생성자\n",
        "        self.__hungry = 0 # 인스턴스 속성: private\n",
        "        self.name = name\n",
        "        self.color = color\n",
        "        self.angry = 0\n",
        "\n",
        "        Dog.count += 1 # 클래스 속성 : 인스턴스 생성할 때마다 증가.\n",
        "\n",
        "    def eat(self): # 행동\n",
        "        self.__hungry -= 10\n",
        "        print(f\"밥을 먹었습니다. {self.name}의 배고픔이 {self.__hungry}(으)로 감소했습니다.\")\n",
        "\n",
        "    def walk(self): # 산책\n",
        "        self.__hungry += 10\n",
        "        print(f\"산책했습니다. {self.name}의 배고픔이 {self.__hungry}(으)로 증가했습니다.\")\n",
        "\n",
        "    def bark(self):\n",
        "        self.__hungry += 5\n",
        "        self.angry += 3\n",
        "        print(f\"짖었습니다. {self.name}의 배고픔이 {self.__hungry}(으)로 증가하고, 화남이 {self.angry}(으)로 증가했습니다.\")\n",
        "\n",
        "    def how_hungry(self):\n",
        "        return self.__hungry\n",
        "\n",
        "    def set_hungry(self, hungry):\n",
        "        self.__hungry = hungry"
      ]
    },
    {
      "cell_type": "code",
      "execution_count": null,
      "metadata": {
        "id": "Lfac6j-v68fR",
        "outputId": "33f406cc-7dd9-4c7f-f613-65c9b190d4c8"
      },
      "outputs": [
        {
          "data": {
            "text/plain": [
              "0"
            ]
          },
          "execution_count": 17,
          "metadata": {},
          "output_type": "execute_result"
        }
      ],
      "source": [
        "# 클래스 속성 접근\n",
        "Dog.count"
      ]
    },
    {
      "cell_type": "code",
      "execution_count": null,
      "metadata": {
        "id": "ZAjwBUY668fR",
        "outputId": "e7cfdcd6-68e8-4ec1-ecf8-f140994449d5"
      },
      "outputs": [
        {
          "name": "stdout",
          "output_type": "stream",
          "text": [
            "1\n",
            "2\n",
            "3\n"
          ]
        }
      ],
      "source": [
        "# 인스턴스 생성\n",
        "ruby = Dog(\"ruby\", \"white\")\n",
        "print(Dog.count)\n",
        "jjong = Dog(\"jjong\", \"white\")\n",
        "print(Dog.count)\n",
        "wally = Dog(\"Wally\", \"brown\")\n",
        "print(Dog.count)"
      ]
    },
    {
      "cell_type": "markdown",
      "metadata": {
        "id": "jqY7pHE168fS"
      },
      "source": [
        "# 스태틱 메소드와 클래스 메소드\n",
        "\n",
        "- 클래스 메소드는 인자로 `cls`를 사용한다"
      ]
    },
    {
      "cell_type": "code",
      "execution_count": null,
      "metadata": {
        "id": "xPHtf3pG68fS"
      },
      "outputs": [],
      "source": [
        "class Dog:\n",
        "\n",
        "    # 클래스 속성\n",
        "    count = 0\n",
        "    dog_list = []\n",
        "\n",
        "    @staticmethod # 스태틱 메소드\n",
        "    def intro():\n",
        "        print(\"멍멍! 동물의 숲에 오신 것을 환영합니다.\")\n",
        "\n",
        "    @classmethod # 클래스 메소드\n",
        "    def get_dog_count(cls):\n",
        "        return cls.count\n",
        "\n",
        "    # 생성자\n",
        "    def __init__(self, name, color):\n",
        "        self.__hungry = 0 # 인스턴스 속성: private\n",
        "        self.name = name # 인스턴스 속성: public\n",
        "        self.color = color\n",
        "        self.angry = 0\n",
        "\n",
        "        # 인스턴스 생성 시 클래스 속성 변경\n",
        "        Dog.count += 1\n",
        "        Dog.dog_list.append(self)\n",
        "\n",
        "    def eat(self):\n",
        "        self.__hungry -= 10\n",
        "        print(f\"밥을 먹었습니다. {self.name}의 배고픔이 {self.__hungry}(으)로 감소했습니다.\")\n",
        "\n",
        "    def walk(self):\n",
        "        self.__hungry += 10\n",
        "        print(f\"산책했습니다. {self.name}의 배고픔이 {self.__hungry}(으)로 증가했습니다.\")\n",
        "\n",
        "    def bark(self):\n",
        "        self.__hungry += 5\n",
        "        self.angry += 3\n",
        "        print(f\"짖었습니다. {self.name}의 배고픔이 {self.__hungry}(으)로 증가하고, 화남이 {self.angry}(으)로 증가했습니다.\")\n",
        "\n",
        "    def get_hungry(self):\n",
        "        self.__hungry = hungry\n",
        "\n",
        "    def __str__(self): # __str__ 메소드 재정의\n",
        "        return \"< Dog: %s>\" % self.name\n",
        "\n",
        "    def __repr__(self): # __repr__ 메소드 재정의\n",
        "        return \"< Dog: %s>\" % self.name"
      ]
    },
    {
      "cell_type": "code",
      "execution_count": null,
      "metadata": {
        "id": "upiwd15i68fU"
      },
      "outputs": [],
      "source": [
        "choco = Dog(\"choco\", \"black\")\n",
        "jjong = Dog(\"jjong\", \"white\")"
      ]
    },
    {
      "cell_type": "code",
      "execution_count": null,
      "metadata": {
        "id": "4iSUZ0Xf68fU",
        "outputId": "4f04413f-1fe9-47e1-a0d3-0aab8543db1f"
      },
      "outputs": [
        {
          "name": "stdout",
          "output_type": "stream",
          "text": [
            "[< Dog: choco>, < Dog: jjong>]\n",
            "2\n",
            "3\n"
          ]
        }
      ],
      "source": [
        "# 클래스 속성 확인\n",
        "print(Dog.dog_list)\n",
        "print(Dog.count)\n",
        "\n",
        "ruby = Dog(\"ruby\", \"black brown\")\n",
        "print(Dog.count)"
      ]
    },
    {
      "cell_type": "code",
      "execution_count": null,
      "metadata": {
        "id": "4OJjjL8M68fV",
        "outputId": "95263888-f7fc-4cbf-9fed-7283c6c61d5d"
      },
      "outputs": [
        {
          "data": {
            "text/plain": [
              "('choco', 'white')"
            ]
          },
          "execution_count": 22,
          "metadata": {},
          "output_type": "execute_result"
        }
      ],
      "source": [
        "Dog.dog_list[0].name, Dog.dog_list[1].color"
      ]
    },
    {
      "cell_type": "code",
      "execution_count": null,
      "metadata": {
        "id": "MulA8HB868fW",
        "outputId": "84a73a8e-a432-4786-f686-b11cbacc2f4a"
      },
      "outputs": [
        {
          "name": "stdout",
          "output_type": "stream",
          "text": [
            "멍멍! 동물의 숲에 오신 것을 환영합니다.\n"
          ]
        }
      ],
      "source": [
        "Dog.intro()"
      ]
    },
    {
      "cell_type": "code",
      "execution_count": null,
      "metadata": {
        "id": "wTyOoMkX68fX",
        "outputId": "77949c67-554b-4049-d2c8-4900e4619244"
      },
      "outputs": [
        {
          "data": {
            "text/plain": [
              "3"
            ]
          },
          "execution_count": 24,
          "metadata": {},
          "output_type": "execute_result"
        }
      ],
      "source": [
        "Dog.get_dog_count()"
      ]
    },
    {
      "cell_type": "code",
      "execution_count": null,
      "metadata": {
        "id": "9bMjKNsv68fZ"
      },
      "outputs": [],
      "source": []
    },
    {
      "cell_type": "markdown",
      "metadata": {
        "id": "DsWM8hIm68fZ"
      },
      "source": [
        "<연습문제>\n",
        "\n",
        "다음의 조건을 만족하는 Car 클래스를 만드세요\n",
        "- 객체 생성시 차이름, 배기량, 생산년도 입력받으세요. /\n",
        "    - 객체 생성시 등록된 차이름, 배기량, 생산년도는 직접 변경하지 못합니다/\n",
        "- 차 이름을 변경하는 함수를 만드세요/\n",
        "- 배기량에 따라\n",
        "    - 1000CC 이하 소형\n",
        "    - 1000CC 이상 2000CC 이하 중형\n",
        "    - 2000CC 이상 대형\n",
        "- 을 출력하는 함수를 만드세요\n",
        "\n",
        "- 객체 생성시마다 등록된 차량 갯수를 기록해주세요\n",
        "- 총 등록된 차량개수를 출력하는 클래스 함수를 만드세요\n",
        "\n"
      ]
    },
    {
      "cell_type": "markdown",
      "metadata": {
        "id": "jLR7gXKt68fa"
      },
      "source": [
        "## 오답!\n",
        "\n",
        " 클래스 메소드로 써야 한다."
      ]
    },
    {
      "cell_type": "code",
      "execution_count": null,
      "metadata": {
        "id": "fMGs4a_A68fa"
      },
      "outputs": [],
      "source": [
        "class Car:\n",
        "\n",
        "    num_of_cars = 0\n",
        "\n",
        "    def __init__(self, name, displacement, year):\n",
        "        self.__name = name\n",
        "        self.__displacement = displacement\n",
        "        self.__year = year\n",
        "\n",
        "        num_of_cars += 1\n",
        "\n",
        "    def rename(self, new_name):\n",
        "        self.__name = new_name\n",
        "\n",
        "    def size(self):\n",
        "        if self.__displacement >= 2000:\n",
        "            print(\"대형\")\n",
        "        elif self.__displacement >= 1000:\n",
        "            print(\"중형\")\n",
        "        else:\n",
        "            print(\"소형\")\n",
        "\n",
        "    def how_many(self): # class 메소드로 해야 함\n",
        "        print(num_of_cars)"
      ]
    },
    {
      "cell_type": "code",
      "execution_count": null,
      "metadata": {
        "id": "KVH0Eycn68fb",
        "outputId": "c698e9e7-93db-4928-8a4a-9c50ba5e4ab8"
      },
      "outputs": [
        {
          "ename": "UnboundLocalError",
          "evalue": "local variable 'num_of_cars' referenced before assignment",
          "output_type": "error",
          "traceback": [
            "\u001b[1;31m---------------------------------------------------------------------------\u001b[0m",
            "\u001b[1;31mUnboundLocalError\u001b[0m                         Traceback (most recent call last)",
            "\u001b[1;32m<ipython-input-26-eaa396d9e2da>\u001b[0m in \u001b[0;36m<module>\u001b[1;34m\u001b[0m\n\u001b[1;32m----> 1\u001b[1;33m \u001b[0mmalibu\u001b[0m \u001b[1;33m=\u001b[0m \u001b[0mCar\u001b[0m\u001b[1;33m(\u001b[0m\u001b[1;34m\"말리부\"\u001b[0m\u001b[1;33m,\u001b[0m \u001b[1;36m1000\u001b[0m\u001b[1;33m,\u001b[0m \u001b[1;36m2001\u001b[0m\u001b[1;33m)\u001b[0m\u001b[1;33m\u001b[0m\u001b[1;33m\u001b[0m\u001b[0m\n\u001b[0m\u001b[0;32m      2\u001b[0m \u001b[0msonata\u001b[0m \u001b[1;33m=\u001b[0m \u001b[0mCar\u001b[0m\u001b[1;33m(\u001b[0m\u001b[1;34m\"소나타\"\u001b[0m\u001b[1;33m,\u001b[0m \u001b[1;36m2000\u001b[0m\u001b[1;33m,\u001b[0m \u001b[1;36m2011\u001b[0m\u001b[1;33m)\u001b[0m\u001b[1;33m\u001b[0m\u001b[1;33m\u001b[0m\u001b[0m\n\u001b[0;32m      3\u001b[0m \u001b[0msonata\u001b[0m\u001b[1;33m.\u001b[0m\u001b[0mhow_many\u001b[0m\u001b[1;33m(\u001b[0m\u001b[1;33m)\u001b[0m\u001b[1;33m\u001b[0m\u001b[1;33m\u001b[0m\u001b[0m\n",
            "\u001b[1;32m<ipython-input-25-b08ca052330a>\u001b[0m in \u001b[0;36m__init__\u001b[1;34m(self, name, displacement, year)\u001b[0m\n\u001b[0;32m      8\u001b[0m         \u001b[0mself\u001b[0m\u001b[1;33m.\u001b[0m\u001b[0m__year\u001b[0m \u001b[1;33m=\u001b[0m \u001b[0myear\u001b[0m\u001b[1;33m\u001b[0m\u001b[1;33m\u001b[0m\u001b[0m\n\u001b[0;32m      9\u001b[0m \u001b[1;33m\u001b[0m\u001b[0m\n\u001b[1;32m---> 10\u001b[1;33m         \u001b[0mnum_of_cars\u001b[0m \u001b[1;33m+=\u001b[0m \u001b[1;36m1\u001b[0m\u001b[1;33m\u001b[0m\u001b[1;33m\u001b[0m\u001b[0m\n\u001b[0m\u001b[0;32m     11\u001b[0m \u001b[1;33m\u001b[0m\u001b[0m\n\u001b[0;32m     12\u001b[0m     \u001b[1;32mdef\u001b[0m \u001b[0mrename\u001b[0m\u001b[1;33m(\u001b[0m\u001b[0mself\u001b[0m\u001b[1;33m,\u001b[0m \u001b[0mnew_name\u001b[0m\u001b[1;33m)\u001b[0m\u001b[1;33m:\u001b[0m\u001b[1;33m\u001b[0m\u001b[1;33m\u001b[0m\u001b[0m\n",
            "\u001b[1;31mUnboundLocalError\u001b[0m: local variable 'num_of_cars' referenced before assignment"
          ]
        }
      ],
      "source": [
        "malibu = Car(\"말리부\", 1000, 2001)\n",
        "sonata = Car(\"소나타\", 2000, 2011)\n",
        "sonata.how_many()"
      ]
    },
    {
      "cell_type": "markdown",
      "metadata": {
        "id": "7nEIUS8O68fc"
      },
      "source": [
        "## 수정!"
      ]
    },
    {
      "cell_type": "code",
      "execution_count": null,
      "metadata": {
        "id": "tbR5kmQT68fc"
      },
      "outputs": [],
      "source": [
        "class Car:\n",
        "\n",
        "    num_of_cars = 0\n",
        "\n",
        "    def __init__(self, name, displacement, year):\n",
        "        self.__name = name\n",
        "        self.__displacement = displacement\n",
        "        self.__year = year\n",
        "\n",
        "        Car.num_of_cars += 1\n",
        "\n",
        "    def rename(self, new_name):\n",
        "        self.__name = new_name\n",
        "\n",
        "    def size(self):\n",
        "        if self.__displacement >= 2000:\n",
        "            print(\"대형\")\n",
        "        elif self.__displacement >= 1000:\n",
        "            print(\"중형\")\n",
        "        else:\n",
        "            print(\"소형\")\n",
        "\n",
        "    @classmethod\n",
        "    def how_many(cls): # class 메소드로 해야 함\n",
        "        print(cls.num_of_cars)\n",
        "        return cls.num_of_cars"
      ]
    },
    {
      "cell_type": "code",
      "execution_count": null,
      "metadata": {
        "id": "pC0Fe54O68fd",
        "outputId": "c88f022a-db23-40cb-ab65-e4f7bf4c9f81"
      },
      "outputs": [
        {
          "name": "stdout",
          "output_type": "stream",
          "text": [
            "1\n"
          ]
        },
        {
          "data": {
            "text/plain": [
              "1"
            ]
          },
          "execution_count": 28,
          "metadata": {},
          "output_type": "execute_result"
        }
      ],
      "source": [
        "car = Car('sonata', 1000, '1996')\n",
        "car.how_many()"
      ]
    },
    {
      "cell_type": "markdown",
      "metadata": {
        "id": "7pzUg4oC68fe"
      },
      "source": [
        "< 추가 >\n",
        "\n",
        "- 객체의 이름과 배기량, 생산 연도를 반환하는 get 함수를 만드세요.\n",
        "- speed라는 인스턴스 속성 만드시고, excel이라는 메소드가 speed를 증가시키고, break_라는 메소드는 speed를 감소시키도록 하세요."
      ]
    },
    {
      "cell_type": "code",
      "execution_count": null,
      "metadata": {
        "id": "3aBSimBh68fe"
      },
      "outputs": [],
      "source": [
        "class Car:\n",
        "\n",
        "    num_of_cars = 0\n",
        "\n",
        "    def __init__(self, name, displacement, year, speed):\n",
        "        self.__name = name\n",
        "        self.__displacement = displacement\n",
        "        self.__year = year\n",
        "        self.speed = speed\n",
        "\n",
        "        Car.num_of_cars += 1\n",
        "\n",
        "    def rename(self, new_name):\n",
        "        self.__name = new_name\n",
        "\n",
        "    def size(self):\n",
        "        if self.__displacement >= 2000:\n",
        "            print(\"대형\")\n",
        "        elif self.__displacement >= 1000:\n",
        "            print(\"중형\")\n",
        "        else:\n",
        "            print(\"소형\")\n",
        "\n",
        "    @classmethod\n",
        "    def how_many(cls): # class 메소드로 해야 함\n",
        "        print(cls.num_of_cars)\n",
        "        return cls.num_of_cars\n",
        "\n",
        "    def get(self):\n",
        "        return self.__name, self.__displacement, self.__year\n",
        "\n",
        "    def excel_(self):\n",
        "        self.speed += 1\n",
        "        return self.speed\n",
        "\n",
        "    def break_(self):\n",
        "        self.speed -= 1\n",
        "        return self.speed"
      ]
    },
    {
      "cell_type": "code",
      "execution_count": null,
      "metadata": {
        "id": "tIwH_URT68ff",
        "outputId": "539bf817-5674-4928-a412-1aa03df65fad"
      },
      "outputs": [
        {
          "name": "stdout",
          "output_type": "stream",
          "text": [
            "1\n"
          ]
        },
        {
          "data": {
            "text/plain": [
              "1"
            ]
          },
          "execution_count": 36,
          "metadata": {},
          "output_type": "execute_result"
        }
      ],
      "source": [
        "malibu = Car('malibu', 2000, '2006', 100)\n",
        "malibu.how_many()"
      ]
    },
    {
      "cell_type": "code",
      "execution_count": null,
      "metadata": {
        "id": "JRaJHNqV68fg",
        "outputId": "cc7f163f-2f66-4ec8-b13c-f158fff6ec8b"
      },
      "outputs": [
        {
          "data": {
            "text/plain": [
              "('malibu', 2000, '2006')"
            ]
          },
          "execution_count": 37,
          "metadata": {},
          "output_type": "execute_result"
        }
      ],
      "source": [
        "malibu.get()"
      ]
    },
    {
      "cell_type": "code",
      "execution_count": null,
      "metadata": {
        "id": "gh4qPKqm68fg",
        "outputId": "710efb87-5d70-422e-e2e5-a013c1f5ec4b"
      },
      "outputs": [
        {
          "name": "stdout",
          "output_type": "stream",
          "text": [
            "102\n"
          ]
        }
      ],
      "source": [
        "malibu.excel_()\n",
        "malibu.excel_()\n",
        "print(malibu.speed)"
      ]
    },
    {
      "cell_type": "code",
      "execution_count": null,
      "metadata": {
        "id": "69zpuGXA68fh",
        "outputId": "d5216d42-e83f-4f80-c41c-3fb420c68751"
      },
      "outputs": [
        {
          "name": "stdout",
          "output_type": "stream",
          "text": [
            "100\n"
          ]
        }
      ],
      "source": [
        "malibu.break_()\n",
        "malibu.break_()\n",
        "print(malibu.speed)"
      ]
    },
    {
      "cell_type": "code",
      "execution_count": null,
      "metadata": {
        "id": "qFxCzm8I68fh"
      },
      "outputs": [],
      "source": []
    },
    {
      "cell_type": "markdown",
      "metadata": {
        "id": "VQJ_e8h968fi"
      },
      "source": [
        "# 메소드 오버라이딩\n",
        "- object 무엇?"
      ]
    },
    {
      "cell_type": "code",
      "execution_count": null,
      "metadata": {
        "id": "LUc60kYf68fi"
      },
      "outputs": [],
      "source": [
        "# 동물 클래스 생성\n",
        "class Animal(object):\n",
        "    def __init__(self):\n",
        "        self.hungry = 0\n",
        "\n",
        "    def eat(self):\n",
        "        self.hungry -= 10\n",
        "        print(\"밥 먹음\", self.hungry)\n",
        "\n",
        "    def walk(self):\n",
        "        self.hungry += 10\n",
        "        print(\"산책함\", self.hungry)"
      ]
    },
    {
      "cell_type": "code",
      "execution_count": null,
      "metadata": {
        "id": "kXp1_NGx68fi"
      },
      "outputs": [],
      "source": [
        "# Animal 상속한 Dog 클래스 생성\n",
        "class Dog(Animal):\n",
        "    def __init__(self):\n",
        "        super().__init__() # 상위 클래스인 Animal의 생성자 상속\n",
        "\n",
        "    def bark(self):\n",
        "        print(\"멍멍\")\n",
        "\n",
        "    def walk(self): # 상위 클래스 메소드 오버라이딩\n",
        "        self.hungry += 20\n",
        "        print(\"산책산책산책\", self.hungry)"
      ]
    },
    {
      "cell_type": "code",
      "execution_count": null,
      "metadata": {
        "id": "diCI92dr68fj",
        "outputId": "d9a6a23c-cab6-4d48-c7a8-da0da780b4cd"
      },
      "outputs": [
        {
          "name": "stdout",
          "output_type": "stream",
          "text": [
            "밥 먹음 -10\n",
            "산책함 0\n"
          ]
        }
      ],
      "source": [
        "myAnimal = Animal()\n",
        "myAnimal.eat()\n",
        "myAnimal.walk()"
      ]
    },
    {
      "cell_type": "code",
      "execution_count": null,
      "metadata": {
        "id": "7O6Dz2rb68fl",
        "outputId": "ba200b50-df3c-4c79-9393-09293d0f4f5c"
      },
      "outputs": [
        {
          "name": "stdout",
          "output_type": "stream",
          "text": [
            "밥 먹음 -10\n",
            "산책산책산책 10\n"
          ]
        }
      ],
      "source": [
        "doggy = Dog()\n",
        "doggy.eat()\n",
        "doggy.walk() # 오버라이딩한 메소드가 바뀌어 있음을 확인."
      ]
    },
    {
      "cell_type": "code",
      "execution_count": null,
      "metadata": {
        "id": "CTCEXLIO68fm",
        "outputId": "949a4165-e201-43ed-bfd8-862337719bd6"
      },
      "outputs": [
        {
          "name": "stdout",
          "output_type": "stream",
          "text": [
            "멍멍\n"
          ]
        },
        {
          "ename": "NameError",
          "evalue": "name 'animal' is not defined",
          "output_type": "error",
          "traceback": [
            "\u001b[1;31m---------------------------------------------------------------------------\u001b[0m",
            "\u001b[1;31mNameError\u001b[0m                                 Traceback (most recent call last)",
            "\u001b[1;32m<ipython-input-52-46c84662d028>\u001b[0m in \u001b[0;36m<module>\u001b[1;34m\u001b[0m\n\u001b[0;32m      1\u001b[0m \u001b[0mdoggy\u001b[0m\u001b[1;33m.\u001b[0m\u001b[0msound\u001b[0m\u001b[1;33m(\u001b[0m\u001b[1;33m)\u001b[0m\u001b[1;33m\u001b[0m\u001b[1;33m\u001b[0m\u001b[0m\n\u001b[1;32m----> 2\u001b[1;33m \u001b[0manimal\u001b[0m\u001b[1;33m.\u001b[0m\u001b[0msound\u001b[0m\u001b[1;33m(\u001b[0m\u001b[1;33m)\u001b[0m \u001b[1;31m# 부모 클래스이므로 자식 클래스의 메소드 없음.\u001b[0m\u001b[1;33m\u001b[0m\u001b[1;33m\u001b[0m\u001b[0m\n\u001b[0m",
            "\u001b[1;31mNameError\u001b[0m: name 'animal' is not defined"
          ]
        }
      ],
      "source": [
        "doggy.bark()\n",
        "animal.bark() # 부모 클래스이므로 자식 클래스의 메소드 없음."
      ]
    },
    {
      "cell_type": "code",
      "execution_count": null,
      "metadata": {
        "id": "LraytBFE68fm"
      },
      "outputs": [],
      "source": [
        "# Animal 상속하는 다른 클래스\n",
        "class Cat(Animal):\n",
        "    def __init__(self):\n",
        "        super().__init__()\n",
        "\n",
        "    def sound(self):\n",
        "        print(\"야옹\")"
      ]
    },
    {
      "cell_type": "code",
      "execution_count": null,
      "metadata": {
        "id": "s55hIyPA68fn",
        "outputId": "9817d91f-dcde-4429-fe4f-e16d68348a4b"
      },
      "outputs": [
        {
          "name": "stdout",
          "output_type": "stream",
          "text": [
            "밥 먹음 -10\n",
            "산책함 0\n",
            "야옹\n"
          ]
        },
        {
          "ename": "AttributeError",
          "evalue": "'Cat' object has no attribute 'bark'",
          "output_type": "error",
          "traceback": [
            "\u001b[1;31m---------------------------------------------------------------------------\u001b[0m",
            "\u001b[1;31mAttributeError\u001b[0m                            Traceback (most recent call last)",
            "\u001b[1;32m<ipython-input-54-54f301e050de>\u001b[0m in \u001b[0;36m<module>\u001b[1;34m\u001b[0m\n\u001b[0;32m      3\u001b[0m \u001b[0mruby\u001b[0m\u001b[1;33m.\u001b[0m\u001b[0mwalk\u001b[0m\u001b[1;33m(\u001b[0m\u001b[1;33m)\u001b[0m\u001b[1;33m\u001b[0m\u001b[1;33m\u001b[0m\u001b[0m\n\u001b[0;32m      4\u001b[0m \u001b[0mruby\u001b[0m\u001b[1;33m.\u001b[0m\u001b[0msound\u001b[0m\u001b[1;33m(\u001b[0m\u001b[1;33m)\u001b[0m\u001b[1;33m\u001b[0m\u001b[1;33m\u001b[0m\u001b[0m\n\u001b[1;32m----> 5\u001b[1;33m \u001b[0mruby\u001b[0m\u001b[1;33m.\u001b[0m\u001b[0mbark\u001b[0m\u001b[1;33m(\u001b[0m\u001b[1;33m)\u001b[0m\u001b[1;33m\u001b[0m\u001b[1;33m\u001b[0m\u001b[0m\n\u001b[0m",
            "\u001b[1;31mAttributeError\u001b[0m: 'Cat' object has no attribute 'bark'"
          ]
        }
      ],
      "source": [
        "ruby = Cat()\n",
        "ruby.eat()\n",
        "ruby.walk()\n",
        "ruby.sound()\n",
        "ruby.bark()"
      ]
    },
    {
      "cell_type": "code",
      "execution_count": null,
      "metadata": {
        "id": "fHwefhKD68fo"
      },
      "outputs": [],
      "source": []
    },
    {
      "cell_type": "code",
      "execution_count": null,
      "metadata": {
        "id": "PZ2Ktc8m68fo"
      },
      "outputs": [],
      "source": []
    },
    {
      "cell_type": "code",
      "execution_count": null,
      "metadata": {
        "id": "w-mewWvA68fp"
      },
      "outputs": [],
      "source": []
    },
    {
      "cell_type": "code",
      "execution_count": null,
      "metadata": {
        "id": "UOvuSSaQ68fp"
      },
      "outputs": [],
      "source": []
    },
    {
      "cell_type": "code",
      "execution_count": null,
      "metadata": {
        "id": "DBYuJ-1968fp"
      },
      "outputs": [],
      "source": []
    }
  ],
  "metadata": {
    "kernelspec": {
      "display_name": "Python 3",
      "language": "python",
      "name": "python3"
    },
    "language_info": {
      "codemirror_mode": {
        "name": "ipython",
        "version": 3
      },
      "file_extension": ".py",
      "mimetype": "text/x-python",
      "name": "python",
      "nbconvert_exporter": "python",
      "pygments_lexer": "ipython3",
      "version": "3.7.7"
    },
    "colab": {
      "provenance": [],
      "include_colab_link": true
    }
  },
  "nbformat": 4,
  "nbformat_minor": 0
}